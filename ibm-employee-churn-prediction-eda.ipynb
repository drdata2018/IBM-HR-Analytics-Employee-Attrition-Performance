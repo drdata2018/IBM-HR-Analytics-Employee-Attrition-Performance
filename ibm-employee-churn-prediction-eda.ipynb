{
 "cells": [
  {
   "cell_type": "markdown",
   "id": "24979395",
   "metadata": {
    "papermill": {
     "duration": 0.014547,
     "end_time": "2022-07-28T14:15:04.390447",
     "exception": false,
     "start_time": "2022-07-28T14:15:04.375900",
     "status": "completed"
    },
    "tags": []
   },
   "source": [
    "# Introduction"
   ]
  },
  {
   "cell_type": "markdown",
   "id": "e6e405c4",
   "metadata": {
    "papermill": {
     "duration": 0.013226,
     "end_time": "2022-07-28T14:15:04.417408",
     "exception": false,
     "start_time": "2022-07-28T14:15:04.404182",
     "status": "completed"
    },
    "tags": []
   },
   "source": [
    "**This is a dataset created by IBM data scientists to analyze the factors that lead to employee attrition. In this notebook, we will be building a system that predicts employee attrition. First, we will do some preprocessing, exploratory data analysis and then we will build and compare 3 different classification models. There will be comments every step of the way so there is a clear understanding.**"
   ]
  },
  {
   "cell_type": "markdown",
   "id": "c145d537",
   "metadata": {
    "papermill": {
     "duration": 0.014217,
     "end_time": "2022-07-28T14:15:04.445031",
     "exception": false,
     "start_time": "2022-07-28T14:15:04.430814",
     "status": "completed"
    },
    "tags": []
   },
   "source": [
    "# Importing Libraries and Dataset"
   ]
  },
  {
   "cell_type": "code",
   "execution_count": 67,
   "id": "3a769b22",
   "metadata": {
    "_cell_guid": "b1076dfc-b9ad-4769-8c92-a6c4dae69d19",
    "_uuid": "8f2839f25d086af736a60e9eeb907d3b93b6e0e5",
    "execution": {
     "iopub.execute_input": "2022-07-28T14:15:04.474456Z",
     "iopub.status.busy": "2022-07-28T14:15:04.473976Z",
     "iopub.status.idle": "2022-07-28T14:15:06.251365Z",
     "shell.execute_reply": "2022-07-28T14:15:06.250202Z"
    },
    "papermill": {
     "duration": 1.795526,
     "end_time": "2022-07-28T14:15:06.254365",
     "exception": false,
     "start_time": "2022-07-28T14:15:04.458839",
     "status": "completed"
    },
    "tags": []
   },
   "outputs": [],
   "source": [
    "import numpy as np\n",
    "import pandas as pd\n",
    "import matplotlib.pyplot as plt\n",
    "import seaborn as sns\n",
    "sns.set()\n",
    "\n",
    "from itertools import cycle\n",
    "import plotly.graph_objects as go\n",
    "import plotly.express as px\n",
    "import plotly.subplots as sp\n",
    "\n",
    "from sklearn import preprocessing\n",
    "from sklearn.preprocessing import StandardScaler\n",
    "from sklearn.model_selection import train_test_split\n",
    "from sklearn.linear_model import LogisticRegression\n",
    "from sklearn import svm\n",
    "from sklearn.ensemble import RandomForestClassifier\n",
    "from sklearn import model_selection\n",
    "from sklearn.metrics import accuracy_score"
   ]
  },
  {
   "cell_type": "code",
   "execution_count": 68,
   "id": "53b2f0f1",
   "metadata": {
    "execution": {
     "iopub.execute_input": "2022-07-28T14:15:06.283531Z",
     "iopub.status.busy": "2022-07-28T14:15:06.282936Z",
     "iopub.status.idle": "2022-07-28T14:15:06.348906Z",
     "shell.execute_reply": "2022-07-28T14:15:06.347541Z"
    },
    "papermill": {
     "duration": 0.083443,
     "end_time": "2022-07-28T14:15:06.351261",
     "exception": false,
     "start_time": "2022-07-28T14:15:06.267818",
     "status": "completed"
    },
    "tags": []
   },
   "outputs": [
    {
     "data": {
      "text/html": [
       "<div>\n",
       "<style scoped>\n",
       "    .dataframe tbody tr th:only-of-type {\n",
       "        vertical-align: middle;\n",
       "    }\n",
       "\n",
       "    .dataframe tbody tr th {\n",
       "        vertical-align: top;\n",
       "    }\n",
       "\n",
       "    .dataframe thead th {\n",
       "        text-align: right;\n",
       "    }\n",
       "</style>\n",
       "<table border=\"1\" class=\"dataframe\">\n",
       "  <thead>\n",
       "    <tr style=\"text-align: right;\">\n",
       "      <th></th>\n",
       "      <th>Age</th>\n",
       "      <th>Attrition</th>\n",
       "      <th>BusinessTravel</th>\n",
       "      <th>DailyRate</th>\n",
       "      <th>Department</th>\n",
       "      <th>DistanceFromHome</th>\n",
       "      <th>Education</th>\n",
       "      <th>EducationField</th>\n",
       "      <th>EmployeeCount</th>\n",
       "      <th>EmployeeNumber</th>\n",
       "      <th>...</th>\n",
       "      <th>RelationshipSatisfaction</th>\n",
       "      <th>StandardHours</th>\n",
       "      <th>StockOptionLevel</th>\n",
       "      <th>TotalWorkingYears</th>\n",
       "      <th>TrainingTimesLastYear</th>\n",
       "      <th>WorkLifeBalance</th>\n",
       "      <th>YearsAtCompany</th>\n",
       "      <th>YearsInCurrentRole</th>\n",
       "      <th>YearsSinceLastPromotion</th>\n",
       "      <th>YearsWithCurrManager</th>\n",
       "    </tr>\n",
       "  </thead>\n",
       "  <tbody>\n",
       "    <tr>\n",
       "      <th>0</th>\n",
       "      <td>41</td>\n",
       "      <td>Yes</td>\n",
       "      <td>Travel_Rarely</td>\n",
       "      <td>1102</td>\n",
       "      <td>Sales</td>\n",
       "      <td>1</td>\n",
       "      <td>2</td>\n",
       "      <td>Life Sciences</td>\n",
       "      <td>1</td>\n",
       "      <td>1</td>\n",
       "      <td>...</td>\n",
       "      <td>1</td>\n",
       "      <td>80</td>\n",
       "      <td>0</td>\n",
       "      <td>8</td>\n",
       "      <td>0</td>\n",
       "      <td>1</td>\n",
       "      <td>6</td>\n",
       "      <td>4</td>\n",
       "      <td>0</td>\n",
       "      <td>5</td>\n",
       "    </tr>\n",
       "    <tr>\n",
       "      <th>1</th>\n",
       "      <td>49</td>\n",
       "      <td>No</td>\n",
       "      <td>Travel_Frequently</td>\n",
       "      <td>279</td>\n",
       "      <td>Research &amp; Development</td>\n",
       "      <td>8</td>\n",
       "      <td>1</td>\n",
       "      <td>Life Sciences</td>\n",
       "      <td>1</td>\n",
       "      <td>2</td>\n",
       "      <td>...</td>\n",
       "      <td>4</td>\n",
       "      <td>80</td>\n",
       "      <td>1</td>\n",
       "      <td>10</td>\n",
       "      <td>3</td>\n",
       "      <td>3</td>\n",
       "      <td>10</td>\n",
       "      <td>7</td>\n",
       "      <td>1</td>\n",
       "      <td>7</td>\n",
       "    </tr>\n",
       "    <tr>\n",
       "      <th>2</th>\n",
       "      <td>37</td>\n",
       "      <td>Yes</td>\n",
       "      <td>Travel_Rarely</td>\n",
       "      <td>1373</td>\n",
       "      <td>Research &amp; Development</td>\n",
       "      <td>2</td>\n",
       "      <td>2</td>\n",
       "      <td>Other</td>\n",
       "      <td>1</td>\n",
       "      <td>4</td>\n",
       "      <td>...</td>\n",
       "      <td>2</td>\n",
       "      <td>80</td>\n",
       "      <td>0</td>\n",
       "      <td>7</td>\n",
       "      <td>3</td>\n",
       "      <td>3</td>\n",
       "      <td>0</td>\n",
       "      <td>0</td>\n",
       "      <td>0</td>\n",
       "      <td>0</td>\n",
       "    </tr>\n",
       "    <tr>\n",
       "      <th>3</th>\n",
       "      <td>33</td>\n",
       "      <td>No</td>\n",
       "      <td>Travel_Frequently</td>\n",
       "      <td>1392</td>\n",
       "      <td>Research &amp; Development</td>\n",
       "      <td>3</td>\n",
       "      <td>4</td>\n",
       "      <td>Life Sciences</td>\n",
       "      <td>1</td>\n",
       "      <td>5</td>\n",
       "      <td>...</td>\n",
       "      <td>3</td>\n",
       "      <td>80</td>\n",
       "      <td>0</td>\n",
       "      <td>8</td>\n",
       "      <td>3</td>\n",
       "      <td>3</td>\n",
       "      <td>8</td>\n",
       "      <td>7</td>\n",
       "      <td>3</td>\n",
       "      <td>0</td>\n",
       "    </tr>\n",
       "    <tr>\n",
       "      <th>4</th>\n",
       "      <td>27</td>\n",
       "      <td>No</td>\n",
       "      <td>Travel_Rarely</td>\n",
       "      <td>591</td>\n",
       "      <td>Research &amp; Development</td>\n",
       "      <td>2</td>\n",
       "      <td>1</td>\n",
       "      <td>Medical</td>\n",
       "      <td>1</td>\n",
       "      <td>7</td>\n",
       "      <td>...</td>\n",
       "      <td>4</td>\n",
       "      <td>80</td>\n",
       "      <td>1</td>\n",
       "      <td>6</td>\n",
       "      <td>3</td>\n",
       "      <td>3</td>\n",
       "      <td>2</td>\n",
       "      <td>2</td>\n",
       "      <td>2</td>\n",
       "      <td>2</td>\n",
       "    </tr>\n",
       "  </tbody>\n",
       "</table>\n",
       "<p>5 rows × 35 columns</p>\n",
       "</div>"
      ],
      "text/plain": [
       "   Age Attrition     BusinessTravel  DailyRate              Department  \\\n",
       "0   41       Yes      Travel_Rarely       1102                   Sales   \n",
       "1   49        No  Travel_Frequently        279  Research & Development   \n",
       "2   37       Yes      Travel_Rarely       1373  Research & Development   \n",
       "3   33        No  Travel_Frequently       1392  Research & Development   \n",
       "4   27        No      Travel_Rarely        591  Research & Development   \n",
       "\n",
       "   DistanceFromHome  Education EducationField  EmployeeCount  EmployeeNumber  \\\n",
       "0                 1          2  Life Sciences              1               1   \n",
       "1                 8          1  Life Sciences              1               2   \n",
       "2                 2          2          Other              1               4   \n",
       "3                 3          4  Life Sciences              1               5   \n",
       "4                 2          1        Medical              1               7   \n",
       "\n",
       "   ...  RelationshipSatisfaction StandardHours  StockOptionLevel  \\\n",
       "0  ...                         1            80                 0   \n",
       "1  ...                         4            80                 1   \n",
       "2  ...                         2            80                 0   \n",
       "3  ...                         3            80                 0   \n",
       "4  ...                         4            80                 1   \n",
       "\n",
       "   TotalWorkingYears  TrainingTimesLastYear WorkLifeBalance  YearsAtCompany  \\\n",
       "0                  8                      0               1               6   \n",
       "1                 10                      3               3              10   \n",
       "2                  7                      3               3               0   \n",
       "3                  8                      3               3               8   \n",
       "4                  6                      3               3               2   \n",
       "\n",
       "  YearsInCurrentRole  YearsSinceLastPromotion  YearsWithCurrManager  \n",
       "0                  4                        0                     5  \n",
       "1                  7                        1                     7  \n",
       "2                  0                        0                     0  \n",
       "3                  7                        3                     0  \n",
       "4                  2                        2                     2  \n",
       "\n",
       "[5 rows x 35 columns]"
      ]
     },
     "execution_count": 68,
     "metadata": {},
     "output_type": "execute_result"
    }
   ],
   "source": [
    "employee_data = pd.read_csv(\"WA_Fn-UseC_-HR-Employee-Attrition.csv\")\n",
    "employee_data.head()"
   ]
  },
  {
   "cell_type": "markdown",
   "id": "2b122c15",
   "metadata": {
    "papermill": {
     "duration": 0.015045,
     "end_time": "2022-07-28T14:15:06.380306",
     "exception": false,
     "start_time": "2022-07-28T14:15:06.365261",
     "status": "completed"
    },
    "tags": []
   },
   "source": [
    "# Data Cleaning & Preprocessing"
   ]
  },
  {
   "cell_type": "code",
   "execution_count": 69,
   "id": "3ac0423f",
   "metadata": {
    "execution": {
     "iopub.execute_input": "2022-07-28T14:15:06.411441Z",
     "iopub.status.busy": "2022-07-28T14:15:06.411033Z",
     "iopub.status.idle": "2022-07-28T14:15:06.423579Z",
     "shell.execute_reply": "2022-07-28T14:15:06.422579Z"
    },
    "papermill": {
     "duration": 0.030798,
     "end_time": "2022-07-28T14:15:06.425842",
     "exception": false,
     "start_time": "2022-07-28T14:15:06.395044",
     "status": "completed"
    },
    "tags": []
   },
   "outputs": [
    {
     "data": {
      "text/plain": [
       "Age                         0\n",
       "Attrition                   0\n",
       "BusinessTravel              0\n",
       "DailyRate                   0\n",
       "Department                  0\n",
       "DistanceFromHome            0\n",
       "Education                   0\n",
       "EducationField              0\n",
       "EmployeeCount               0\n",
       "EmployeeNumber              0\n",
       "EnvironmentSatisfaction     0\n",
       "Gender                      0\n",
       "HourlyRate                  0\n",
       "JobInvolvement              0\n",
       "JobLevel                    0\n",
       "JobRole                     0\n",
       "JobSatisfaction             0\n",
       "MaritalStatus               0\n",
       "MonthlyIncome               0\n",
       "MonthlyRate                 0\n",
       "NumCompaniesWorked          0\n",
       "Over18                      0\n",
       "OverTime                    0\n",
       "PercentSalaryHike           0\n",
       "PerformanceRating           0\n",
       "RelationshipSatisfaction    0\n",
       "StandardHours               0\n",
       "StockOptionLevel            0\n",
       "TotalWorkingYears           0\n",
       "TrainingTimesLastYear       0\n",
       "WorkLifeBalance             0\n",
       "YearsAtCompany              0\n",
       "YearsInCurrentRole          0\n",
       "YearsSinceLastPromotion     0\n",
       "YearsWithCurrManager        0\n",
       "dtype: int64"
      ]
     },
     "execution_count": 69,
     "metadata": {},
     "output_type": "execute_result"
    }
   ],
   "source": [
    "employee_data.isnull().sum()"
   ]
  },
  {
   "cell_type": "markdown",
   "id": "e3fff555",
   "metadata": {
    "papermill": {
     "duration": 0.013854,
     "end_time": "2022-07-28T14:15:06.453937",
     "exception": false,
     "start_time": "2022-07-28T14:15:06.440083",
     "status": "completed"
    },
    "tags": []
   },
   "source": [
    "**There are no missing values in this dataset.**"
   ]
  },
  {
   "cell_type": "markdown",
   "id": "125baeba",
   "metadata": {
    "papermill": {
     "duration": 0.015831,
     "end_time": "2022-07-28T14:15:06.483848",
     "exception": false,
     "start_time": "2022-07-28T14:15:06.468017",
     "status": "completed"
    },
    "tags": []
   },
   "source": [
    "# Exploratory Data Analysis"
   ]
  },
  {
   "cell_type": "code",
   "execution_count": 70,
   "id": "1673ee99",
   "metadata": {
    "execution": {
     "iopub.execute_input": "2022-07-28T14:15:06.515898Z",
     "iopub.status.busy": "2022-07-28T14:15:06.515138Z",
     "iopub.status.idle": "2022-07-28T14:15:06.522769Z",
     "shell.execute_reply": "2022-07-28T14:15:06.521363Z"
    },
    "papermill": {
     "duration": 0.026647,
     "end_time": "2022-07-28T14:15:06.525304",
     "exception": false,
     "start_time": "2022-07-28T14:15:06.498657",
     "status": "completed"
    },
    "tags": []
   },
   "outputs": [
    {
     "data": {
      "text/plain": [
       "(1470, 35)"
      ]
     },
     "execution_count": 70,
     "metadata": {},
     "output_type": "execute_result"
    }
   ],
   "source": [
    "employee_data.shape"
   ]
  },
  {
   "cell_type": "markdown",
   "id": "009eb07f",
   "metadata": {
    "papermill": {
     "duration": 0.01458,
     "end_time": "2022-07-28T14:15:06.554955",
     "exception": false,
     "start_time": "2022-07-28T14:15:06.540375",
     "status": "completed"
    },
    "tags": []
   },
   "source": [
    "**There are 35 columns and 1470 rows in this dataset.**"
   ]
  },
  {
   "cell_type": "code",
   "execution_count": 71,
   "id": "303cc620",
   "metadata": {
    "execution": {
     "iopub.execute_input": "2022-07-28T14:15:06.586979Z",
     "iopub.status.busy": "2022-07-28T14:15:06.586252Z",
     "iopub.status.idle": "2022-07-28T14:15:06.618906Z",
     "shell.execute_reply": "2022-07-28T14:15:06.616698Z"
    },
    "papermill": {
     "duration": 0.051851,
     "end_time": "2022-07-28T14:15:06.621645",
     "exception": false,
     "start_time": "2022-07-28T14:15:06.569794",
     "status": "completed"
    },
    "tags": []
   },
   "outputs": [
    {
     "name": "stdout",
     "output_type": "stream",
     "text": [
      "<class 'pandas.core.frame.DataFrame'>\n",
      "RangeIndex: 1470 entries, 0 to 1469\n",
      "Data columns (total 35 columns):\n",
      " #   Column                    Non-Null Count  Dtype \n",
      "---  ------                    --------------  ----- \n",
      " 0   Age                       1470 non-null   int64 \n",
      " 1   Attrition                 1470 non-null   object\n",
      " 2   BusinessTravel            1470 non-null   object\n",
      " 3   DailyRate                 1470 non-null   int64 \n",
      " 4   Department                1470 non-null   object\n",
      " 5   DistanceFromHome          1470 non-null   int64 \n",
      " 6   Education                 1470 non-null   int64 \n",
      " 7   EducationField            1470 non-null   object\n",
      " 8   EmployeeCount             1470 non-null   int64 \n",
      " 9   EmployeeNumber            1470 non-null   int64 \n",
      " 10  EnvironmentSatisfaction   1470 non-null   int64 \n",
      " 11  Gender                    1470 non-null   object\n",
      " 12  HourlyRate                1470 non-null   int64 \n",
      " 13  JobInvolvement            1470 non-null   int64 \n",
      " 14  JobLevel                  1470 non-null   int64 \n",
      " 15  JobRole                   1470 non-null   object\n",
      " 16  JobSatisfaction           1470 non-null   int64 \n",
      " 17  MaritalStatus             1470 non-null   object\n",
      " 18  MonthlyIncome             1470 non-null   int64 \n",
      " 19  MonthlyRate               1470 non-null   int64 \n",
      " 20  NumCompaniesWorked        1470 non-null   int64 \n",
      " 21  Over18                    1470 non-null   object\n",
      " 22  OverTime                  1470 non-null   object\n",
      " 23  PercentSalaryHike         1470 non-null   int64 \n",
      " 24  PerformanceRating         1470 non-null   int64 \n",
      " 25  RelationshipSatisfaction  1470 non-null   int64 \n",
      " 26  StandardHours             1470 non-null   int64 \n",
      " 27  StockOptionLevel          1470 non-null   int64 \n",
      " 28  TotalWorkingYears         1470 non-null   int64 \n",
      " 29  TrainingTimesLastYear     1470 non-null   int64 \n",
      " 30  WorkLifeBalance           1470 non-null   int64 \n",
      " 31  YearsAtCompany            1470 non-null   int64 \n",
      " 32  YearsInCurrentRole        1470 non-null   int64 \n",
      " 33  YearsSinceLastPromotion   1470 non-null   int64 \n",
      " 34  YearsWithCurrManager      1470 non-null   int64 \n",
      "dtypes: int64(26), object(9)\n",
      "memory usage: 402.1+ KB\n"
     ]
    }
   ],
   "source": [
    "employee_data.info()"
   ]
  },
  {
   "cell_type": "code",
   "execution_count": null,
   "id": "2f6771fb",
   "metadata": {
    "execution": {
     "iopub.execute_input": "2022-07-28T14:15:06.654081Z",
     "iopub.status.busy": "2022-07-28T14:15:06.653306Z",
     "iopub.status.idle": "2022-07-28T14:15:06.665178Z",
     "shell.execute_reply": "2022-07-28T14:15:06.663718Z"
    },
    "papermill": {
     "duration": 0.031294,
     "end_time": "2022-07-28T14:15:06.667803",
     "exception": false,
     "start_time": "2022-07-28T14:15:06.636509",
     "status": "completed"
    },
    "tags": []
   },
   "outputs": [],
   "source": []
  },
  {
   "cell_type": "markdown",
   "id": "69d64aef",
   "metadata": {
    "papermill": {
     "duration": 0.015196,
     "end_time": "2022-07-28T14:15:06.699445",
     "exception": false,
     "start_time": "2022-07-28T14:15:06.684249",
     "status": "completed"
    },
    "tags": []
   },
   "source": [
    "**These are the categorical columns in the dataset.**"
   ]
  },
  {
   "cell_type": "code",
   "execution_count": 72,
   "id": "83b86803",
   "metadata": {
    "execution": {
     "iopub.execute_input": "2022-07-28T14:15:06.733745Z",
     "iopub.status.busy": "2022-07-28T14:15:06.733296Z",
     "iopub.status.idle": "2022-07-28T14:15:06.743716Z",
     "shell.execute_reply": "2022-07-28T14:15:06.742484Z"
    },
    "papermill": {
     "duration": 0.030176,
     "end_time": "2022-07-28T14:15:06.746240",
     "exception": false,
     "start_time": "2022-07-28T14:15:06.716064",
     "status": "completed"
    },
    "tags": []
   },
   "outputs": [
    {
     "data": {
      "text/plain": [
       "No     1233\n",
       "Yes     237\n",
       "Name: Attrition, dtype: int64"
      ]
     },
     "execution_count": 72,
     "metadata": {},
     "output_type": "execute_result"
    }
   ],
   "source": [
    "employee_data['Attrition'].value_counts()"
   ]
  },
  {
   "cell_type": "code",
   "execution_count": 73,
   "id": "d3de88e6",
   "metadata": {},
   "outputs": [
    {
     "data": {
      "application/vnd.plotly.v1+json": {
       "config": {
        "plotlyServerURL": "https://plot.ly"
       },
       "data": [
        {
         "domain": {
          "x": [
           0,
           0.46
          ],
          "y": [
           0,
           1
          ]
         },
         "hoverinfo": "label+value+percent",
         "labels": [
          "Life Sciences",
          "Medical",
          "Marketing",
          "Technical Degree",
          "Other",
          "Human Resources"
         ],
         "legendgroup": "Education",
         "legendgrouptitle": {
          "text": "Education"
         },
         "marker": {
          "colors": [
           "rgb(3, 35, 51)",
           "rgb(13, 48, 100)",
           "rgb(53, 50, 155)",
           "rgb(93, 62, 153)",
           "rgb(126, 77, 143)",
           "rgb(158, 89, 135)"
          ]
         },
         "name": "Father",
         "textinfo": "percent+label",
         "type": "pie",
         "values": [
          606,
          464,
          159,
          132,
          82,
          27
         ]
        },
        {
         "domain": {
          "x": [
           0.54,
           1
          ],
          "y": [
           0,
           1
          ]
         },
         "hoverinfo": "label+value+percent",
         "labels": [
          "Research & Development",
          "Sales",
          "Human Resources"
         ],
         "legendgroup": "Department",
         "legendgrouptitle": {
          "text": "Department"
         },
         "marker": {
          "colors": [
           "rgb(193, 100, 121)",
           "rgb(225, 113, 97)",
           "rgb(246, 139, 69)"
          ]
         },
         "name": "Mother",
         "textinfo": "percent+label",
         "type": "pie",
         "values": [
          961,
          446,
          63
         ]
        }
       ],
       "layout": {
        "annotations": [
         {
          "font": {
           "size": 16
          },
          "showarrow": false,
          "text": "Education Field",
          "x": 0.23,
          "xanchor": "center",
          "xref": "paper",
          "y": 1,
          "yanchor": "bottom",
          "yref": "paper"
         },
         {
          "font": {
           "size": 16
          },
          "showarrow": false,
          "text": "Department",
          "x": 0.77,
          "xanchor": "center",
          "xref": "paper",
          "y": 1,
          "yanchor": "bottom",
          "yref": "paper"
         }
        ],
        "height": 500,
        "paper_bgcolor": "rgb(229, 237, 247)",
        "plot_bgcolor": "rgb(229, 237, 247)",
        "template": {
         "data": {
          "bar": [
           {
            "error_x": {
             "color": "#2a3f5f"
            },
            "error_y": {
             "color": "#2a3f5f"
            },
            "marker": {
             "line": {
              "color": "#E5ECF6",
              "width": 0.5
             },
             "pattern": {
              "fillmode": "overlay",
              "size": 10,
              "solidity": 0.2
             }
            },
            "type": "bar"
           }
          ],
          "barpolar": [
           {
            "marker": {
             "line": {
              "color": "#E5ECF6",
              "width": 0.5
             },
             "pattern": {
              "fillmode": "overlay",
              "size": 10,
              "solidity": 0.2
             }
            },
            "type": "barpolar"
           }
          ],
          "carpet": [
           {
            "aaxis": {
             "endlinecolor": "#2a3f5f",
             "gridcolor": "white",
             "linecolor": "white",
             "minorgridcolor": "white",
             "startlinecolor": "#2a3f5f"
            },
            "baxis": {
             "endlinecolor": "#2a3f5f",
             "gridcolor": "white",
             "linecolor": "white",
             "minorgridcolor": "white",
             "startlinecolor": "#2a3f5f"
            },
            "type": "carpet"
           }
          ],
          "choropleth": [
           {
            "colorbar": {
             "outlinewidth": 0,
             "ticks": ""
            },
            "type": "choropleth"
           }
          ],
          "contour": [
           {
            "colorbar": {
             "outlinewidth": 0,
             "ticks": ""
            },
            "colorscale": [
             [
              0,
              "#0d0887"
             ],
             [
              0.1111111111111111,
              "#46039f"
             ],
             [
              0.2222222222222222,
              "#7201a8"
             ],
             [
              0.3333333333333333,
              "#9c179e"
             ],
             [
              0.4444444444444444,
              "#bd3786"
             ],
             [
              0.5555555555555556,
              "#d8576b"
             ],
             [
              0.6666666666666666,
              "#ed7953"
             ],
             [
              0.7777777777777778,
              "#fb9f3a"
             ],
             [
              0.8888888888888888,
              "#fdca26"
             ],
             [
              1,
              "#f0f921"
             ]
            ],
            "type": "contour"
           }
          ],
          "contourcarpet": [
           {
            "colorbar": {
             "outlinewidth": 0,
             "ticks": ""
            },
            "type": "contourcarpet"
           }
          ],
          "heatmap": [
           {
            "colorbar": {
             "outlinewidth": 0,
             "ticks": ""
            },
            "colorscale": [
             [
              0,
              "#0d0887"
             ],
             [
              0.1111111111111111,
              "#46039f"
             ],
             [
              0.2222222222222222,
              "#7201a8"
             ],
             [
              0.3333333333333333,
              "#9c179e"
             ],
             [
              0.4444444444444444,
              "#bd3786"
             ],
             [
              0.5555555555555556,
              "#d8576b"
             ],
             [
              0.6666666666666666,
              "#ed7953"
             ],
             [
              0.7777777777777778,
              "#fb9f3a"
             ],
             [
              0.8888888888888888,
              "#fdca26"
             ],
             [
              1,
              "#f0f921"
             ]
            ],
            "type": "heatmap"
           }
          ],
          "heatmapgl": [
           {
            "colorbar": {
             "outlinewidth": 0,
             "ticks": ""
            },
            "colorscale": [
             [
              0,
              "#0d0887"
             ],
             [
              0.1111111111111111,
              "#46039f"
             ],
             [
              0.2222222222222222,
              "#7201a8"
             ],
             [
              0.3333333333333333,
              "#9c179e"
             ],
             [
              0.4444444444444444,
              "#bd3786"
             ],
             [
              0.5555555555555556,
              "#d8576b"
             ],
             [
              0.6666666666666666,
              "#ed7953"
             ],
             [
              0.7777777777777778,
              "#fb9f3a"
             ],
             [
              0.8888888888888888,
              "#fdca26"
             ],
             [
              1,
              "#f0f921"
             ]
            ],
            "type": "heatmapgl"
           }
          ],
          "histogram": [
           {
            "marker": {
             "pattern": {
              "fillmode": "overlay",
              "size": 10,
              "solidity": 0.2
             }
            },
            "type": "histogram"
           }
          ],
          "histogram2d": [
           {
            "colorbar": {
             "outlinewidth": 0,
             "ticks": ""
            },
            "colorscale": [
             [
              0,
              "#0d0887"
             ],
             [
              0.1111111111111111,
              "#46039f"
             ],
             [
              0.2222222222222222,
              "#7201a8"
             ],
             [
              0.3333333333333333,
              "#9c179e"
             ],
             [
              0.4444444444444444,
              "#bd3786"
             ],
             [
              0.5555555555555556,
              "#d8576b"
             ],
             [
              0.6666666666666666,
              "#ed7953"
             ],
             [
              0.7777777777777778,
              "#fb9f3a"
             ],
             [
              0.8888888888888888,
              "#fdca26"
             ],
             [
              1,
              "#f0f921"
             ]
            ],
            "type": "histogram2d"
           }
          ],
          "histogram2dcontour": [
           {
            "colorbar": {
             "outlinewidth": 0,
             "ticks": ""
            },
            "colorscale": [
             [
              0,
              "#0d0887"
             ],
             [
              0.1111111111111111,
              "#46039f"
             ],
             [
              0.2222222222222222,
              "#7201a8"
             ],
             [
              0.3333333333333333,
              "#9c179e"
             ],
             [
              0.4444444444444444,
              "#bd3786"
             ],
             [
              0.5555555555555556,
              "#d8576b"
             ],
             [
              0.6666666666666666,
              "#ed7953"
             ],
             [
              0.7777777777777778,
              "#fb9f3a"
             ],
             [
              0.8888888888888888,
              "#fdca26"
             ],
             [
              1,
              "#f0f921"
             ]
            ],
            "type": "histogram2dcontour"
           }
          ],
          "mesh3d": [
           {
            "colorbar": {
             "outlinewidth": 0,
             "ticks": ""
            },
            "type": "mesh3d"
           }
          ],
          "parcoords": [
           {
            "line": {
             "colorbar": {
              "outlinewidth": 0,
              "ticks": ""
             }
            },
            "type": "parcoords"
           }
          ],
          "pie": [
           {
            "automargin": true,
            "type": "pie"
           }
          ],
          "scatter": [
           {
            "fillpattern": {
             "fillmode": "overlay",
             "size": 10,
             "solidity": 0.2
            },
            "type": "scatter"
           }
          ],
          "scatter3d": [
           {
            "line": {
             "colorbar": {
              "outlinewidth": 0,
              "ticks": ""
             }
            },
            "marker": {
             "colorbar": {
              "outlinewidth": 0,
              "ticks": ""
             }
            },
            "type": "scatter3d"
           }
          ],
          "scattercarpet": [
           {
            "marker": {
             "colorbar": {
              "outlinewidth": 0,
              "ticks": ""
             }
            },
            "type": "scattercarpet"
           }
          ],
          "scattergeo": [
           {
            "marker": {
             "colorbar": {
              "outlinewidth": 0,
              "ticks": ""
             }
            },
            "type": "scattergeo"
           }
          ],
          "scattergl": [
           {
            "marker": {
             "colorbar": {
              "outlinewidth": 0,
              "ticks": ""
             }
            },
            "type": "scattergl"
           }
          ],
          "scattermapbox": [
           {
            "marker": {
             "colorbar": {
              "outlinewidth": 0,
              "ticks": ""
             }
            },
            "type": "scattermapbox"
           }
          ],
          "scatterpolar": [
           {
            "marker": {
             "colorbar": {
              "outlinewidth": 0,
              "ticks": ""
             }
            },
            "type": "scatterpolar"
           }
          ],
          "scatterpolargl": [
           {
            "marker": {
             "colorbar": {
              "outlinewidth": 0,
              "ticks": ""
             }
            },
            "type": "scatterpolargl"
           }
          ],
          "scatterternary": [
           {
            "marker": {
             "colorbar": {
              "outlinewidth": 0,
              "ticks": ""
             }
            },
            "type": "scatterternary"
           }
          ],
          "surface": [
           {
            "colorbar": {
             "outlinewidth": 0,
             "ticks": ""
            },
            "colorscale": [
             [
              0,
              "#0d0887"
             ],
             [
              0.1111111111111111,
              "#46039f"
             ],
             [
              0.2222222222222222,
              "#7201a8"
             ],
             [
              0.3333333333333333,
              "#9c179e"
             ],
             [
              0.4444444444444444,
              "#bd3786"
             ],
             [
              0.5555555555555556,
              "#d8576b"
             ],
             [
              0.6666666666666666,
              "#ed7953"
             ],
             [
              0.7777777777777778,
              "#fb9f3a"
             ],
             [
              0.8888888888888888,
              "#fdca26"
             ],
             [
              1,
              "#f0f921"
             ]
            ],
            "type": "surface"
           }
          ],
          "table": [
           {
            "cells": {
             "fill": {
              "color": "#EBF0F8"
             },
             "line": {
              "color": "white"
             }
            },
            "header": {
             "fill": {
              "color": "#C8D4E3"
             },
             "line": {
              "color": "white"
             }
            },
            "type": "table"
           }
          ]
         },
         "layout": {
          "annotationdefaults": {
           "arrowcolor": "#2a3f5f",
           "arrowhead": 0,
           "arrowwidth": 1
          },
          "autotypenumbers": "strict",
          "coloraxis": {
           "colorbar": {
            "outlinewidth": 0,
            "ticks": ""
           }
          },
          "colorscale": {
           "diverging": [
            [
             0,
             "#8e0152"
            ],
            [
             0.1,
             "#c51b7d"
            ],
            [
             0.2,
             "#de77ae"
            ],
            [
             0.3,
             "#f1b6da"
            ],
            [
             0.4,
             "#fde0ef"
            ],
            [
             0.5,
             "#f7f7f7"
            ],
            [
             0.6,
             "#e6f5d0"
            ],
            [
             0.7,
             "#b8e186"
            ],
            [
             0.8,
             "#7fbc41"
            ],
            [
             0.9,
             "#4d9221"
            ],
            [
             1,
             "#276419"
            ]
           ],
           "sequential": [
            [
             0,
             "#0d0887"
            ],
            [
             0.1111111111111111,
             "#46039f"
            ],
            [
             0.2222222222222222,
             "#7201a8"
            ],
            [
             0.3333333333333333,
             "#9c179e"
            ],
            [
             0.4444444444444444,
             "#bd3786"
            ],
            [
             0.5555555555555556,
             "#d8576b"
            ],
            [
             0.6666666666666666,
             "#ed7953"
            ],
            [
             0.7777777777777778,
             "#fb9f3a"
            ],
            [
             0.8888888888888888,
             "#fdca26"
            ],
            [
             1,
             "#f0f921"
            ]
           ],
           "sequentialminus": [
            [
             0,
             "#0d0887"
            ],
            [
             0.1111111111111111,
             "#46039f"
            ],
            [
             0.2222222222222222,
             "#7201a8"
            ],
            [
             0.3333333333333333,
             "#9c179e"
            ],
            [
             0.4444444444444444,
             "#bd3786"
            ],
            [
             0.5555555555555556,
             "#d8576b"
            ],
            [
             0.6666666666666666,
             "#ed7953"
            ],
            [
             0.7777777777777778,
             "#fb9f3a"
            ],
            [
             0.8888888888888888,
             "#fdca26"
            ],
            [
             1,
             "#f0f921"
            ]
           ]
          },
          "colorway": [
           "#636efa",
           "#EF553B",
           "#00cc96",
           "#ab63fa",
           "#FFA15A",
           "#19d3f3",
           "#FF6692",
           "#B6E880",
           "#FF97FF",
           "#FECB52"
          ],
          "font": {
           "color": "#2a3f5f"
          },
          "geo": {
           "bgcolor": "white",
           "lakecolor": "white",
           "landcolor": "#E5ECF6",
           "showlakes": true,
           "showland": true,
           "subunitcolor": "white"
          },
          "hoverlabel": {
           "align": "left"
          },
          "hovermode": "closest",
          "mapbox": {
           "style": "light"
          },
          "paper_bgcolor": "white",
          "plot_bgcolor": "#E5ECF6",
          "polar": {
           "angularaxis": {
            "gridcolor": "white",
            "linecolor": "white",
            "ticks": ""
           },
           "bgcolor": "#E5ECF6",
           "radialaxis": {
            "gridcolor": "white",
            "linecolor": "white",
            "ticks": ""
           }
          },
          "scene": {
           "xaxis": {
            "backgroundcolor": "#E5ECF6",
            "gridcolor": "white",
            "gridwidth": 2,
            "linecolor": "white",
            "showbackground": true,
            "ticks": "",
            "zerolinecolor": "white"
           },
           "yaxis": {
            "backgroundcolor": "#E5ECF6",
            "gridcolor": "white",
            "gridwidth": 2,
            "linecolor": "white",
            "showbackground": true,
            "ticks": "",
            "zerolinecolor": "white"
           },
           "zaxis": {
            "backgroundcolor": "#E5ECF6",
            "gridcolor": "white",
            "gridwidth": 2,
            "linecolor": "white",
            "showbackground": true,
            "ticks": "",
            "zerolinecolor": "white"
           }
          },
          "shapedefaults": {
           "line": {
            "color": "#2a3f5f"
           }
          },
          "ternary": {
           "aaxis": {
            "gridcolor": "white",
            "linecolor": "white",
            "ticks": ""
           },
           "baxis": {
            "gridcolor": "white",
            "linecolor": "white",
            "ticks": ""
           },
           "bgcolor": "#E5ECF6",
           "caxis": {
            "gridcolor": "white",
            "linecolor": "white",
            "ticks": ""
           }
          },
          "title": {
           "x": 0.05
          },
          "xaxis": {
           "automargin": true,
           "gridcolor": "white",
           "linecolor": "white",
           "ticks": "",
           "title": {
            "standoff": 15
           },
           "zerolinecolor": "white",
           "zerolinewidth": 2
          },
          "yaxis": {
           "automargin": true,
           "gridcolor": "white",
           "linecolor": "white",
           "ticks": "",
           "title": {
            "standoff": 15
           },
           "zerolinecolor": "white",
           "zerolinewidth": 2
          }
         }
        },
        "title": {
         "font": {
          "size": 30
         },
         "text": "Education & Departments",
         "x": 0.5
        }
       }
      }
     },
     "metadata": {},
     "output_type": "display_data"
    }
   ],
   "source": [
    "palette = cycle(px.colors.sequential.thermal)\n",
    "\n",
    "fig = sp.make_subplots(\n",
    "    rows=1, \n",
    "    cols=2,\n",
    "    horizontal_spacing=0.08,\n",
    "    subplot_titles=[\"Education Field\",\"Department\"],\n",
    "    specs=[[{\"type\": \"pie\"}, {\"type\": \"pie\"}, ]],\n",
    "    vertical_spacing = 0.1\n",
    ")\n",
    "\n",
    "\n",
    "EducationField_counts = employee_data.EducationField.value_counts()\n",
    "\n",
    "Education = go.Pie(\n",
    "    labels=EducationField_counts.index,\n",
    "    values=EducationField_counts,\n",
    "    name=\"Father\",\n",
    "    textinfo='percent+label',\n",
    "    hoverinfo=\"label+value+percent\",\n",
    "    marker_colors=[next(palette) for i in range(len(EducationField_counts))],\n",
    "    legendgroup=\"Education\",\n",
    "    legendgrouptitle_text=\"Education\",\n",
    ")\n",
    "\n",
    "Department_counts = employee_data.Department.value_counts()\n",
    "\n",
    "Department = go.Pie(\n",
    "    labels=Department_counts.index,\n",
    "    values=Department_counts,\n",
    "    name=\"Mother\",\n",
    "    textinfo='percent+label',\n",
    "    hoverinfo=\"label+value+percent\",\n",
    "    marker_colors=[next(palette) for i in range(len(Department_counts))],\n",
    "    legendgroup=\"Department\",\n",
    "    legendgrouptitle_text=\"Department\",\n",
    ")\n",
    "\n",
    "fig.add_trace(Education, row=1, col=1)\n",
    "fig.update_xaxes(title_text=\"Father\", row=1, col=1)\n",
    "fig.update_yaxes(title_text=\"Count\", row=1, col=1)\n",
    "\n",
    "fig.add_trace(Department, row=1, col=2)\n",
    "fig.update_xaxes(title_text=\"Department\", row=1, col=2)\n",
    "fig.update_yaxes(title_text=\"Count\", row=1, col=2)\n",
    "\n",
    "\n",
    "fig.update_layout(\n",
    "    template=\"plotly\",\n",
    "    height=500,\n",
    ")\n",
    "\n",
    "fig.update(\n",
    "    layout_title_text=\"Education & Departments\",\n",
    "    layout_title_font_size=30,\n",
    "    layout_title_x=0.5,\n",
    "    layout_paper_bgcolor='rgb(229, 237, 247)',\n",
    "    layout_plot_bgcolor='rgb(229, 237, 247)',\n",
    ")\n",
    "\n",
    "fig.show()"
   ]
  },
  {
   "cell_type": "code",
   "execution_count": 74,
   "id": "06c288ea",
   "metadata": {},
   "outputs": [
    {
     "data": {
      "application/vnd.plotly.v1+json": {
       "config": {
        "plotlyServerURL": "https://plot.ly"
       },
       "data": [
        {
         "domain": {
          "x": [
           0,
           0.46
          ],
          "y": [
           0,
           1
          ]
         },
         "hoverinfo": "label+value+percent",
         "labels": [
          "No",
          "Yes"
         ],
         "legendgroup": "Education",
         "legendgrouptitle": {
          "text": "Attrition"
         },
         "marker": {
          "colors": [
           "rgb(3, 35, 51)",
           "rgb(13, 48, 100)"
          ]
         },
         "name": "Father",
         "textinfo": "percent+label",
         "type": "pie",
         "values": [
          1233,
          237
         ]
        }
       ],
       "layout": {
        "annotations": [
         {
          "font": {
           "size": 16
          },
          "showarrow": false,
          "text": "Attrition",
          "x": 0.23,
          "xanchor": "center",
          "xref": "paper",
          "y": 1,
          "yanchor": "bottom",
          "yref": "paper"
         }
        ],
        "height": 500,
        "paper_bgcolor": "rgb(229, 237, 247)",
        "plot_bgcolor": "rgb(229, 237, 247)",
        "template": {
         "data": {
          "bar": [
           {
            "error_x": {
             "color": "#2a3f5f"
            },
            "error_y": {
             "color": "#2a3f5f"
            },
            "marker": {
             "line": {
              "color": "#E5ECF6",
              "width": 0.5
             },
             "pattern": {
              "fillmode": "overlay",
              "size": 10,
              "solidity": 0.2
             }
            },
            "type": "bar"
           }
          ],
          "barpolar": [
           {
            "marker": {
             "line": {
              "color": "#E5ECF6",
              "width": 0.5
             },
             "pattern": {
              "fillmode": "overlay",
              "size": 10,
              "solidity": 0.2
             }
            },
            "type": "barpolar"
           }
          ],
          "carpet": [
           {
            "aaxis": {
             "endlinecolor": "#2a3f5f",
             "gridcolor": "white",
             "linecolor": "white",
             "minorgridcolor": "white",
             "startlinecolor": "#2a3f5f"
            },
            "baxis": {
             "endlinecolor": "#2a3f5f",
             "gridcolor": "white",
             "linecolor": "white",
             "minorgridcolor": "white",
             "startlinecolor": "#2a3f5f"
            },
            "type": "carpet"
           }
          ],
          "choropleth": [
           {
            "colorbar": {
             "outlinewidth": 0,
             "ticks": ""
            },
            "type": "choropleth"
           }
          ],
          "contour": [
           {
            "colorbar": {
             "outlinewidth": 0,
             "ticks": ""
            },
            "colorscale": [
             [
              0,
              "#0d0887"
             ],
             [
              0.1111111111111111,
              "#46039f"
             ],
             [
              0.2222222222222222,
              "#7201a8"
             ],
             [
              0.3333333333333333,
              "#9c179e"
             ],
             [
              0.4444444444444444,
              "#bd3786"
             ],
             [
              0.5555555555555556,
              "#d8576b"
             ],
             [
              0.6666666666666666,
              "#ed7953"
             ],
             [
              0.7777777777777778,
              "#fb9f3a"
             ],
             [
              0.8888888888888888,
              "#fdca26"
             ],
             [
              1,
              "#f0f921"
             ]
            ],
            "type": "contour"
           }
          ],
          "contourcarpet": [
           {
            "colorbar": {
             "outlinewidth": 0,
             "ticks": ""
            },
            "type": "contourcarpet"
           }
          ],
          "heatmap": [
           {
            "colorbar": {
             "outlinewidth": 0,
             "ticks": ""
            },
            "colorscale": [
             [
              0,
              "#0d0887"
             ],
             [
              0.1111111111111111,
              "#46039f"
             ],
             [
              0.2222222222222222,
              "#7201a8"
             ],
             [
              0.3333333333333333,
              "#9c179e"
             ],
             [
              0.4444444444444444,
              "#bd3786"
             ],
             [
              0.5555555555555556,
              "#d8576b"
             ],
             [
              0.6666666666666666,
              "#ed7953"
             ],
             [
              0.7777777777777778,
              "#fb9f3a"
             ],
             [
              0.8888888888888888,
              "#fdca26"
             ],
             [
              1,
              "#f0f921"
             ]
            ],
            "type": "heatmap"
           }
          ],
          "heatmapgl": [
           {
            "colorbar": {
             "outlinewidth": 0,
             "ticks": ""
            },
            "colorscale": [
             [
              0,
              "#0d0887"
             ],
             [
              0.1111111111111111,
              "#46039f"
             ],
             [
              0.2222222222222222,
              "#7201a8"
             ],
             [
              0.3333333333333333,
              "#9c179e"
             ],
             [
              0.4444444444444444,
              "#bd3786"
             ],
             [
              0.5555555555555556,
              "#d8576b"
             ],
             [
              0.6666666666666666,
              "#ed7953"
             ],
             [
              0.7777777777777778,
              "#fb9f3a"
             ],
             [
              0.8888888888888888,
              "#fdca26"
             ],
             [
              1,
              "#f0f921"
             ]
            ],
            "type": "heatmapgl"
           }
          ],
          "histogram": [
           {
            "marker": {
             "pattern": {
              "fillmode": "overlay",
              "size": 10,
              "solidity": 0.2
             }
            },
            "type": "histogram"
           }
          ],
          "histogram2d": [
           {
            "colorbar": {
             "outlinewidth": 0,
             "ticks": ""
            },
            "colorscale": [
             [
              0,
              "#0d0887"
             ],
             [
              0.1111111111111111,
              "#46039f"
             ],
             [
              0.2222222222222222,
              "#7201a8"
             ],
             [
              0.3333333333333333,
              "#9c179e"
             ],
             [
              0.4444444444444444,
              "#bd3786"
             ],
             [
              0.5555555555555556,
              "#d8576b"
             ],
             [
              0.6666666666666666,
              "#ed7953"
             ],
             [
              0.7777777777777778,
              "#fb9f3a"
             ],
             [
              0.8888888888888888,
              "#fdca26"
             ],
             [
              1,
              "#f0f921"
             ]
            ],
            "type": "histogram2d"
           }
          ],
          "histogram2dcontour": [
           {
            "colorbar": {
             "outlinewidth": 0,
             "ticks": ""
            },
            "colorscale": [
             [
              0,
              "#0d0887"
             ],
             [
              0.1111111111111111,
              "#46039f"
             ],
             [
              0.2222222222222222,
              "#7201a8"
             ],
             [
              0.3333333333333333,
              "#9c179e"
             ],
             [
              0.4444444444444444,
              "#bd3786"
             ],
             [
              0.5555555555555556,
              "#d8576b"
             ],
             [
              0.6666666666666666,
              "#ed7953"
             ],
             [
              0.7777777777777778,
              "#fb9f3a"
             ],
             [
              0.8888888888888888,
              "#fdca26"
             ],
             [
              1,
              "#f0f921"
             ]
            ],
            "type": "histogram2dcontour"
           }
          ],
          "mesh3d": [
           {
            "colorbar": {
             "outlinewidth": 0,
             "ticks": ""
            },
            "type": "mesh3d"
           }
          ],
          "parcoords": [
           {
            "line": {
             "colorbar": {
              "outlinewidth": 0,
              "ticks": ""
             }
            },
            "type": "parcoords"
           }
          ],
          "pie": [
           {
            "automargin": true,
            "type": "pie"
           }
          ],
          "scatter": [
           {
            "fillpattern": {
             "fillmode": "overlay",
             "size": 10,
             "solidity": 0.2
            },
            "type": "scatter"
           }
          ],
          "scatter3d": [
           {
            "line": {
             "colorbar": {
              "outlinewidth": 0,
              "ticks": ""
             }
            },
            "marker": {
             "colorbar": {
              "outlinewidth": 0,
              "ticks": ""
             }
            },
            "type": "scatter3d"
           }
          ],
          "scattercarpet": [
           {
            "marker": {
             "colorbar": {
              "outlinewidth": 0,
              "ticks": ""
             }
            },
            "type": "scattercarpet"
           }
          ],
          "scattergeo": [
           {
            "marker": {
             "colorbar": {
              "outlinewidth": 0,
              "ticks": ""
             }
            },
            "type": "scattergeo"
           }
          ],
          "scattergl": [
           {
            "marker": {
             "colorbar": {
              "outlinewidth": 0,
              "ticks": ""
             }
            },
            "type": "scattergl"
           }
          ],
          "scattermapbox": [
           {
            "marker": {
             "colorbar": {
              "outlinewidth": 0,
              "ticks": ""
             }
            },
            "type": "scattermapbox"
           }
          ],
          "scatterpolar": [
           {
            "marker": {
             "colorbar": {
              "outlinewidth": 0,
              "ticks": ""
             }
            },
            "type": "scatterpolar"
           }
          ],
          "scatterpolargl": [
           {
            "marker": {
             "colorbar": {
              "outlinewidth": 0,
              "ticks": ""
             }
            },
            "type": "scatterpolargl"
           }
          ],
          "scatterternary": [
           {
            "marker": {
             "colorbar": {
              "outlinewidth": 0,
              "ticks": ""
             }
            },
            "type": "scatterternary"
           }
          ],
          "surface": [
           {
            "colorbar": {
             "outlinewidth": 0,
             "ticks": ""
            },
            "colorscale": [
             [
              0,
              "#0d0887"
             ],
             [
              0.1111111111111111,
              "#46039f"
             ],
             [
              0.2222222222222222,
              "#7201a8"
             ],
             [
              0.3333333333333333,
              "#9c179e"
             ],
             [
              0.4444444444444444,
              "#bd3786"
             ],
             [
              0.5555555555555556,
              "#d8576b"
             ],
             [
              0.6666666666666666,
              "#ed7953"
             ],
             [
              0.7777777777777778,
              "#fb9f3a"
             ],
             [
              0.8888888888888888,
              "#fdca26"
             ],
             [
              1,
              "#f0f921"
             ]
            ],
            "type": "surface"
           }
          ],
          "table": [
           {
            "cells": {
             "fill": {
              "color": "#EBF0F8"
             },
             "line": {
              "color": "white"
             }
            },
            "header": {
             "fill": {
              "color": "#C8D4E3"
             },
             "line": {
              "color": "white"
             }
            },
            "type": "table"
           }
          ]
         },
         "layout": {
          "annotationdefaults": {
           "arrowcolor": "#2a3f5f",
           "arrowhead": 0,
           "arrowwidth": 1
          },
          "autotypenumbers": "strict",
          "coloraxis": {
           "colorbar": {
            "outlinewidth": 0,
            "ticks": ""
           }
          },
          "colorscale": {
           "diverging": [
            [
             0,
             "#8e0152"
            ],
            [
             0.1,
             "#c51b7d"
            ],
            [
             0.2,
             "#de77ae"
            ],
            [
             0.3,
             "#f1b6da"
            ],
            [
             0.4,
             "#fde0ef"
            ],
            [
             0.5,
             "#f7f7f7"
            ],
            [
             0.6,
             "#e6f5d0"
            ],
            [
             0.7,
             "#b8e186"
            ],
            [
             0.8,
             "#7fbc41"
            ],
            [
             0.9,
             "#4d9221"
            ],
            [
             1,
             "#276419"
            ]
           ],
           "sequential": [
            [
             0,
             "#0d0887"
            ],
            [
             0.1111111111111111,
             "#46039f"
            ],
            [
             0.2222222222222222,
             "#7201a8"
            ],
            [
             0.3333333333333333,
             "#9c179e"
            ],
            [
             0.4444444444444444,
             "#bd3786"
            ],
            [
             0.5555555555555556,
             "#d8576b"
            ],
            [
             0.6666666666666666,
             "#ed7953"
            ],
            [
             0.7777777777777778,
             "#fb9f3a"
            ],
            [
             0.8888888888888888,
             "#fdca26"
            ],
            [
             1,
             "#f0f921"
            ]
           ],
           "sequentialminus": [
            [
             0,
             "#0d0887"
            ],
            [
             0.1111111111111111,
             "#46039f"
            ],
            [
             0.2222222222222222,
             "#7201a8"
            ],
            [
             0.3333333333333333,
             "#9c179e"
            ],
            [
             0.4444444444444444,
             "#bd3786"
            ],
            [
             0.5555555555555556,
             "#d8576b"
            ],
            [
             0.6666666666666666,
             "#ed7953"
            ],
            [
             0.7777777777777778,
             "#fb9f3a"
            ],
            [
             0.8888888888888888,
             "#fdca26"
            ],
            [
             1,
             "#f0f921"
            ]
           ]
          },
          "colorway": [
           "#636efa",
           "#EF553B",
           "#00cc96",
           "#ab63fa",
           "#FFA15A",
           "#19d3f3",
           "#FF6692",
           "#B6E880",
           "#FF97FF",
           "#FECB52"
          ],
          "font": {
           "color": "#2a3f5f"
          },
          "geo": {
           "bgcolor": "white",
           "lakecolor": "white",
           "landcolor": "#E5ECF6",
           "showlakes": true,
           "showland": true,
           "subunitcolor": "white"
          },
          "hoverlabel": {
           "align": "left"
          },
          "hovermode": "closest",
          "mapbox": {
           "style": "light"
          },
          "paper_bgcolor": "white",
          "plot_bgcolor": "#E5ECF6",
          "polar": {
           "angularaxis": {
            "gridcolor": "white",
            "linecolor": "white",
            "ticks": ""
           },
           "bgcolor": "#E5ECF6",
           "radialaxis": {
            "gridcolor": "white",
            "linecolor": "white",
            "ticks": ""
           }
          },
          "scene": {
           "xaxis": {
            "backgroundcolor": "#E5ECF6",
            "gridcolor": "white",
            "gridwidth": 2,
            "linecolor": "white",
            "showbackground": true,
            "ticks": "",
            "zerolinecolor": "white"
           },
           "yaxis": {
            "backgroundcolor": "#E5ECF6",
            "gridcolor": "white",
            "gridwidth": 2,
            "linecolor": "white",
            "showbackground": true,
            "ticks": "",
            "zerolinecolor": "white"
           },
           "zaxis": {
            "backgroundcolor": "#E5ECF6",
            "gridcolor": "white",
            "gridwidth": 2,
            "linecolor": "white",
            "showbackground": true,
            "ticks": "",
            "zerolinecolor": "white"
           }
          },
          "shapedefaults": {
           "line": {
            "color": "#2a3f5f"
           }
          },
          "ternary": {
           "aaxis": {
            "gridcolor": "white",
            "linecolor": "white",
            "ticks": ""
           },
           "baxis": {
            "gridcolor": "white",
            "linecolor": "white",
            "ticks": ""
           },
           "bgcolor": "#E5ECF6",
           "caxis": {
            "gridcolor": "white",
            "linecolor": "white",
            "ticks": ""
           }
          },
          "title": {
           "x": 0.05
          },
          "xaxis": {
           "automargin": true,
           "gridcolor": "white",
           "linecolor": "white",
           "ticks": "",
           "title": {
            "standoff": 15
           },
           "zerolinecolor": "white",
           "zerolinewidth": 2
          },
          "yaxis": {
           "automargin": true,
           "gridcolor": "white",
           "linecolor": "white",
           "ticks": "",
           "title": {
            "standoff": 15
           },
           "zerolinecolor": "white",
           "zerolinewidth": 2
          }
         }
        },
        "title": {
         "font": {
          "size": 30
         },
         "text": "Attrition",
         "x": 0.5
        }
       }
      }
     },
     "metadata": {},
     "output_type": "display_data"
    }
   ],
   "source": [
    "palette = cycle(px.colors.sequential.thermal)\n",
    "\n",
    "fig = sp.make_subplots(\n",
    "    rows=1, \n",
    "    cols=2,\n",
    "    horizontal_spacing=0.08,\n",
    "    subplot_titles=[\"Attrition\"],\n",
    "    specs=[[{\"type\": \"pie\"}, {\"type\": \"pie\"}, ]],\n",
    "    vertical_spacing = 0.1\n",
    ")\n",
    "\n",
    "\n",
    "Attrition_counts = employee_data.Attrition.value_counts()\n",
    "\n",
    "Attrition = go.Pie(\n",
    "    labels=Attrition_counts.index,\n",
    "    values=Attrition_counts,\n",
    "    name=\"Father\",\n",
    "    textinfo='percent+label',\n",
    "    hoverinfo=\"label+value+percent\",\n",
    "    marker_colors=[next(palette) for i in range(len(Attrition_counts))],\n",
    "    legendgroup=\"Education\",\n",
    "    legendgrouptitle_text=\"Attrition\",\n",
    ")\n",
    "\n",
    "# Department_counts = employee_data.Department.value_counts()\n",
    "\n",
    "# Department = go.Pie(\n",
    "#     labels=Department_counts.index,\n",
    "#     values=Department_counts,\n",
    "#     name=\"Mother\",\n",
    "#     textinfo='percent+label',\n",
    "#     hoverinfo=\"label+value+percent\",\n",
    "#     marker_colors=[next(palette) for i in range(len(Department_counts))],\n",
    "#     legendgroup=\"Department\",\n",
    "#     legendgrouptitle_text=\"Department\",\n",
    "# )\n",
    "\n",
    "fig.add_trace(Attrition, row=1, col=1)\n",
    "fig.update_xaxes(title_text=\"Father\", row=1, col=1)\n",
    "fig.update_yaxes(title_text=\"Count\", row=1, col=1)\n",
    "\n",
    "# fig.add_trace(Department, row=1, col=2)\n",
    "# fig.update_xaxes(title_text=\"Department\", row=1, col=2)\n",
    "# fig.update_yaxes(title_text=\"Count\", row=1, col=2)\n",
    "\n",
    "\n",
    "fig.update_layout(\n",
    "    template=\"plotly\",\n",
    "    height=500,\n",
    ")\n",
    "\n",
    "fig.update(\n",
    "    layout_title_text=\"Attrition\",\n",
    "    layout_title_font_size=30,\n",
    "    layout_title_x=0.5,\n",
    "    layout_paper_bgcolor='rgb(229, 237, 247)',\n",
    "    layout_plot_bgcolor='rgb(229, 237, 247)',\n",
    ")\n",
    "\n",
    "fig.show()"
   ]
  },
  {
   "cell_type": "code",
   "execution_count": 75,
   "id": "7994af4b",
   "metadata": {},
   "outputs": [
    {
     "data": {
      "text/html": [
       "<div>\n",
       "<style scoped>\n",
       "    .dataframe tbody tr th:only-of-type {\n",
       "        vertical-align: middle;\n",
       "    }\n",
       "\n",
       "    .dataframe tbody tr th {\n",
       "        vertical-align: top;\n",
       "    }\n",
       "\n",
       "    .dataframe thead th {\n",
       "        text-align: right;\n",
       "    }\n",
       "</style>\n",
       "<table border=\"1\" class=\"dataframe\">\n",
       "  <thead>\n",
       "    <tr style=\"text-align: right;\">\n",
       "      <th></th>\n",
       "      <th>Age</th>\n",
       "      <th>Attrition</th>\n",
       "      <th>BusinessTravel</th>\n",
       "      <th>DailyRate</th>\n",
       "      <th>Department</th>\n",
       "      <th>DistanceFromHome</th>\n",
       "      <th>Education</th>\n",
       "      <th>EducationField</th>\n",
       "      <th>EmployeeCount</th>\n",
       "      <th>EmployeeNumber</th>\n",
       "      <th>...</th>\n",
       "      <th>RelationshipSatisfaction</th>\n",
       "      <th>StandardHours</th>\n",
       "      <th>StockOptionLevel</th>\n",
       "      <th>TotalWorkingYears</th>\n",
       "      <th>TrainingTimesLastYear</th>\n",
       "      <th>WorkLifeBalance</th>\n",
       "      <th>YearsAtCompany</th>\n",
       "      <th>YearsInCurrentRole</th>\n",
       "      <th>YearsSinceLastPromotion</th>\n",
       "      <th>YearsWithCurrManager</th>\n",
       "    </tr>\n",
       "  </thead>\n",
       "  <tbody>\n",
       "    <tr>\n",
       "      <th>0</th>\n",
       "      <td>41</td>\n",
       "      <td>1</td>\n",
       "      <td>Travel_Rarely</td>\n",
       "      <td>1102</td>\n",
       "      <td>Sales</td>\n",
       "      <td>1</td>\n",
       "      <td>2</td>\n",
       "      <td>Life Sciences</td>\n",
       "      <td>1</td>\n",
       "      <td>1</td>\n",
       "      <td>...</td>\n",
       "      <td>1</td>\n",
       "      <td>80</td>\n",
       "      <td>0</td>\n",
       "      <td>8</td>\n",
       "      <td>0</td>\n",
       "      <td>1</td>\n",
       "      <td>6</td>\n",
       "      <td>4</td>\n",
       "      <td>0</td>\n",
       "      <td>5</td>\n",
       "    </tr>\n",
       "    <tr>\n",
       "      <th>1</th>\n",
       "      <td>49</td>\n",
       "      <td>0</td>\n",
       "      <td>Travel_Frequently</td>\n",
       "      <td>279</td>\n",
       "      <td>Research &amp; Development</td>\n",
       "      <td>8</td>\n",
       "      <td>1</td>\n",
       "      <td>Life Sciences</td>\n",
       "      <td>1</td>\n",
       "      <td>2</td>\n",
       "      <td>...</td>\n",
       "      <td>4</td>\n",
       "      <td>80</td>\n",
       "      <td>1</td>\n",
       "      <td>10</td>\n",
       "      <td>3</td>\n",
       "      <td>3</td>\n",
       "      <td>10</td>\n",
       "      <td>7</td>\n",
       "      <td>1</td>\n",
       "      <td>7</td>\n",
       "    </tr>\n",
       "    <tr>\n",
       "      <th>2</th>\n",
       "      <td>37</td>\n",
       "      <td>1</td>\n",
       "      <td>Travel_Rarely</td>\n",
       "      <td>1373</td>\n",
       "      <td>Research &amp; Development</td>\n",
       "      <td>2</td>\n",
       "      <td>2</td>\n",
       "      <td>Other</td>\n",
       "      <td>1</td>\n",
       "      <td>4</td>\n",
       "      <td>...</td>\n",
       "      <td>2</td>\n",
       "      <td>80</td>\n",
       "      <td>0</td>\n",
       "      <td>7</td>\n",
       "      <td>3</td>\n",
       "      <td>3</td>\n",
       "      <td>0</td>\n",
       "      <td>0</td>\n",
       "      <td>0</td>\n",
       "      <td>0</td>\n",
       "    </tr>\n",
       "    <tr>\n",
       "      <th>3</th>\n",
       "      <td>33</td>\n",
       "      <td>0</td>\n",
       "      <td>Travel_Frequently</td>\n",
       "      <td>1392</td>\n",
       "      <td>Research &amp; Development</td>\n",
       "      <td>3</td>\n",
       "      <td>4</td>\n",
       "      <td>Life Sciences</td>\n",
       "      <td>1</td>\n",
       "      <td>5</td>\n",
       "      <td>...</td>\n",
       "      <td>3</td>\n",
       "      <td>80</td>\n",
       "      <td>0</td>\n",
       "      <td>8</td>\n",
       "      <td>3</td>\n",
       "      <td>3</td>\n",
       "      <td>8</td>\n",
       "      <td>7</td>\n",
       "      <td>3</td>\n",
       "      <td>0</td>\n",
       "    </tr>\n",
       "    <tr>\n",
       "      <th>4</th>\n",
       "      <td>27</td>\n",
       "      <td>0</td>\n",
       "      <td>Travel_Rarely</td>\n",
       "      <td>591</td>\n",
       "      <td>Research &amp; Development</td>\n",
       "      <td>2</td>\n",
       "      <td>1</td>\n",
       "      <td>Medical</td>\n",
       "      <td>1</td>\n",
       "      <td>7</td>\n",
       "      <td>...</td>\n",
       "      <td>4</td>\n",
       "      <td>80</td>\n",
       "      <td>1</td>\n",
       "      <td>6</td>\n",
       "      <td>3</td>\n",
       "      <td>3</td>\n",
       "      <td>2</td>\n",
       "      <td>2</td>\n",
       "      <td>2</td>\n",
       "      <td>2</td>\n",
       "    </tr>\n",
       "  </tbody>\n",
       "</table>\n",
       "<p>5 rows × 35 columns</p>\n",
       "</div>"
      ],
      "text/plain": [
       "   Age  Attrition     BusinessTravel  DailyRate              Department  \\\n",
       "0   41          1      Travel_Rarely       1102                   Sales   \n",
       "1   49          0  Travel_Frequently        279  Research & Development   \n",
       "2   37          1      Travel_Rarely       1373  Research & Development   \n",
       "3   33          0  Travel_Frequently       1392  Research & Development   \n",
       "4   27          0      Travel_Rarely        591  Research & Development   \n",
       "\n",
       "   DistanceFromHome  Education EducationField  EmployeeCount  EmployeeNumber  \\\n",
       "0                 1          2  Life Sciences              1               1   \n",
       "1                 8          1  Life Sciences              1               2   \n",
       "2                 2          2          Other              1               4   \n",
       "3                 3          4  Life Sciences              1               5   \n",
       "4                 2          1        Medical              1               7   \n",
       "\n",
       "   ...  RelationshipSatisfaction StandardHours  StockOptionLevel  \\\n",
       "0  ...                         1            80                 0   \n",
       "1  ...                         4            80                 1   \n",
       "2  ...                         2            80                 0   \n",
       "3  ...                         3            80                 0   \n",
       "4  ...                         4            80                 1   \n",
       "\n",
       "   TotalWorkingYears  TrainingTimesLastYear WorkLifeBalance  YearsAtCompany  \\\n",
       "0                  8                      0               1               6   \n",
       "1                 10                      3               3              10   \n",
       "2                  7                      3               3               0   \n",
       "3                  8                      3               3               8   \n",
       "4                  6                      3               3               2   \n",
       "\n",
       "  YearsInCurrentRole  YearsSinceLastPromotion  YearsWithCurrManager  \n",
       "0                  4                        0                     5  \n",
       "1                  7                        1                     7  \n",
       "2                  0                        0                     0  \n",
       "3                  7                        3                     0  \n",
       "4                  2                        2                     2  \n",
       "\n",
       "[5 rows x 35 columns]"
      ]
     },
     "execution_count": 75,
     "metadata": {},
     "output_type": "execute_result"
    }
   ],
   "source": [
    "# let's encode the attrition column so we can use it for EDA\n",
    "employee_data['Attrition'] = employee_data['Attrition'].factorize(['No','Yes'])[0]\n",
    "employee_data.head()"
   ]
  },
  {
   "cell_type": "markdown",
   "id": "4a1b9d81",
   "metadata": {},
   "source": [
    "**Attrition: No = 0    Yes = 1**"
   ]
  },
  {
   "cell_type": "markdown",
   "id": "2c17171e",
   "metadata": {
    "papermill": {
     "duration": 0.022841,
     "end_time": "2022-07-28T14:15:07.115719",
     "exception": false,
     "start_time": "2022-07-28T14:15:07.092878",
     "status": "completed"
    },
    "tags": []
   },
   "source": [
    "**84% of the employees in the dataset have not left the company.**"
   ]
  },
  {
   "cell_type": "code",
   "execution_count": 76,
   "id": "c77f7f23",
   "metadata": {
    "execution": {
     "iopub.execute_input": "2022-07-28T14:15:07.149943Z",
     "iopub.status.busy": "2022-07-28T14:15:07.149213Z",
     "iopub.status.idle": "2022-07-28T14:15:07.159659Z",
     "shell.execute_reply": "2022-07-28T14:15:07.158788Z"
    },
    "papermill": {
     "duration": 0.029866,
     "end_time": "2022-07-28T14:15:07.162047",
     "exception": false,
     "start_time": "2022-07-28T14:15:07.132181",
     "status": "completed"
    },
    "tags": []
   },
   "outputs": [
    {
     "data": {
      "text/plain": [
       "Age                         int64\n",
       "Attrition                   int64\n",
       "DailyRate                   int64\n",
       "DistanceFromHome            int64\n",
       "Education                   int64\n",
       "EmployeeCount               int64\n",
       "EmployeeNumber              int64\n",
       "EnvironmentSatisfaction     int64\n",
       "HourlyRate                  int64\n",
       "JobInvolvement              int64\n",
       "JobLevel                    int64\n",
       "JobSatisfaction             int64\n",
       "MonthlyIncome               int64\n",
       "MonthlyRate                 int64\n",
       "NumCompaniesWorked          int64\n",
       "PercentSalaryHike           int64\n",
       "PerformanceRating           int64\n",
       "RelationshipSatisfaction    int64\n",
       "StandardHours               int64\n",
       "StockOptionLevel            int64\n",
       "TotalWorkingYears           int64\n",
       "TrainingTimesLastYear       int64\n",
       "WorkLifeBalance             int64\n",
       "YearsAtCompany              int64\n",
       "YearsInCurrentRole          int64\n",
       "YearsSinceLastPromotion     int64\n",
       "YearsWithCurrManager        int64\n",
       "dtype: object"
      ]
     },
     "execution_count": 76,
     "metadata": {},
     "output_type": "execute_result"
    }
   ],
   "source": [
    "employee_data.select_dtypes(include=['int64']).dtypes"
   ]
  },
  {
   "cell_type": "markdown",
   "id": "c70e56ec",
   "metadata": {
    "papermill": {
     "duration": 0.016358,
     "end_time": "2022-07-28T14:15:07.195596",
     "exception": false,
     "start_time": "2022-07-28T14:15:07.179238",
     "status": "completed"
    },
    "tags": []
   },
   "source": [
    "**And these columns are numeric.**"
   ]
  },
  {
   "cell_type": "code",
   "execution_count": 77,
   "metadata": {},
   "outputs": [
    {
     "data": {
      "application/vnd.plotly.v1+json": {
       "config": {
        "plotlyServerURL": "https://plot.ly"
       },
       "data": [
        {
         "alignmentgroup": "True",
         "bingroup": "x",
         "hovertemplate": "Age=%{x}<br>count=%{y}<extra></extra>",
         "legendgroup": "",
         "marker": {
          "color": "#636efa",
          "pattern": {
           "shape": ""
          }
         },
         "name": "",
         "offsetgroup": "",
         "orientation": "v",
         "showlegend": false,
         "type": "histogram",
         "x": [
          41,
          49,
          37,
          33,
          27,
          32,
          59,
          30,
          38,
          36,
          35,
          29,
          31,
          34,
          28,
          29,
          32,
          22,
          53,
          38,
          24,
          36,
          34,
          21,
          34,
          53,
          32,
          42,
          44,
          46,
          33,
          44,
          30,
          39,
          24,
          43,
          50,
          35,
          36,
          33,
          35,
          27,
          26,
          27,
          30,
          41,
          34,
          37,
          46,
          35,
          48,
          28,
          44,
          35,
          26,
          33,
          35,
          35,
          31,
          37,
          32,
          38,
          50,
          59,
          36,
          55,
          36,
          45,
          35,
          36,
          59,
          29,
          31,
          32,
          36,
          31,
          35,
          45,
          37,
          46,
          30,
          35,
          55,
          38,
          34,
          56,
          23,
          51,
          30,
          46,
          40,
          51,
          30,
          46,
          32,
          54,
          24,
          28,
          58,
          44,
          37,
          32,
          20,
          34,
          37,
          59,
          50,
          25,
          25,
          22,
          51,
          34,
          54,
          24,
          34,
          37,
          34,
          36,
          36,
          43,
          30,
          33,
          56,
          51,
          31,
          26,
          58,
          19,
          22,
          49,
          43,
          50,
          31,
          41,
          26,
          36,
          51,
          39,
          25,
          30,
          32,
          45,
          38,
          30,
          32,
          30,
          30,
          41,
          41,
          19,
          40,
          35,
          53,
          45,
          32,
          29,
          51,
          58,
          40,
          34,
          22,
          27,
          28,
          57,
          27,
          50,
          41,
          30,
          38,
          32,
          27,
          19,
          36,
          30,
          45,
          56,
          33,
          19,
          46,
          38,
          31,
          34,
          41,
          50,
          53,
          33,
          40,
          55,
          34,
          51,
          52,
          27,
          35,
          43,
          45,
          37,
          35,
          42,
          38,
          38,
          27,
          49,
          34,
          40,
          38,
          29,
          22,
          36,
          40,
          46,
          32,
          30,
          27,
          51,
          30,
          41,
          30,
          29,
          45,
          54,
          36,
          33,
          37,
          38,
          31,
          59,
          37,
          29,
          35,
          29,
          52,
          42,
          59,
          50,
          33,
          43,
          33,
          52,
          32,
          32,
          39,
          32,
          41,
          40,
          45,
          31,
          33,
          34,
          37,
          45,
          37,
          39,
          29,
          42,
          29,
          25,
          42,
          40,
          51,
          31,
          32,
          38,
          32,
          46,
          28,
          29,
          31,
          25,
          45,
          36,
          55,
          47,
          28,
          37,
          21,
          37,
          35,
          38,
          26,
          50,
          53,
          42,
          29,
          55,
          26,
          37,
          44,
          38,
          26,
          28,
          49,
          36,
          31,
          26,
          37,
          42,
          18,
          35,
          36,
          51,
          41,
          18,
          28,
          31,
          39,
          36,
          32,
          38,
          58,
          31,
          31,
          45,
          31,
          33,
          39,
          43,
          49,
          52,
          27,
          32,
          27,
          31,
          32,
          28,
          30,
          31,
          39,
          39,
          33,
          47,
          43,
          27,
          54,
          43,
          45,
          40,
          29,
          29,
          30,
          27,
          37,
          38,
          31,
          29,
          35,
          23,
          41,
          47,
          42,
          29,
          42,
          32,
          48,
          37,
          30,
          26,
          42,
          21,
          36,
          36,
          57,
          40,
          21,
          33,
          37,
          46,
          41,
          50,
          40,
          31,
          21,
          29,
          35,
          27,
          28,
          49,
          51,
          36,
          34,
          55,
          24,
          30,
          26,
          22,
          36,
          30,
          37,
          40,
          42,
          37,
          43,
          40,
          54,
          34,
          31,
          43,
          43,
          25,
          37,
          31,
          39,
          56,
          30,
          41,
          28,
          25,
          52,
          45,
          52,
          42,
          30,
          60,
          46,
          42,
          24,
          34,
          38,
          40,
          26,
          30,
          29,
          29,
          19,
          30,
          57,
          50,
          30,
          60,
          47,
          46,
          35,
          54,
          34,
          46,
          31,
          33,
          33,
          30,
          35,
          31,
          34,
          42,
          36,
          22,
          48,
          55,
          41,
          35,
          40,
          39,
          31,
          42,
          45,
          26,
          29,
          33,
          31,
          18,
          40,
          41,
          26,
          35,
          34,
          26,
          37,
          46,
          41,
          37,
          52,
          32,
          24,
          38,
          37,
          49,
          24,
          26,
          24,
          50,
          25,
          24,
          30,
          34,
          31,
          35,
          31,
          27,
          37,
          20,
          42,
          43,
          38,
          43,
          48,
          44,
          34,
          27,
          21,
          44,
          22,
          33,
          32,
          30,
          53,
          34,
          45,
          26,
          37,
          29,
          35,
          33,
          54,
          36,
          27,
          20,
          33,
          35,
          23,
          25,
          38,
          29,
          48,
          27,
          37,
          50,
          34,
          24,
          39,
          32,
          50,
          38,
          27,
          32,
          47,
          40,
          53,
          41,
          60,
          27,
          41,
          50,
          28,
          36,
          38,
          44,
          47,
          30,
          29,
          42,
          43,
          34,
          23,
          39,
          56,
          40,
          27,
          29,
          53,
          35,
          32,
          38,
          34,
          52,
          33,
          25,
          45,
          23,
          47,
          34,
          55,
          36,
          52,
          26,
          29,
          26,
          34,
          54,
          27,
          37,
          38,
          34,
          35,
          30,
          40,
          34,
          42,
          23,
          24,
          52,
          50,
          29,
          33,
          33,
          47,
          36,
          29,
          58,
          35,
          42,
          28,
          36,
          32,
          40,
          30,
          45,
          42,
          38,
          34,
          49,
          55,
          43,
          27,
          35,
          28,
          34,
          26,
          27,
          51,
          44,
          25,
          33,
          35,
          36,
          32,
          30,
          53,
          45,
          32,
          52,
          37,
          28,
          22,
          44,
          42,
          36,
          25,
          35,
          35,
          32,
          25,
          49,
          24,
          32,
          38,
          42,
          31,
          29,
          53,
          35,
          37,
          53,
          43,
          47,
          37,
          50,
          39,
          33,
          32,
          29,
          44,
          28,
          58,
          43,
          20,
          21,
          36,
          47,
          22,
          41,
          28,
          39,
          27,
          34,
          42,
          33,
          58,
          31,
          35,
          49,
          48,
          31,
          36,
          38,
          32,
          25,
          40,
          26,
          41,
          36,
          19,
          20,
          31,
          40,
          32,
          36,
          33,
          37,
          45,
          29,
          35,
          52,
          58,
          53,
          30,
          38,
          35,
          39,
          40,
          47,
          36,
          31,
          33,
          29,
          33,
          45,
          50,
          33,
          41,
          27,
          45,
          47,
          30,
          50,
          38,
          46,
          24,
          35,
          31,
          18,
          54,
          35,
          30,
          20,
          30,
          26,
          22,
          48,
          48,
          41,
          39,
          27,
          35,
          42,
          50,
          59,
          37,
          55,
          41,
          38,
          26,
          52,
          44,
          50,
          36,
          39,
          33,
          45,
          32,
          34,
          59,
          45,
          53,
          36,
          26,
          34,
          28,
          38,
          50,
          37,
          40,
          26,
          46,
          54,
          56,
          36,
          55,
          43,
          20,
          21,
          46,
          51,
          28,
          26,
          30,
          41,
          38,
          40,
          27,
          55,
          28,
          44,
          33,
          35,
          33,
          28,
          34,
          37,
          25,
          26,
          33,
          42,
          28,
          50,
          33,
          34,
          48,
          45,
          52,
          38,
          29,
          28,
          46,
          38,
          43,
          39,
          40,
          21,
          39,
          36,
          31,
          28,
          35,
          49,
          34,
          29,
          42,
          29,
          38,
          28,
          18,
          33,
          41,
          31,
          37,
          27,
          34,
          35,
          29,
          40,
          42,
          42,
          35,
          24,
          28,
          26,
          30,
          40,
          35,
          34,
          35,
          43,
          32,
          56,
          29,
          19,
          45,
          37,
          20,
          44,
          53,
          29,
          22,
          46,
          44,
          33,
          41,
          30,
          40,
          50,
          28,
          46,
          35,
          24,
          33,
          36,
          30,
          44,
          20,
          46,
          42,
          60,
          32,
          32,
          36,
          33,
          40,
          25,
          30,
          42,
          35,
          27,
          54,
          44,
          19,
          29,
          54,
          31,
          31,
          59,
          43,
          49,
          36,
          48,
          27,
          29,
          48,
          29,
          34,
          44,
          33,
          19,
          23,
          25,
          26,
          45,
          55,
          21,
          46,
          34,
          51,
          59,
          34,
          28,
          44,
          34,
          35,
          42,
          43,
          36,
          44,
          28,
          51,
          30,
          29,
          28,
          25,
          32,
          45,
          39,
          58,
          32,
          39,
          30,
          36,
          46,
          28,
          50,
          40,
          52,
          30,
          39,
          31,
          41,
          31,
          44,
          42,
          55,
          56,
          40,
          34,
          40,
          41,
          35,
          51,
          38,
          34,
          25,
          58,
          40,
          36,
          48,
          27,
          51,
          18,
          35,
          27,
          55,
          56,
          34,
          40,
          34,
          31,
          35,
          38,
          34,
          28,
          31,
          39,
          51,
          41,
          37,
          33,
          32,
          39,
          25,
          52,
          43,
          27,
          27,
          26,
          42,
          52,
          37,
          35,
          25,
          26,
          29,
          49,
          29,
          54,
          58,
          55,
          36,
          31,
          30,
          31,
          34,
          31,
          27,
          36,
          36,
          47,
          25,
          37,
          56,
          47,
          24,
          32,
          34,
          41,
          40,
          31,
          46,
          39,
          31,
          45,
          31,
          31,
          45,
          48,
          34,
          40,
          28,
          44,
          53,
          49,
          40,
          44,
          33,
          34,
          30,
          42,
          44,
          30,
          57,
          49,
          34,
          28,
          29,
          34,
          35,
          24,
          24,
          44,
          29,
          30,
          55,
          33,
          47,
          28,
          28,
          28,
          49,
          29,
          28,
          33,
          32,
          54,
          29,
          44,
          39,
          46,
          35,
          23,
          40,
          34,
          31,
          50,
          34,
          42,
          37,
          29,
          33,
          45,
          42,
          40,
          33,
          40,
          24,
          40,
          45,
          35,
          32,
          36,
          48,
          29,
          33,
          30,
          38,
          35,
          30,
          35,
          53,
          38,
          32,
          48,
          34,
          55,
          34,
          26,
          38,
          38,
          36,
          29,
          35,
          39,
          29,
          50,
          23,
          36,
          42,
          35,
          34,
          40,
          43,
          35,
          46,
          28,
          22,
          50,
          32,
          44,
          30,
          45,
          45,
          31,
          36,
          34,
          49,
          39,
          27,
          35,
          28,
          21,
          18,
          47,
          39,
          40,
          35,
          37,
          39,
          45,
          38,
          35,
          37,
          40,
          44,
          48,
          35,
          24,
          27,
          27,
          40,
          29,
          36,
          25,
          39,
          49,
          50,
          20,
          34,
          36,
          49,
          36,
          36,
          54,
          43,
          35,
          38,
          29,
          33,
          32,
          31,
          49,
          38,
          47,
          49,
          41,
          20,
          33,
          36,
          44,
          23,
          38,
          53,
          48,
          32,
          26,
          55,
          34,
          60,
          33,
          37,
          34,
          23,
          44,
          35,
          43,
          24,
          41,
          29,
          36,
          45,
          24,
          47,
          26,
          45,
          32,
          31,
          41,
          40,
          24,
          46,
          35,
          30,
          47,
          46,
          36,
          32,
          23,
          31,
          39,
          32,
          40,
          45,
          30,
          24,
          30,
          31,
          27,
          29,
          29,
          30,
          34,
          33,
          49,
          33,
          38,
          31,
          29,
          30,
          32,
          38,
          43,
          42,
          55,
          33,
          41,
          34,
          53,
          43,
          34,
          21,
          38,
          22,
          31,
          51,
          37,
          46,
          36,
          44,
          37,
          35,
          33,
          28,
          39,
          46,
          40,
          42,
          35,
          38,
          34,
          37,
          39,
          43,
          41,
          41,
          30,
          26,
          46,
          40,
          34,
          58,
          35,
          47,
          40,
          54,
          31,
          28,
          38,
          26,
          58,
          18,
          31,
          29,
          45,
          36,
          43,
          27,
          29,
          32,
          42,
          47,
          46,
          28,
          29,
          42,
          32,
          46,
          27,
          29,
          43,
          48,
          29,
          46,
          27,
          39,
          55,
          28,
          30,
          22,
          36,
          31,
          34,
          29,
          37,
          35,
          45,
          36,
          40,
          26,
          27,
          48,
          44,
          34,
          56,
          36,
          41,
          42,
          31,
          34,
          31,
          26,
          45,
          33,
          28,
          29,
          39,
          27,
          34,
          28,
          47,
          56,
          39,
          38,
          58,
          32,
          38,
          49,
          42,
          27,
          35,
          28,
          31,
          36,
          34,
          34,
          26,
          29,
          32,
          31,
          28,
          38,
          35,
          27,
          32,
          31,
          53,
          54,
          33,
          43,
          38,
          55,
          31,
          39,
          42,
          31,
          54,
          24,
          23,
          40,
          40,
          25,
          30,
          25,
          47,
          33,
          38,
          31,
          38,
          42,
          41,
          47,
          35,
          22,
          35,
          33,
          32,
          40,
          32,
          39,
          38,
          32,
          37,
          25,
          52,
          44,
          21,
          39,
          23,
          36,
          36,
          56,
          29,
          42,
          56,
          41,
          34,
          36,
          41,
          32,
          35,
          38,
          50,
          36,
          45,
          40,
          35,
          40,
          35,
          29,
          29,
          50,
          39,
          31,
          26,
          36,
          39,
          27,
          49,
          34
         ],
         "xaxis": "x",
         "yaxis": "y"
        }
       ],
       "layout": {
        "barmode": "relative",
        "legend": {
         "tracegroupgap": 0
        },
        "margin": {
         "t": 60
        },
        "template": {
         "data": {
          "bar": [
           {
            "error_x": {
             "color": "#2a3f5f"
            },
            "error_y": {
             "color": "#2a3f5f"
            },
            "marker": {
             "line": {
              "color": "#E5ECF6",
              "width": 0.5
             },
             "pattern": {
              "fillmode": "overlay",
              "size": 10,
              "solidity": 0.2
             }
            },
            "type": "bar"
           }
          ],
          "barpolar": [
           {
            "marker": {
             "line": {
              "color": "#E5ECF6",
              "width": 0.5
             },
             "pattern": {
              "fillmode": "overlay",
              "size": 10,
              "solidity": 0.2
             }
            },
            "type": "barpolar"
           }
          ],
          "carpet": [
           {
            "aaxis": {
             "endlinecolor": "#2a3f5f",
             "gridcolor": "white",
             "linecolor": "white",
             "minorgridcolor": "white",
             "startlinecolor": "#2a3f5f"
            },
            "baxis": {
             "endlinecolor": "#2a3f5f",
             "gridcolor": "white",
             "linecolor": "white",
             "minorgridcolor": "white",
             "startlinecolor": "#2a3f5f"
            },
            "type": "carpet"
           }
          ],
          "choropleth": [
           {
            "colorbar": {
             "outlinewidth": 0,
             "ticks": ""
            },
            "type": "choropleth"
           }
          ],
          "contour": [
           {
            "colorbar": {
             "outlinewidth": 0,
             "ticks": ""
            },
            "colorscale": [
             [
              0,
              "#0d0887"
             ],
             [
              0.1111111111111111,
              "#46039f"
             ],
             [
              0.2222222222222222,
              "#7201a8"
             ],
             [
              0.3333333333333333,
              "#9c179e"
             ],
             [
              0.4444444444444444,
              "#bd3786"
             ],
             [
              0.5555555555555556,
              "#d8576b"
             ],
             [
              0.6666666666666666,
              "#ed7953"
             ],
             [
              0.7777777777777778,
              "#fb9f3a"
             ],
             [
              0.8888888888888888,
              "#fdca26"
             ],
             [
              1,
              "#f0f921"
             ]
            ],
            "type": "contour"
           }
          ],
          "contourcarpet": [
           {
            "colorbar": {
             "outlinewidth": 0,
             "ticks": ""
            },
            "type": "contourcarpet"
           }
          ],
          "heatmap": [
           {
            "colorbar": {
             "outlinewidth": 0,
             "ticks": ""
            },
            "colorscale": [
             [
              0,
              "#0d0887"
             ],
             [
              0.1111111111111111,
              "#46039f"
             ],
             [
              0.2222222222222222,
              "#7201a8"
             ],
             [
              0.3333333333333333,
              "#9c179e"
             ],
             [
              0.4444444444444444,
              "#bd3786"
             ],
             [
              0.5555555555555556,
              "#d8576b"
             ],
             [
              0.6666666666666666,
              "#ed7953"
             ],
             [
              0.7777777777777778,
              "#fb9f3a"
             ],
             [
              0.8888888888888888,
              "#fdca26"
             ],
             [
              1,
              "#f0f921"
             ]
            ],
            "type": "heatmap"
           }
          ],
          "heatmapgl": [
           {
            "colorbar": {
             "outlinewidth": 0,
             "ticks": ""
            },
            "colorscale": [
             [
              0,
              "#0d0887"
             ],
             [
              0.1111111111111111,
              "#46039f"
             ],
             [
              0.2222222222222222,
              "#7201a8"
             ],
             [
              0.3333333333333333,
              "#9c179e"
             ],
             [
              0.4444444444444444,
              "#bd3786"
             ],
             [
              0.5555555555555556,
              "#d8576b"
             ],
             [
              0.6666666666666666,
              "#ed7953"
             ],
             [
              0.7777777777777778,
              "#fb9f3a"
             ],
             [
              0.8888888888888888,
              "#fdca26"
             ],
             [
              1,
              "#f0f921"
             ]
            ],
            "type": "heatmapgl"
           }
          ],
          "histogram": [
           {
            "marker": {
             "pattern": {
              "fillmode": "overlay",
              "size": 10,
              "solidity": 0.2
             }
            },
            "type": "histogram"
           }
          ],
          "histogram2d": [
           {
            "colorbar": {
             "outlinewidth": 0,
             "ticks": ""
            },
            "colorscale": [
             [
              0,
              "#0d0887"
             ],
             [
              0.1111111111111111,
              "#46039f"
             ],
             [
              0.2222222222222222,
              "#7201a8"
             ],
             [
              0.3333333333333333,
              "#9c179e"
             ],
             [
              0.4444444444444444,
              "#bd3786"
             ],
             [
              0.5555555555555556,
              "#d8576b"
             ],
             [
              0.6666666666666666,
              "#ed7953"
             ],
             [
              0.7777777777777778,
              "#fb9f3a"
             ],
             [
              0.8888888888888888,
              "#fdca26"
             ],
             [
              1,
              "#f0f921"
             ]
            ],
            "type": "histogram2d"
           }
          ],
          "histogram2dcontour": [
           {
            "colorbar": {
             "outlinewidth": 0,
             "ticks": ""
            },
            "colorscale": [
             [
              0,
              "#0d0887"
             ],
             [
              0.1111111111111111,
              "#46039f"
             ],
             [
              0.2222222222222222,
              "#7201a8"
             ],
             [
              0.3333333333333333,
              "#9c179e"
             ],
             [
              0.4444444444444444,
              "#bd3786"
             ],
             [
              0.5555555555555556,
              "#d8576b"
             ],
             [
              0.6666666666666666,
              "#ed7953"
             ],
             [
              0.7777777777777778,
              "#fb9f3a"
             ],
             [
              0.8888888888888888,
              "#fdca26"
             ],
             [
              1,
              "#f0f921"
             ]
            ],
            "type": "histogram2dcontour"
           }
          ],
          "mesh3d": [
           {
            "colorbar": {
             "outlinewidth": 0,
             "ticks": ""
            },
            "type": "mesh3d"
           }
          ],
          "parcoords": [
           {
            "line": {
             "colorbar": {
              "outlinewidth": 0,
              "ticks": ""
             }
            },
            "type": "parcoords"
           }
          ],
          "pie": [
           {
            "automargin": true,
            "type": "pie"
           }
          ],
          "scatter": [
           {
            "fillpattern": {
             "fillmode": "overlay",
             "size": 10,
             "solidity": 0.2
            },
            "type": "scatter"
           }
          ],
          "scatter3d": [
           {
            "line": {
             "colorbar": {
              "outlinewidth": 0,
              "ticks": ""
             }
            },
            "marker": {
             "colorbar": {
              "outlinewidth": 0,
              "ticks": ""
             }
            },
            "type": "scatter3d"
           }
          ],
          "scattercarpet": [
           {
            "marker": {
             "colorbar": {
              "outlinewidth": 0,
              "ticks": ""
             }
            },
            "type": "scattercarpet"
           }
          ],
          "scattergeo": [
           {
            "marker": {
             "colorbar": {
              "outlinewidth": 0,
              "ticks": ""
             }
            },
            "type": "scattergeo"
           }
          ],
          "scattergl": [
           {
            "marker": {
             "colorbar": {
              "outlinewidth": 0,
              "ticks": ""
             }
            },
            "type": "scattergl"
           }
          ],
          "scattermapbox": [
           {
            "marker": {
             "colorbar": {
              "outlinewidth": 0,
              "ticks": ""
             }
            },
            "type": "scattermapbox"
           }
          ],
          "scatterpolar": [
           {
            "marker": {
             "colorbar": {
              "outlinewidth": 0,
              "ticks": ""
             }
            },
            "type": "scatterpolar"
           }
          ],
          "scatterpolargl": [
           {
            "marker": {
             "colorbar": {
              "outlinewidth": 0,
              "ticks": ""
             }
            },
            "type": "scatterpolargl"
           }
          ],
          "scatterternary": [
           {
            "marker": {
             "colorbar": {
              "outlinewidth": 0,
              "ticks": ""
             }
            },
            "type": "scatterternary"
           }
          ],
          "surface": [
           {
            "colorbar": {
             "outlinewidth": 0,
             "ticks": ""
            },
            "colorscale": [
             [
              0,
              "#0d0887"
             ],
             [
              0.1111111111111111,
              "#46039f"
             ],
             [
              0.2222222222222222,
              "#7201a8"
             ],
             [
              0.3333333333333333,
              "#9c179e"
             ],
             [
              0.4444444444444444,
              "#bd3786"
             ],
             [
              0.5555555555555556,
              "#d8576b"
             ],
             [
              0.6666666666666666,
              "#ed7953"
             ],
             [
              0.7777777777777778,
              "#fb9f3a"
             ],
             [
              0.8888888888888888,
              "#fdca26"
             ],
             [
              1,
              "#f0f921"
             ]
            ],
            "type": "surface"
           }
          ],
          "table": [
           {
            "cells": {
             "fill": {
              "color": "#EBF0F8"
             },
             "line": {
              "color": "white"
             }
            },
            "header": {
             "fill": {
              "color": "#C8D4E3"
             },
             "line": {
              "color": "white"
             }
            },
            "type": "table"
           }
          ]
         },
         "layout": {
          "annotationdefaults": {
           "arrowcolor": "#2a3f5f",
           "arrowhead": 0,
           "arrowwidth": 1
          },
          "autotypenumbers": "strict",
          "coloraxis": {
           "colorbar": {
            "outlinewidth": 0,
            "ticks": ""
           }
          },
          "colorscale": {
           "diverging": [
            [
             0,
             "#8e0152"
            ],
            [
             0.1,
             "#c51b7d"
            ],
            [
             0.2,
             "#de77ae"
            ],
            [
             0.3,
             "#f1b6da"
            ],
            [
             0.4,
             "#fde0ef"
            ],
            [
             0.5,
             "#f7f7f7"
            ],
            [
             0.6,
             "#e6f5d0"
            ],
            [
             0.7,
             "#b8e186"
            ],
            [
             0.8,
             "#7fbc41"
            ],
            [
             0.9,
             "#4d9221"
            ],
            [
             1,
             "#276419"
            ]
           ],
           "sequential": [
            [
             0,
             "#0d0887"
            ],
            [
             0.1111111111111111,
             "#46039f"
            ],
            [
             0.2222222222222222,
             "#7201a8"
            ],
            [
             0.3333333333333333,
             "#9c179e"
            ],
            [
             0.4444444444444444,
             "#bd3786"
            ],
            [
             0.5555555555555556,
             "#d8576b"
            ],
            [
             0.6666666666666666,
             "#ed7953"
            ],
            [
             0.7777777777777778,
             "#fb9f3a"
            ],
            [
             0.8888888888888888,
             "#fdca26"
            ],
            [
             1,
             "#f0f921"
            ]
           ],
           "sequentialminus": [
            [
             0,
             "#0d0887"
            ],
            [
             0.1111111111111111,
             "#46039f"
            ],
            [
             0.2222222222222222,
             "#7201a8"
            ],
            [
             0.3333333333333333,
             "#9c179e"
            ],
            [
             0.4444444444444444,
             "#bd3786"
            ],
            [
             0.5555555555555556,
             "#d8576b"
            ],
            [
             0.6666666666666666,
             "#ed7953"
            ],
            [
             0.7777777777777778,
             "#fb9f3a"
            ],
            [
             0.8888888888888888,
             "#fdca26"
            ],
            [
             1,
             "#f0f921"
            ]
           ]
          },
          "colorway": [
           "#636efa",
           "#EF553B",
           "#00cc96",
           "#ab63fa",
           "#FFA15A",
           "#19d3f3",
           "#FF6692",
           "#B6E880",
           "#FF97FF",
           "#FECB52"
          ],
          "font": {
           "color": "#2a3f5f"
          },
          "geo": {
           "bgcolor": "white",
           "lakecolor": "white",
           "landcolor": "#E5ECF6",
           "showlakes": true,
           "showland": true,
           "subunitcolor": "white"
          },
          "hoverlabel": {
           "align": "left"
          },
          "hovermode": "closest",
          "mapbox": {
           "style": "light"
          },
          "paper_bgcolor": "white",
          "plot_bgcolor": "#E5ECF6",
          "polar": {
           "angularaxis": {
            "gridcolor": "white",
            "linecolor": "white",
            "ticks": ""
           },
           "bgcolor": "#E5ECF6",
           "radialaxis": {
            "gridcolor": "white",
            "linecolor": "white",
            "ticks": ""
           }
          },
          "scene": {
           "xaxis": {
            "backgroundcolor": "#E5ECF6",
            "gridcolor": "white",
            "gridwidth": 2,
            "linecolor": "white",
            "showbackground": true,
            "ticks": "",
            "zerolinecolor": "white"
           },
           "yaxis": {
            "backgroundcolor": "#E5ECF6",
            "gridcolor": "white",
            "gridwidth": 2,
            "linecolor": "white",
            "showbackground": true,
            "ticks": "",
            "zerolinecolor": "white"
           },
           "zaxis": {
            "backgroundcolor": "#E5ECF6",
            "gridcolor": "white",
            "gridwidth": 2,
            "linecolor": "white",
            "showbackground": true,
            "ticks": "",
            "zerolinecolor": "white"
           }
          },
          "shapedefaults": {
           "line": {
            "color": "#2a3f5f"
           }
          },
          "ternary": {
           "aaxis": {
            "gridcolor": "white",
            "linecolor": "white",
            "ticks": ""
           },
           "baxis": {
            "gridcolor": "white",
            "linecolor": "white",
            "ticks": ""
           },
           "bgcolor": "#E5ECF6",
           "caxis": {
            "gridcolor": "white",
            "linecolor": "white",
            "ticks": ""
           }
          },
          "title": {
           "x": 0.05
          },
          "xaxis": {
           "automargin": true,
           "gridcolor": "white",
           "linecolor": "white",
           "ticks": "",
           "title": {
            "standoff": 15
           },
           "zerolinecolor": "white",
           "zerolinewidth": 2
          },
          "yaxis": {
           "automargin": true,
           "gridcolor": "white",
           "linecolor": "white",
           "ticks": "",
           "title": {
            "standoff": 15
           },
           "zerolinecolor": "white",
           "zerolinewidth": 2
          }
         }
        },
        "xaxis": {
         "anchor": "y",
         "domain": [
          0,
          1
         ],
         "title": {
          "text": "Age"
         }
        },
        "yaxis": {
         "anchor": "x",
         "domain": [
          0,
          1
         ],
         "title": {
          "text": "count"
         }
        }
       }
      }
     },
     "metadata": {},
     "output_type": "display_data"
    }
   ],
   "source": [
    "df = px.data.tips()\n",
    "fig = px.histogram(employee_data, x='Age')\n",
    "fig.show()\n"
   ]
  },
  {
   "cell_type": "code",
   "execution_count": 78,
   "id": "9570dc76",
   "metadata": {
    "execution": {
     "iopub.execute_input": "2022-07-28T14:15:07.531556Z",
     "iopub.status.busy": "2022-07-28T14:15:07.531027Z",
     "iopub.status.idle": "2022-07-28T14:15:07.543155Z",
     "shell.execute_reply": "2022-07-28T14:15:07.542073Z"
    },
    "papermill": {
     "duration": 0.032358,
     "end_time": "2022-07-28T14:15:07.545941",
     "exception": false,
     "start_time": "2022-07-28T14:15:07.513583",
     "status": "completed"
    },
    "tags": []
   },
   "outputs": [
    {
     "data": {
      "text/plain": [
       "Age\n",
       "35     78\n",
       "34     77\n",
       "36     69\n",
       "31     69\n",
       "29     68\n",
       "32     61\n",
       "30     60\n",
       "38     58\n",
       "33     58\n",
       "40     57\n",
       "dtype: int64"
      ]
     },
     "execution_count": 78,
     "metadata": {},
     "output_type": "execute_result"
    }
   ],
   "source": [
    "employee_data[['Age']].value_counts().sort_values(ascending=False).head(10)"
   ]
  },
  {
   "cell_type": "code",
   "execution_count": 79,
   "id": "ad81c6e7",
   "metadata": {
    "execution": {
     "iopub.execute_input": "2022-07-28T14:15:07.580896Z",
     "iopub.status.busy": "2022-07-28T14:15:07.580260Z",
     "iopub.status.idle": "2022-07-28T14:15:07.590473Z",
     "shell.execute_reply": "2022-07-28T14:15:07.589703Z"
    },
    "papermill": {
     "duration": 0.029963,
     "end_time": "2022-07-28T14:15:07.592667",
     "exception": false,
     "start_time": "2022-07-28T14:15:07.562704",
     "status": "completed"
    },
    "tags": []
   },
   "outputs": [
    {
     "data": {
      "text/plain": [
       "Age\n",
       "59     10\n",
       "19      9\n",
       "18      8\n",
       "60      5\n",
       "57      4\n",
       "dtype: int64"
      ]
     },
     "execution_count": 79,
     "metadata": {},
     "output_type": "execute_result"
    }
   ],
   "source": [
    "employee_data[['Age']].value_counts().sort_values(ascending=False).tail()"
   ]
  },
  {
   "cell_type": "markdown",
   "id": "71f87567",
   "metadata": {
    "papermill": {
     "duration": 0.016451,
     "end_time": "2022-07-28T14:15:07.625809",
     "exception": false,
     "start_time": "2022-07-28T14:15:07.609358",
     "status": "completed"
    },
    "tags": []
   },
   "source": [
    "**Most employees are in their 30s with 35 year olds having the highest count and lowest are people at around the age 60 or less than 20.**"
   ]
  },
  {
   "cell_type": "code",
   "execution_count": 80,
   "id": "b321690c",
   "metadata": {
    "execution": {
     "iopub.execute_input": "2022-07-28T14:15:07.660267Z",
     "iopub.status.busy": "2022-07-28T14:15:07.659861Z",
     "iopub.status.idle": "2022-07-28T14:15:07.668590Z",
     "shell.execute_reply": "2022-07-28T14:15:07.667671Z"
    },
    "papermill": {
     "duration": 0.028965,
     "end_time": "2022-07-28T14:15:07.670918",
     "exception": false,
     "start_time": "2022-07-28T14:15:07.641953",
     "status": "completed"
    },
    "tags": []
   },
   "outputs": [
    {
     "data": {
      "text/plain": [
       "80    1470\n",
       "Name: StandardHours, dtype: int64"
      ]
     },
     "execution_count": 80,
     "metadata": {},
     "output_type": "execute_result"
    }
   ],
   "source": [
    "employee_data['StandardHours'].value_counts()"
   ]
  },
  {
   "cell_type": "code",
   "execution_count": 81,
   "id": "aeb9c630",
   "metadata": {
    "execution": {
     "iopub.execute_input": "2022-07-28T14:15:07.706605Z",
     "iopub.status.busy": "2022-07-28T14:15:07.705906Z",
     "iopub.status.idle": "2022-07-28T14:15:07.713391Z",
     "shell.execute_reply": "2022-07-28T14:15:07.712576Z"
    },
    "papermill": {
     "duration": 0.028062,
     "end_time": "2022-07-28T14:15:07.715794",
     "exception": false,
     "start_time": "2022-07-28T14:15:07.687732",
     "status": "completed"
    },
    "tags": []
   },
   "outputs": [
    {
     "data": {
      "text/plain": [
       "1    1470\n",
       "Name: EmployeeCount, dtype: int64"
      ]
     },
     "execution_count": 81,
     "metadata": {},
     "output_type": "execute_result"
    }
   ],
   "source": [
    "employee_data['EmployeeCount'].value_counts()"
   ]
  },
  {
   "cell_type": "code",
   "execution_count": 82,
   "id": "299778ed",
   "metadata": {
    "execution": {
     "iopub.execute_input": "2022-07-28T14:15:07.750787Z",
     "iopub.status.busy": "2022-07-28T14:15:07.750035Z",
     "iopub.status.idle": "2022-07-28T14:15:10.517429Z",
     "shell.execute_reply": "2022-07-28T14:15:10.516534Z"
    },
    "papermill": {
     "duration": 2.789372,
     "end_time": "2022-07-28T14:15:10.521530",
     "exception": false,
     "start_time": "2022-07-28T14:15:07.732158",
     "status": "completed"
    },
    "tags": []
   },
   "outputs": [
    {
     "data": {
      "text/plain": [
       "<AxesSubplot:>"
      ]
     },
     "execution_count": 82,
     "metadata": {},
     "output_type": "execute_result"
    },
    {
     "data": {
      "image/png": "[encoded data removed]",
      "text/plain": [
       "<Figure size 864x864 with 2 Axes>"
      ]
     },
     "metadata": {},
     "output_type": "display_data"
    }
   ],
   "source": [
    "# We can use a heatmap to check correlation between the variables.\n",
    "employee_data = employee_data.drop(['EmployeeCount','StandardHours'], axis=1) # dropping these two columns because they only have one value\n",
    "corr = employee_data.corr()\n",
    "plt.figure(figsize=(12,12))\n",
    "sns.heatmap(corr,cbar=True,square=True,fmt='.1f',annot=True,cmap='YlGnBu')"
   ]
  },
  {
   "cell_type": "markdown",
   "id": "35aa4fd4",
   "metadata": {
    "papermill": {
     "duration": 0.020011,
     "end_time": "2022-07-28T14:15:10.561433",
     "exception": false,
     "start_time": "2022-07-28T14:15:10.541422",
     "status": "completed"
    },
    "tags": []
   },
   "source": [
    "**As we can see, there isn't a very strong correlation of the target column with any of the numerical columns. But we can see other correlations such as;**\n",
    "* More senior employees have higher total working years (very obvious)\n",
    "* Higher performance ratings lead to salary hike percentage to increase\n",
    "* The more years an employee puts in, the more their monthly income increases\n",
    "* A lot of employees remain in their current role and also under the same manager as years pass by meaning they don't get promotion and this could be a major factor contributing to attrition\n",
    "\n",
    "**From here, we can deduct that the lack of promotions may be a crucial factor to attritions.**"
   ]
  },
  {
   "cell_type": "code",
   "execution_count": 83,
   "id": "ea666781",
   "metadata": {},
   "outputs": [
    {
     "data": {
      "application/vnd.plotly.v1+json": {
       "config": {
        "plotlyServerURL": "https://plot.ly"
       },
       "data": [
        {
         "alignmentgroup": "True",
         "hovertemplate": "YearsAtCompany=%{y}<extra></extra>",
         "legendgroup": "",
         "marker": {
          "color": "#636efa"
         },
         "name": "",
         "notched": false,
         "offsetgroup": "",
         "orientation": "v",
         "showlegend": false,
         "type": "box",
         "x0": " ",
         "xaxis": "x",
         "y": [
          6,
          10,
          0,
          8,
          2,
          7,
          1,
          1,
          9,
          7,
          5,
          9,
          5,
          2,
          4,
          10,
          6,
          1,
          25,
          3,
          4,
          5,
          12,
          0,
          4,
          14,
          10,
          9,
          22,
          2,
          1,
          4,
          10,
          1,
          2,
          5,
          3,
          2,
          1,
          5,
          1,
          1,
          1,
          9,
          12,
          22,
          9,
          1,
          9,
          1,
          1,
          2,
          4,
          4,
          2,
          15,
          9,
          2,
          7,
          7,
          9,
          10,
          27,
          21,
          17,
          5,
          6,
          1,
          3,
          1,
          4,
          5,
          1,
          10,
          1,
          11,
          15,
          0,
          5,
          4,
          10,
          6,
          1,
          13,
          5,
          6,
          0,
          4,
          11,
          9,
          22,
          10,
          11,
          10,
          11,
          4,
          3,
          5,
          37,
          3,
          3,
          1,
          1,
          16,
          1,
          3,
          8,
          6,
          2,
          0,
          13,
          9,
          5,
          5,
          1,
          5,
          11,
          9,
          1,
          25,
          10,
          7,
          5,
          20,
          7,
          5,
          40,
          0,
          2,
          15,
          3,
          2,
          2,
          9,
          8,
          3,
          4,
          15,
          2,
          11,
          5,
          6,
          3,
          5,
          8,
          3,
          5,
          7,
          5,
          1,
          20,
          10,
          7,
          17,
          9,
          10,
          1,
          1,
          12,
          4,
          2,
          2,
          5,
          5,
          1,
          5,
          9,
          10,
          8,
          5,
          5,
          0,
          8,
          12,
          5,
          2,
          3,
          1,
          24,
          2,
          4,
          3,
          4,
          3,
          4,
          8,
          20,
          24,
          10,
          7,
          33,
          7,
          1,
          5,
          20,
          8,
          6,
          5,
          1,
          7,
          2,
          7,
          5,
          7,
          1,
          10,
          4,
          8,
          3,
          4,
          14,
          11,
          7,
          10,
          5,
          1,
          6,
          6,
          19,
          6,
          13,
          3,
          10,
          16,
          5,
          1,
          9,
          11,
          10,
          4,
          2,
          22,
          2,
          7,
          5,
          17,
          9,
          33,
          4,
          3,
          3,
          3,
          1,
          9,
          24,
          2,
          2,
          11,
          3,
          3,
          1,
          19,
          6,
          3,
          3,
          4,
          9,
          21,
          1,
          5,
          5,
          8,
          6,
          7,
          0,
          0,
          9,
          6,
          20,
          15,
          36,
          10,
          5,
          5,
          3,
          5,
          7,
          8,
          6,
          10,
          5,
          20,
          10,
          10,
          5,
          17,
          1,
          2,
          3,
          5,
          3,
          8,
          2,
          8,
          4,
          20,
          0,
          11,
          1,
          4,
          22,
          0,
          8,
          8,
          18,
          9,
          13,
          10,
          5,
          5,
          2,
          24,
          2,
          10,
          21,
          8,
          7,
          8,
          4,
          13,
          5,
          7,
          7,
          3,
          10,
          10,
          21,
          1,
          7,
          3,
          9,
          5,
          4,
          1,
          10,
          4,
          7,
          3,
          10,
          8,
          6,
          11,
          11,
          7,
          16,
          4,
          5,
          0,
          1,
          4,
          3,
          8,
          0,
          7,
          2,
          8,
          1,
          3,
          1,
          13,
          3,
          7,
          3,
          1,
          5,
          1,
          8,
          4,
          6,
          2,
          1,
          3,
          1,
          5,
          7,
          5,
          7,
          2,
          5,
          5,
          5,
          1,
          6,
          2,
          10,
          1,
          18,
          5,
          5,
          1,
          25,
          1,
          4,
          3,
          13,
          3,
          5,
          5,
          13,
          4,
          21,
          7,
          5,
          10,
          10,
          2,
          5,
          2,
          5,
          5,
          5,
          29,
          10,
          6,
          5,
          2,
          1,
          20,
          3,
          5,
          10,
          2,
          1,
          9,
          1,
          27,
          11,
          18,
          5,
          3,
          5,
          1,
          7,
          3,
          13,
          7,
          4,
          3,
          8,
          1,
          3,
          2,
          10,
          2,
          9,
          10,
          14,
          11,
          20,
          8,
          6,
          10,
          8,
          7,
          3,
          6,
          5,
          0,
          1,
          8,
          0,
          5,
          10,
          1,
          6,
          2,
          18,
          9,
          10,
          4,
          2,
          1,
          6,
          31,
          6,
          5,
          1,
          32,
          7,
          6,
          1,
          6,
          3,
          3,
          7,
          5,
          3,
          1,
          10,
          1,
          0,
          8,
          3,
          2,
          8,
          4,
          3,
          2,
          2,
          5,
          6,
          1,
          14,
          10,
          1,
          3,
          10,
          6,
          17,
          13,
          9,
          3,
          4,
          1,
          10,
          1,
          3,
          3,
          7,
          10,
          2,
          6,
          1,
          20,
          8,
          2,
          20,
          10,
          4,
          9,
          9,
          7,
          7,
          18,
          5,
          21,
          2,
          9,
          22,
          2,
          7,
          8,
          1,
          5,
          22,
          8,
          1,
          2,
          2,
          5,
          4,
          8,
          10,
          4,
          7,
          2,
          2,
          1,
          10,
          1,
          0,
          34,
          10,
          6,
          8,
          2,
          5,
          6,
          5,
          10,
          4,
          2,
          8,
          4,
          4,
          5,
          4,
          5,
          15,
          6,
          3,
          2,
          8,
          3,
          24,
          0,
          1,
          5,
          4,
          1,
          13,
          3,
          26,
          9,
          10,
          31,
          2,
          4,
          2,
          5,
          14,
          1,
          0,
          1,
          9,
          4,
          5,
          9,
          9,
          4,
          9,
          8,
          8,
          3,
          8,
          0,
          20,
          5,
          4,
          9,
          6,
          18,
          5,
          5,
          5,
          5,
          5,
          9,
          1,
          5,
          2,
          3,
          2,
          5,
          5,
          17,
          10,
          3,
          5,
          4,
          5,
          10,
          2,
          5,
          6,
          3,
          2,
          13,
          5,
          12,
          5,
          7,
          10,
          31,
          5,
          4,
          1,
          4,
          8,
          4,
          1,
          1,
          2,
          1,
          16,
          3,
          3,
          7,
          2,
          2,
          1,
          1,
          5,
          3,
          6,
          7,
          10,
          26,
          0,
          9,
          6,
          15,
          3,
          1,
          1,
          7,
          18,
          11,
          1,
          1,
          9,
          1,
          8,
          16,
          5,
          14,
          9,
          3,
          5,
          9,
          1,
          17,
          8,
          5,
          10,
          8,
          1,
          19,
          7,
          3,
          10,
          0,
          3,
          5,
          5,
          6,
          18,
          2,
          9,
          9,
          5,
          12,
          2,
          8,
          4,
          4,
          4,
          0,
          10,
          16,
          8,
          1,
          3,
          8,
          4,
          2,
          15,
          2,
          21,
          3,
          3,
          1,
          1,
          5,
          1,
          8,
          21,
          1,
          2,
          32,
          12,
          18,
          17,
          21,
          2,
          9,
          8,
          15,
          6,
          6,
          15,
          1,
          3,
          1,
          1,
          2,
          8,
          4,
          7,
          5,
          2,
          9,
          5,
          14,
          9,
          1,
          2,
          1,
          16,
          10,
          10,
          5,
          6,
          10,
          19,
          11,
          3,
          3,
          8,
          20,
          3,
          8,
          13,
          4,
          6,
          1,
          7,
          1,
          2,
          22,
          1,
          0,
          3,
          0,
          5,
          15,
          8,
          8,
          7,
          9,
          12,
          1,
          8,
          18,
          20,
          2,
          5,
          11,
          2,
          5,
          5,
          9,
          3,
          7,
          1,
          10,
          7,
          3,
          0,
          5,
          1,
          2,
          6,
          4,
          6,
          5,
          11,
          18,
          21,
          6,
          8,
          4,
          1,
          8,
          10,
          1,
          7,
          13,
          2,
          4,
          1,
          5,
          10,
          1,
          3,
          14,
          2,
          6,
          7,
          5,
          0,
          26,
          0,
          5,
          1,
          4,
          0,
          2,
          6,
          4,
          7,
          1,
          10,
          7,
          10,
          20,
          2,
          6,
          4,
          11,
          2,
          8,
          7,
          14,
          5,
          4,
          11,
          1,
          13,
          9,
          5,
          10,
          1,
          3,
          10,
          6,
          10,
          6,
          8,
          1,
          11,
          1,
          5,
          6,
          1,
          7,
          1,
          22,
          9,
          1,
          1,
          1,
          8,
          24,
          33,
          2,
          11,
          3,
          29,
          9,
          11,
          4,
          25,
          10,
          3,
          1,
          21,
          16,
          10,
          2,
          7,
          8,
          7,
          3,
          2,
          10,
          0,
          19,
          2,
          10,
          5,
          9,
          7,
          7,
          9,
          3,
          5,
          8,
          9,
          8,
          10,
          19,
          3,
          3,
          20,
          19,
          7,
          4,
          9,
          9,
          9,
          9,
          33,
          7,
          10,
          3,
          10,
          4,
          15,
          10,
          1,
          5,
          0,
          9,
          6,
          19,
          19,
          5,
          12,
          8,
          1,
          4,
          4,
          14,
          5,
          10,
          5,
          4,
          6,
          6,
          5,
          3,
          6,
          3,
          5,
          20,
          6,
          8,
          4,
          20,
          5,
          3,
          2,
          3,
          7,
          10,
          4,
          8,
          20,
          9,
          7,
          5,
          1,
          3,
          3,
          4,
          1,
          5,
          10,
          3,
          6,
          3,
          6,
          3,
          20,
          5,
          4,
          5,
          4,
          8,
          13,
          7,
          1,
          10,
          7,
          3,
          2,
          3,
          2,
          2,
          9,
          5,
          5,
          9,
          3,
          3,
          5,
          4,
          13,
          2,
          12,
          1,
          1,
          12,
          8,
          14,
          3,
          5,
          15,
          1,
          0,
          1,
          2,
          10,
          5,
          3,
          5,
          5,
          0,
          1,
          4,
          3,
          3,
          8,
          0,
          5,
          14,
          9,
          20,
          2,
          13,
          11,
          4,
          5,
          10,
          7,
          32,
          11,
          1,
          10,
          7,
          5,
          5,
          20,
          8,
          15,
          21,
          1,
          2,
          10,
          5,
          7,
          3,
          8,
          1,
          2,
          10,
          6,
          3,
          4,
          1,
          33,
          5,
          6,
          8,
          1,
          36,
          2,
          1,
          9,
          3,
          1,
          10,
          5,
          7,
          6,
          1,
          2,
          3,
          1,
          10,
          8,
          5,
          6,
          1,
          26,
          1,
          4,
          30,
          3,
          22,
          6,
          10,
          10,
          5,
          3,
          9,
          9,
          7,
          7,
          16,
          5,
          2,
          0,
          5,
          10,
          18,
          14,
          4,
          9,
          10,
          5,
          13,
          8,
          4,
          10,
          2,
          2,
          6,
          3,
          4,
          4,
          5,
          3,
          7,
          5,
          4,
          14,
          2,
          11,
          4,
          15,
          3,
          5,
          10,
          14,
          11,
          13,
          10,
          6,
          9,
          10,
          2,
          4,
          3,
          8,
          2,
          2,
          6,
          3,
          2,
          5,
          0,
          4,
          9,
          1,
          7,
          4,
          15,
          1,
          14,
          6,
          10,
          3,
          8,
          5,
          10,
          5,
          10,
          5,
          13,
          23,
          1,
          23,
          3,
          21,
          5,
          5,
          3,
          1,
          6,
          10,
          7,
          10,
          1,
          10,
          2,
          0,
          3,
          5,
          9,
          4,
          21,
          5,
          9,
          2,
          4,
          5,
          6,
          2,
          3,
          7,
          5,
          11,
          5,
          0,
          6,
          1,
          1,
          7,
          7,
          1,
          1,
          5,
          1,
          9,
          5,
          15,
          3,
          9,
          2,
          1,
          5,
          1,
          12,
          2,
          5,
          2,
          12,
          5,
          10,
          10,
          10,
          5,
          4,
          2,
          4,
          0,
          7,
          11,
          7,
          10,
          2,
          3,
          3,
          22,
          7,
          5,
          9,
          5,
          10,
          16,
          5,
          22,
          7,
          7,
          3,
          3,
          4,
          5,
          2,
          0,
          1,
          2,
          8,
          1,
          7,
          5,
          11,
          0,
          6,
          2,
          9,
          3,
          7,
          0,
          2,
          19,
          9,
          1,
          16,
          22,
          1,
          8,
          7,
          2,
          5,
          1,
          1,
          1,
          10,
          10,
          5,
          3,
          5,
          3,
          9,
          10,
          19,
          1,
          8,
          22,
          2,
          5,
          4,
          4,
          5,
          13,
          5,
          4,
          2,
          7,
          4,
          10,
          7,
          1,
          3,
          5,
          15,
          2,
          8,
          0,
          10,
          20,
          1,
          4,
          5,
          5,
          0,
          1,
          5,
          5,
          4,
          5,
          14,
          8,
          7,
          5,
          5,
          10,
          4,
          1,
          10,
          7,
          1,
          10,
          2,
          4,
          9,
          10,
          6,
          10,
          1,
          20,
          20,
          11,
          5,
          4,
          5,
          10,
          11,
          2,
          12,
          2,
          17,
          1,
          15,
          2,
          8,
          4,
          5,
          13,
          2,
          3,
          10,
          9,
          6,
          1,
          2,
          7,
          18,
          14,
          16,
          5,
          9,
          4,
          2,
          6,
          1,
          9,
          4,
          13,
          2,
          22,
          10,
          20,
          8,
          15,
          5,
          4,
          9,
          10,
          6,
          6,
          5,
          2,
          10,
          5,
          4,
          4,
          5,
          3,
          20,
          9,
          4,
          5,
          7,
          6,
          9,
          4
         ],
         "y0": " ",
         "yaxis": "y"
        }
       ],
       "layout": {
        "boxmode": "group",
        "legend": {
         "tracegroupgap": 0
        },
        "margin": {
         "t": 60
        },
        "template": {
         "data": {
          "bar": [
           {
            "error_x": {
             "color": "#2a3f5f"
            },
            "error_y": {
             "color": "#2a3f5f"
            },
            "marker": {
             "line": {
              "color": "#E5ECF6",
              "width": 0.5
             },
             "pattern": {
              "fillmode": "overlay",
              "size": 10,
              "solidity": 0.2
             }
            },
            "type": "bar"
           }
          ],
          "barpolar": [
           {
            "marker": {
             "line": {
              "color": "#E5ECF6",
              "width": 0.5
             },
             "pattern": {
              "fillmode": "overlay",
              "size": 10,
              "solidity": 0.2
             }
            },
            "type": "barpolar"
           }
          ],
          "carpet": [
           {
            "aaxis": {
             "endlinecolor": "#2a3f5f",
             "gridcolor": "white",
             "linecolor": "white",
             "minorgridcolor": "white",
             "startlinecolor": "#2a3f5f"
            },
            "baxis": {
             "endlinecolor": "#2a3f5f",
             "gridcolor": "white",
             "linecolor": "white",
             "minorgridcolor": "white",
             "startlinecolor": "#2a3f5f"
            },
            "type": "carpet"
           }
          ],
          "choropleth": [
           {
            "colorbar": {
             "outlinewidth": 0,
             "ticks": ""
            },
            "type": "choropleth"
           }
          ],
          "contour": [
           {
            "colorbar": {
             "outlinewidth": 0,
             "ticks": ""
            },
            "colorscale": [
             [
              0,
              "#0d0887"
             ],
             [
              0.1111111111111111,
              "#46039f"
             ],
             [
              0.2222222222222222,
              "#7201a8"
             ],
             [
              0.3333333333333333,
              "#9c179e"
             ],
             [
              0.4444444444444444,
              "#bd3786"
             ],
             [
              0.5555555555555556,
              "#d8576b"
             ],
             [
              0.6666666666666666,
              "#ed7953"
             ],
             [
              0.7777777777777778,
              "#fb9f3a"
             ],
             [
              0.8888888888888888,
              "#fdca26"
             ],
             [
              1,
              "#f0f921"
             ]
            ],
            "type": "contour"
           }
          ],
          "contourcarpet": [
           {
            "colorbar": {
             "outlinewidth": 0,
             "ticks": ""
            },
            "type": "contourcarpet"
           }
          ],
          "heatmap": [
           {
            "colorbar": {
             "outlinewidth": 0,
             "ticks": ""
            },
            "colorscale": [
             [
              0,
              "#0d0887"
             ],
             [
              0.1111111111111111,
              "#46039f"
             ],
             [
              0.2222222222222222,
              "#7201a8"
             ],
             [
              0.3333333333333333,
              "#9c179e"
             ],
             [
              0.4444444444444444,
              "#bd3786"
             ],
             [
              0.5555555555555556,
              "#d8576b"
             ],
             [
              0.6666666666666666,
              "#ed7953"
             ],
             [
              0.7777777777777778,
              "#fb9f3a"
             ],
             [
              0.8888888888888888,
              "#fdca26"
             ],
             [
              1,
              "#f0f921"
             ]
            ],
            "type": "heatmap"
           }
          ],
          "heatmapgl": [
           {
            "colorbar": {
             "outlinewidth": 0,
             "ticks": ""
            },
            "colorscale": [
             [
              0,
              "#0d0887"
             ],
             [
              0.1111111111111111,
              "#46039f"
             ],
             [
              0.2222222222222222,
              "#7201a8"
             ],
             [
              0.3333333333333333,
              "#9c179e"
             ],
             [
              0.4444444444444444,
              "#bd3786"
             ],
             [
              0.5555555555555556,
              "#d8576b"
             ],
             [
              0.6666666666666666,
              "#ed7953"
             ],
             [
              0.7777777777777778,
              "#fb9f3a"
             ],
             [
              0.8888888888888888,
              "#fdca26"
             ],
             [
              1,
              "#f0f921"
             ]
            ],
            "type": "heatmapgl"
           }
          ],
          "histogram": [
           {
            "marker": {
             "pattern": {
              "fillmode": "overlay",
              "size": 10,
              "solidity": 0.2
             }
            },
            "type": "histogram"
           }
          ],
          "histogram2d": [
           {
            "colorbar": {
             "outlinewidth": 0,
             "ticks": ""
            },
            "colorscale": [
             [
              0,
              "#0d0887"
             ],
             [
              0.1111111111111111,
              "#46039f"
             ],
             [
              0.2222222222222222,
              "#7201a8"
             ],
             [
              0.3333333333333333,
              "#9c179e"
             ],
             [
              0.4444444444444444,
              "#bd3786"
             ],
             [
              0.5555555555555556,
              "#d8576b"
             ],
             [
              0.6666666666666666,
              "#ed7953"
             ],
             [
              0.7777777777777778,
              "#fb9f3a"
             ],
             [
              0.8888888888888888,
              "#fdca26"
             ],
             [
              1,
              "#f0f921"
             ]
            ],
            "type": "histogram2d"
           }
          ],
          "histogram2dcontour": [
           {
            "colorbar": {
             "outlinewidth": 0,
             "ticks": ""
            },
            "colorscale": [
             [
              0,
              "#0d0887"
             ],
             [
              0.1111111111111111,
              "#46039f"
             ],
             [
              0.2222222222222222,
              "#7201a8"
             ],
             [
              0.3333333333333333,
              "#9c179e"
             ],
             [
              0.4444444444444444,
              "#bd3786"
             ],
             [
              0.5555555555555556,
              "#d8576b"
             ],
             [
              0.6666666666666666,
              "#ed7953"
             ],
             [
              0.7777777777777778,
              "#fb9f3a"
             ],
             [
              0.8888888888888888,
              "#fdca26"
             ],
             [
              1,
              "#f0f921"
             ]
            ],
            "type": "histogram2dcontour"
           }
          ],
          "mesh3d": [
           {
            "colorbar": {
             "outlinewidth": 0,
             "ticks": ""
            },
            "type": "mesh3d"
           }
          ],
          "parcoords": [
           {
            "line": {
             "colorbar": {
              "outlinewidth": 0,
              "ticks": ""
             }
            },
            "type": "parcoords"
           }
          ],
          "pie": [
           {
            "automargin": true,
            "type": "pie"
           }
          ],
          "scatter": [
           {
            "fillpattern": {
             "fillmode": "overlay",
             "size": 10,
             "solidity": 0.2
            },
            "type": "scatter"
           }
          ],
          "scatter3d": [
           {
            "line": {
             "colorbar": {
              "outlinewidth": 0,
              "ticks": ""
             }
            },
            "marker": {
             "colorbar": {
              "outlinewidth": 0,
              "ticks": ""
             }
            },
            "type": "scatter3d"
           }
          ],
          "scattercarpet": [
           {
            "marker": {
             "colorbar": {
              "outlinewidth": 0,
              "ticks": ""
             }
            },
            "type": "scattercarpet"
           }
          ],
          "scattergeo": [
           {
            "marker": {
             "colorbar": {
              "outlinewidth": 0,
              "ticks": ""
             }
            },
            "type": "scattergeo"
           }
          ],
          "scattergl": [
           {
            "marker": {
             "colorbar": {
              "outlinewidth": 0,
              "ticks": ""
             }
            },
            "type": "scattergl"
           }
          ],
          "scattermapbox": [
           {
            "marker": {
             "colorbar": {
              "outlinewidth": 0,
              "ticks": ""
             }
            },
            "type": "scattermapbox"
           }
          ],
          "scatterpolar": [
           {
            "marker": {
             "colorbar": {
              "outlinewidth": 0,
              "ticks": ""
             }
            },
            "type": "scatterpolar"
           }
          ],
          "scatterpolargl": [
           {
            "marker": {
             "colorbar": {
              "outlinewidth": 0,
              "ticks": ""
             }
            },
            "type": "scatterpolargl"
           }
          ],
          "scatterternary": [
           {
            "marker": {
             "colorbar": {
              "outlinewidth": 0,
              "ticks": ""
             }
            },
            "type": "scatterternary"
           }
          ],
          "surface": [
           {
            "colorbar": {
             "outlinewidth": 0,
             "ticks": ""
            },
            "colorscale": [
             [
              0,
              "#0d0887"
             ],
             [
              0.1111111111111111,
              "#46039f"
             ],
             [
              0.2222222222222222,
              "#7201a8"
             ],
             [
              0.3333333333333333,
              "#9c179e"
             ],
             [
              0.4444444444444444,
              "#bd3786"
             ],
             [
              0.5555555555555556,
              "#d8576b"
             ],
             [
              0.6666666666666666,
              "#ed7953"
             ],
             [
              0.7777777777777778,
              "#fb9f3a"
             ],
             [
              0.8888888888888888,
              "#fdca26"
             ],
             [
              1,
              "#f0f921"
             ]
            ],
            "type": "surface"
           }
          ],
          "table": [
           {
            "cells": {
             "fill": {
              "color": "#EBF0F8"
             },
             "line": {
              "color": "white"
             }
            },
            "header": {
             "fill": {
              "color": "#C8D4E3"
             },
             "line": {
              "color": "white"
             }
            },
            "type": "table"
           }
          ]
         },
         "layout": {
          "annotationdefaults": {
           "arrowcolor": "#2a3f5f",
           "arrowhead": 0,
           "arrowwidth": 1
          },
          "autotypenumbers": "strict",
          "coloraxis": {
           "colorbar": {
            "outlinewidth": 0,
            "ticks": ""
           }
          },
          "colorscale": {
           "diverging": [
            [
             0,
             "#8e0152"
            ],
            [
             0.1,
             "#c51b7d"
            ],
            [
             0.2,
             "#de77ae"
            ],
            [
             0.3,
             "#f1b6da"
            ],
            [
             0.4,
             "#fde0ef"
            ],
            [
             0.5,
             "#f7f7f7"
            ],
            [
             0.6,
             "#e6f5d0"
            ],
            [
             0.7,
             "#b8e186"
            ],
            [
             0.8,
             "#7fbc41"
            ],
            [
             0.9,
             "#4d9221"
            ],
            [
             1,
             "#276419"
            ]
           ],
           "sequential": [
            [
             0,
             "#0d0887"
            ],
            [
             0.1111111111111111,
             "#46039f"
            ],
            [
             0.2222222222222222,
             "#7201a8"
            ],
            [
             0.3333333333333333,
             "#9c179e"
            ],
            [
             0.4444444444444444,
             "#bd3786"
            ],
            [
             0.5555555555555556,
             "#d8576b"
            ],
            [
             0.6666666666666666,
             "#ed7953"
            ],
            [
             0.7777777777777778,
             "#fb9f3a"
            ],
            [
             0.8888888888888888,
             "#fdca26"
            ],
            [
             1,
             "#f0f921"
            ]
           ],
           "sequentialminus": [
            [
             0,
             "#0d0887"
            ],
            [
             0.1111111111111111,
             "#46039f"
            ],
            [
             0.2222222222222222,
             "#7201a8"
            ],
            [
             0.3333333333333333,
             "#9c179e"
            ],
            [
             0.4444444444444444,
             "#bd3786"
            ],
            [
             0.5555555555555556,
             "#d8576b"
            ],
            [
             0.6666666666666666,
             "#ed7953"
            ],
            [
             0.7777777777777778,
             "#fb9f3a"
            ],
            [
             0.8888888888888888,
             "#fdca26"
            ],
            [
             1,
             "#f0f921"
            ]
           ]
          },
          "colorway": [
           "#636efa",
           "#EF553B",
           "#00cc96",
           "#ab63fa",
           "#FFA15A",
           "#19d3f3",
           "#FF6692",
           "#B6E880",
           "#FF97FF",
           "#FECB52"
          ],
          "font": {
           "color": "#2a3f5f"
          },
          "geo": {
           "bgcolor": "white",
           "lakecolor": "white",
           "landcolor": "#E5ECF6",
           "showlakes": true,
           "showland": true,
           "subunitcolor": "white"
          },
          "hoverlabel": {
           "align": "left"
          },
          "hovermode": "closest",
          "mapbox": {
           "style": "light"
          },
          "paper_bgcolor": "white",
          "plot_bgcolor": "#E5ECF6",
          "polar": {
           "angularaxis": {
            "gridcolor": "white",
            "linecolor": "white",
            "ticks": ""
           },
           "bgcolor": "#E5ECF6",
           "radialaxis": {
            "gridcolor": "white",
            "linecolor": "white",
            "ticks": ""
           }
          },
          "scene": {
           "xaxis": {
            "backgroundcolor": "#E5ECF6",
            "gridcolor": "white",
            "gridwidth": 2,
            "linecolor": "white",
            "showbackground": true,
            "ticks": "",
            "zerolinecolor": "white"
           },
           "yaxis": {
            "backgroundcolor": "#E5ECF6",
            "gridcolor": "white",
            "gridwidth": 2,
            "linecolor": "white",
            "showbackground": true,
            "ticks": "",
            "zerolinecolor": "white"
           },
           "zaxis": {
            "backgroundcolor": "#E5ECF6",
            "gridcolor": "white",
            "gridwidth": 2,
            "linecolor": "white",
            "showbackground": true,
            "ticks": "",
            "zerolinecolor": "white"
           }
          },
          "shapedefaults": {
           "line": {
            "color": "#2a3f5f"
           }
          },
          "ternary": {
           "aaxis": {
            "gridcolor": "white",
            "linecolor": "white",
            "ticks": ""
           },
           "baxis": {
            "gridcolor": "white",
            "linecolor": "white",
            "ticks": ""
           },
           "bgcolor": "#E5ECF6",
           "caxis": {
            "gridcolor": "white",
            "linecolor": "white",
            "ticks": ""
           }
          },
          "title": {
           "x": 0.05
          },
          "xaxis": {
           "automargin": true,
           "gridcolor": "white",
           "linecolor": "white",
           "ticks": "",
           "title": {
            "standoff": 15
           },
           "zerolinecolor": "white",
           "zerolinewidth": 2
          },
          "yaxis": {
           "automargin": true,
           "gridcolor": "white",
           "linecolor": "white",
           "ticks": "",
           "title": {
            "standoff": 15
           },
           "zerolinecolor": "white",
           "zerolinewidth": 2
          }
         }
        },
        "xaxis": {
         "anchor": "y",
         "domain": [
          0,
          1
         ]
        },
        "yaxis": {
         "anchor": "x",
         "domain": [
          0,
          1
         ],
         "title": {
          "text": "YearsAtCompany"
         }
        }
       }
      }
     },
     "metadata": {},
     "output_type": "display_data"
    }
   ],
   "source": [
    "df = px.data.tips()\n",
    "fig = px.box(employee_data, y=\"YearsAtCompany\")\n",
    "fig.show()"
   ]
  },
  {
   "cell_type": "markdown",
   "id": "a1d62248",
   "metadata": {
    "papermill": {
     "duration": 0.021184,
     "end_time": "2022-07-28T14:15:10.824024",
     "exception": false,
     "start_time": "2022-07-28T14:15:10.802840",
     "status": "completed"
    },
    "tags": []
   },
   "source": [
    "**Most employees remain in the company for 3-9 years with median being 5 years.**"
   ]
  },
  {
   "cell_type": "code",
   "execution_count": 84,
   "metadata": {},
   "outputs": [
    {
     "data": {
      "application/vnd.plotly.v1+json": {
       "config": {
        "plotlyServerURL": "https://plot.ly"
       },
       "data": [
        {
         "alignmentgroup": "True",
         "bingroup": "x",
         "hovertemplate": "Attrition=1<br>BusinessTravel=%{x}<br>count=%{y}<extra></extra>",
         "legendgroup": "1",
         "marker": {
          "color": "#636efa",
          "pattern": {
           "shape": ""
          }
         },
         "name": "1",
         "offsetgroup": "1",
         "orientation": "v",
         "showlegend": true,
         "type": "histogram",
         "x": [
          "Travel_Rarely",
          "Travel_Rarely",
          "Travel_Rarely",
          "Travel_Rarely",
          "Travel_Rarely",
          "Travel_Frequently",
          "Travel_Rarely",
          "Travel_Rarely",
          "Travel_Rarely",
          "Travel_Rarely",
          "Travel_Rarely",
          "Travel_Rarely",
          "Travel_Rarely",
          "Travel_Rarely",
          "Travel_Rarely",
          "Travel_Rarely",
          "Travel_Frequently",
          "Travel_Rarely",
          "Travel_Frequently",
          "Travel_Rarely",
          "Travel_Rarely",
          "Travel_Rarely",
          "Travel_Rarely",
          "Travel_Rarely",
          "Travel_Frequently",
          "Travel_Rarely",
          "Travel_Frequently",
          "Travel_Rarely",
          "Travel_Rarely",
          "Travel_Rarely",
          "Travel_Rarely",
          "Travel_Rarely",
          "Travel_Rarely",
          "Travel_Rarely",
          "Travel_Frequently",
          "Travel_Rarely",
          "Travel_Rarely",
          "Travel_Rarely",
          "Travel_Rarely",
          "Travel_Rarely",
          "Travel_Frequently",
          "Travel_Frequently",
          "Travel_Rarely",
          "Non-Travel",
          "Travel_Frequently",
          "Travel_Rarely",
          "Travel_Rarely",
          "Travel_Rarely",
          "Travel_Rarely",
          "Travel_Rarely",
          "Travel_Rarely",
          "Travel_Rarely",
          "Travel_Frequently",
          "Travel_Rarely",
          "Travel_Frequently",
          "Travel_Rarely",
          "Travel_Rarely",
          "Non-Travel",
          "Travel_Frequently",
          "Travel_Frequently",
          "Travel_Rarely",
          "Travel_Rarely",
          "Travel_Frequently",
          "Travel_Rarely",
          "Travel_Rarely",
          "Travel_Rarely",
          "Travel_Rarely",
          "Travel_Frequently",
          "Travel_Frequently",
          "Travel_Frequently",
          "Travel_Frequently",
          "Travel_Frequently",
          "Travel_Rarely",
          "Non-Travel",
          "Travel_Frequently",
          "Travel_Frequently",
          "Travel_Rarely",
          "Travel_Rarely",
          "Travel_Frequently",
          "Travel_Rarely",
          "Travel_Frequently",
          "Travel_Rarely",
          "Travel_Frequently",
          "Travel_Rarely",
          "Travel_Frequently",
          "Travel_Rarely",
          "Travel_Frequently",
          "Travel_Rarely",
          "Travel_Rarely",
          "Travel_Rarely",
          "Travel_Rarely",
          "Travel_Rarely",
          "Travel_Rarely",
          "Travel_Rarely",
          "Travel_Rarely",
          "Travel_Rarely",
          "Travel_Frequently",
          "Travel_Frequently",
          "Travel_Rarely",
          "Travel_Rarely",
          "Travel_Frequently",
          "Travel_Rarely",
          "Travel_Rarely",
          "Travel_Rarely",
          "Travel_Rarely",
          "Travel_Rarely",
          "Travel_Rarely",
          "Travel_Rarely",
          "Travel_Rarely",
          "Travel_Rarely",
          "Travel_Rarely",
          "Travel_Rarely",
          "Non-Travel",
          "Non-Travel",
          "Travel_Rarely",
          "Travel_Rarely",
          "Travel_Rarely",
          "Travel_Rarely",
          "Travel_Frequently",
          "Travel_Rarely",
          "Non-Travel",
          "Travel_Rarely",
          "Travel_Rarely",
          "Travel_Rarely",
          "Travel_Frequently",
          "Travel_Frequently",
          "Travel_Rarely",
          "Travel_Rarely",
          "Non-Travel",
          "Travel_Rarely",
          "Travel_Rarely",
          "Travel_Frequently",
          "Travel_Rarely",
          "Travel_Rarely",
          "Travel_Rarely",
          "Travel_Frequently",
          "Travel_Frequently",
          "Travel_Frequently",
          "Non-Travel",
          "Travel_Rarely",
          "Travel_Frequently",
          "Travel_Rarely",
          "Travel_Frequently",
          "Travel_Rarely",
          "Travel_Rarely",
          "Travel_Rarely",
          "Travel_Frequently",
          "Non-Travel",
          "Travel_Rarely",
          "Non-Travel",
          "Travel_Frequently",
          "Travel_Rarely",
          "Travel_Frequently",
          "Travel_Rarely",
          "Travel_Rarely",
          "Travel_Rarely",
          "Travel_Rarely",
          "Travel_Rarely",
          "Travel_Rarely",
          "Travel_Frequently",
          "Travel_Rarely",
          "Travel_Rarely",
          "Travel_Rarely",
          "Travel_Frequently",
          "Travel_Frequently",
          "Travel_Rarely",
          "Travel_Rarely",
          "Travel_Frequently",
          "Travel_Frequently",
          "Travel_Frequently",
          "Travel_Rarely",
          "Travel_Rarely",
          "Travel_Rarely",
          "Non-Travel",
          "Travel_Frequently",
          "Travel_Frequently",
          "Travel_Rarely",
          "Travel_Frequently",
          "Travel_Frequently",
          "Travel_Rarely",
          "Travel_Frequently",
          "Travel_Frequently",
          "Travel_Rarely",
          "Travel_Rarely",
          "Travel_Frequently",
          "Travel_Rarely",
          "Travel_Rarely",
          "Travel_Rarely",
          "Travel_Rarely",
          "Travel_Rarely",
          "Travel_Frequently",
          "Travel_Rarely",
          "Travel_Rarely",
          "Travel_Rarely",
          "Travel_Frequently",
          "Travel_Rarely",
          "Travel_Frequently",
          "Travel_Rarely",
          "Travel_Rarely",
          "Travel_Rarely",
          "Travel_Frequently",
          "Travel_Rarely",
          "Travel_Rarely",
          "Travel_Frequently",
          "Travel_Rarely",
          "Travel_Rarely",
          "Travel_Rarely",
          "Travel_Frequently",
          "Travel_Rarely",
          "Travel_Rarely",
          "Travel_Frequently",
          "Travel_Rarely",
          "Travel_Frequently",
          "Travel_Rarely",
          "Travel_Rarely",
          "Travel_Rarely",
          "Travel_Rarely",
          "Travel_Rarely",
          "Travel_Rarely",
          "Travel_Frequently",
          "Travel_Rarely",
          "Travel_Rarely",
          "Travel_Rarely",
          "Non-Travel",
          "Travel_Rarely",
          "Travel_Frequently",
          "Travel_Rarely",
          "Travel_Frequently",
          "Travel_Frequently",
          "Travel_Rarely",
          "Travel_Frequently",
          "Travel_Rarely",
          "Travel_Frequently",
          "Travel_Rarely",
          "Travel_Rarely",
          "Travel_Frequently",
          "Travel_Rarely"
         ],
         "xaxis": "x",
         "yaxis": "y"
        },
        {
         "alignmentgroup": "True",
         "bingroup": "x",
         "hovertemplate": "Attrition=0<br>BusinessTravel=%{x}<br>count=%{y}<extra></extra>",
         "legendgroup": "0",
         "marker": {
          "color": "#EF553B",
          "pattern": {
           "shape": ""
          }
         },
         "name": "0",
         "offsetgroup": "0",
         "orientation": "v",
         "showlegend": true,
         "type": "histogram",
         "x": [
          "Travel_Frequently",
          "Travel_Frequently",
          "Travel_Rarely",
          "Travel_Frequently",
          "Travel_Rarely",
          "Travel_Rarely",
          "Travel_Frequently",
          "Travel_Rarely",
          "Travel_Rarely",
          "Travel_Rarely",
          "Travel_Rarely",
          "Travel_Rarely",
          "Travel_Rarely",
          "Travel_Rarely",
          "Non-Travel",
          "Travel_Rarely",
          "Travel_Rarely",
          "Non-Travel",
          "Travel_Rarely",
          "Travel_Rarely",
          "Travel_Rarely",
          "Travel_Rarely",
          "Travel_Rarely",
          "Travel_Rarely",
          "Travel_Rarely",
          "Travel_Rarely",
          "Travel_Rarely",
          "Travel_Rarely",
          "Travel_Rarely",
          "Travel_Rarely",
          "Travel_Frequently",
          "Travel_Rarely",
          "Travel_Rarely",
          "Travel_Frequently",
          "Travel_Frequently",
          "Non-Travel",
          "Travel_Rarely",
          "Travel_Frequently",
          "Travel_Rarely",
          "Travel_Rarely",
          "Non-Travel",
          "Travel_Rarely",
          "Travel_Frequently",
          "Travel_Frequently",
          "Travel_Rarely",
          "Travel_Rarely",
          "Travel_Rarely",
          "Travel_Rarely",
          "Travel_Frequently",
          "Travel_Rarely",
          "Travel_Rarely",
          "Travel_Rarely",
          "Travel_Rarely",
          "Travel_Frequently",
          "Travel_Rarely",
          "Travel_Frequently",
          "Travel_Frequently",
          "Travel_Rarely",
          "Travel_Rarely",
          "Travel_Rarely",
          "Travel_Rarely",
          "Travel_Rarely",
          "Travel_Rarely",
          "Travel_Rarely",
          "Travel_Rarely",
          "Travel_Rarely",
          "Travel_Rarely",
          "Travel_Rarely",
          "Travel_Rarely",
          "Non-Travel",
          "Travel_Rarely",
          "Travel_Rarely",
          "Travel_Rarely",
          "Travel_Rarely",
          "Travel_Rarely",
          "Travel_Frequently",
          "Travel_Rarely",
          "Travel_Rarely",
          "Travel_Frequently",
          "Travel_Rarely",
          "Travel_Rarely",
          "Travel_Rarely",
          "Non-Travel",
          "Travel_Rarely",
          "Non-Travel",
          "Travel_Rarely",
          "Travel_Rarely",
          "Non-Travel",
          "Non-Travel",
          "Travel_Frequently",
          "Travel_Rarely",
          "Travel_Rarely",
          "Travel_Frequently",
          "Non-Travel",
          "Travel_Rarely",
          "Travel_Rarely",
          "Travel_Rarely",
          "Travel_Rarely",
          "Travel_Frequently",
          "Travel_Rarely",
          "Travel_Frequently",
          "Travel_Frequently",
          "Non-Travel",
          "Travel_Rarely",
          "Travel_Rarely",
          "Travel_Rarely",
          "Travel_Rarely",
          "Travel_Frequently",
          "Travel_Frequently",
          "Travel_Rarely",
          "Travel_Rarely",
          "Travel_Rarely",
          "Travel_Rarely",
          "Travel_Rarely",
          "Travel_Rarely",
          "Travel_Rarely",
          "Travel_Rarely",
          "Travel_Rarely",
          "Travel_Frequently",
          "Travel_Rarely",
          "Travel_Rarely",
          "Travel_Frequently",
          "Travel_Rarely",
          "Travel_Rarely",
          "Travel_Frequently",
          "Travel_Rarely",
          "Travel_Rarely",
          "Travel_Rarely",
          "Travel_Frequently",
          "Non-Travel",
          "Travel_Rarely",
          "Travel_Rarely",
          "Travel_Rarely",
          "Travel_Frequently",
          "Travel_Rarely",
          "Non-Travel",
          "Travel_Rarely",
          "Travel_Rarely",
          "Non-Travel",
          "Travel_Rarely",
          "Travel_Rarely",
          "Travel_Rarely",
          "Travel_Rarely",
          "Travel_Rarely",
          "Travel_Rarely",
          "Travel_Frequently",
          "Non-Travel",
          "Travel_Rarely",
          "Travel_Rarely",
          "Travel_Rarely",
          "Travel_Rarely",
          "Travel_Rarely",
          "Travel_Rarely",
          "Travel_Rarely",
          "Travel_Rarely",
          "Travel_Rarely",
          "Travel_Rarely",
          "Travel_Rarely",
          "Travel_Rarely",
          "Travel_Frequently",
          "Travel_Rarely",
          "Travel_Rarely",
          "Travel_Rarely",
          "Non-Travel",
          "Non-Travel",
          "Travel_Rarely",
          "Travel_Frequently",
          "Non-Travel",
          "Travel_Rarely",
          "Travel_Rarely",
          "Travel_Frequently",
          "Non-Travel",
          "Travel_Frequently",
          "Travel_Rarely",
          "Travel_Rarely",
          "Travel_Frequently",
          "Non-Travel",
          "Travel_Rarely",
          "Non-Travel",
          "Travel_Frequently",
          "Travel_Rarely",
          "Travel_Rarely",
          "Non-Travel",
          "Travel_Rarely",
          "Travel_Rarely",
          "Travel_Rarely",
          "Travel_Frequently",
          "Travel_Rarely",
          "Non-Travel",
          "Travel_Rarely",
          "Travel_Frequently",
          "Travel_Frequently",
          "Travel_Frequently",
          "Travel_Rarely",
          "Travel_Rarely",
          "Travel_Rarely",
          "Travel_Rarely",
          "Travel_Rarely",
          "Non-Travel",
          "Travel_Rarely",
          "Travel_Rarely",
          "Non-Travel",
          "Travel_Rarely",
          "Travel_Rarely",
          "Travel_Rarely",
          "Travel_Frequently",
          "Travel_Rarely",
          "Travel_Rarely",
          "Travel_Rarely",
          "Travel_Frequently",
          "Travel_Frequently",
          "Travel_Rarely",
          "Travel_Rarely",
          "Travel_Rarely",
          "Travel_Rarely",
          "Travel_Rarely",
          "Travel_Rarely",
          "Travel_Rarely",
          "Travel_Frequently",
          "Non-Travel",
          "Travel_Rarely",
          "Travel_Rarely",
          "Travel_Rarely",
          "Travel_Rarely",
          "Non-Travel",
          "Travel_Rarely",
          "Travel_Rarely",
          "Travel_Rarely",
          "Travel_Rarely",
          "Travel_Rarely",
          "Travel_Rarely",
          "Non-Travel",
          "Travel_Rarely",
          "Travel_Rarely",
          "Travel_Frequently",
          "Travel_Rarely",
          "Travel_Rarely",
          "Travel_Rarely",
          "Travel_Frequently",
          "Travel_Rarely",
          "Travel_Frequently",
          "Travel_Rarely",
          "Travel_Rarely",
          "Travel_Rarely",
          "Travel_Frequently",
          "Travel_Rarely",
          "Travel_Frequently",
          "Travel_Frequently",
          "Travel_Frequently",
          "Travel_Rarely",
          "Travel_Frequently",
          "Travel_Rarely",
          "Travel_Rarely",
          "Travel_Rarely",
          "Travel_Rarely",
          "Travel_Rarely",
          "Travel_Rarely",
          "Non-Travel",
          "Travel_Rarely",
          "Travel_Rarely",
          "Non-Travel",
          "Travel_Rarely",
          "Travel_Rarely",
          "Travel_Frequently",
          "Travel_Rarely",
          "Travel_Frequently",
          "Travel_Rarely",
          "Travel_Frequently",
          "Travel_Rarely",
          "Travel_Rarely",
          "Travel_Rarely",
          "Travel_Rarely",
          "Travel_Rarely",
          "Travel_Rarely",
          "Travel_Rarely",
          "Travel_Frequently",
          "Travel_Frequently",
          "Travel_Frequently",
          "Travel_Rarely",
          "Travel_Frequently",
          "Non-Travel",
          "Travel_Frequently",
          "Travel_Rarely",
          "Travel_Rarely",
          "Travel_Rarely",
          "Travel_Rarely",
          "Travel_Rarely",
          "Travel_Rarely",
          "Travel_Rarely",
          "Travel_Rarely",
          "Travel_Rarely",
          "Travel_Rarely",
          "Travel_Rarely",
          "Travel_Rarely",
          "Travel_Rarely",
          "Travel_Frequently",
          "Travel_Rarely",
          "Non-Travel",
          "Travel_Rarely",
          "Travel_Rarely",
          "Travel_Rarely",
          "Travel_Rarely",
          "Non-Travel",
          "Travel_Rarely",
          "Travel_Rarely",
          "Non-Travel",
          "Travel_Frequently",
          "Travel_Rarely",
          "Travel_Rarely",
          "Non-Travel",
          "Travel_Rarely",
          "Non-Travel",
          "Travel_Rarely",
          "Travel_Rarely",
          "Travel_Rarely",
          "Travel_Rarely",
          "Travel_Rarely",
          "Travel_Rarely",
          "Travel_Rarely",
          "Travel_Rarely",
          "Travel_Rarely",
          "Travel_Rarely",
          "Travel_Rarely",
          "Travel_Rarely",
          "Travel_Rarely",
          "Travel_Rarely",
          "Travel_Rarely",
          "Travel_Rarely",
          "Travel_Rarely",
          "Travel_Rarely",
          "Travel_Rarely",
          "Travel_Rarely",
          "Travel_Rarely",
          "Non-Travel",
          "Travel_Rarely",
          "Travel_Frequently",
          "Travel_Rarely",
          "Travel_Rarely",
          "Non-Travel",
          "Travel_Rarely",
          "Travel_Frequently",
          "Travel_Frequently",
          "Travel_Rarely",
          "Travel_Rarely",
          "Travel_Rarely",
          "Travel_Rarely",
          "Travel_Rarely",
          "Travel_Rarely",
          "Travel_Frequently",
          "Travel_Rarely",
          "Travel_Rarely",
          "Travel_Rarely",
          "Travel_Frequently",
          "Travel_Frequently",
          "Travel_Rarely",
          "Travel_Rarely",
          "Non-Travel",
          "Travel_Rarely",
          "Non-Travel",
          "Travel_Rarely",
          "Travel_Rarely",
          "Non-Travel",
          "Travel_Frequently",
          "Travel_Rarely",
          "Travel_Rarely",
          "Travel_Rarely",
          "Travel_Rarely",
          "Travel_Rarely",
          "Travel_Rarely",
          "Travel_Rarely",
          "Travel_Rarely",
          "Travel_Rarely",
          "Travel_Frequently",
          "Non-Travel",
          "Travel_Rarely",
          "Travel_Rarely",
          "Non-Travel",
          "Travel_Rarely",
          "Travel_Rarely",
          "Travel_Frequently",
          "Travel_Rarely",
          "Travel_Rarely",
          "Travel_Rarely",
          "Travel_Rarely",
          "Travel_Rarely",
          "Travel_Rarely",
          "Non-Travel",
          "Non-Travel",
          "Travel_Rarely",
          "Travel_Rarely",
          "Travel_Rarely",
          "Travel_Rarely",
          "Travel_Frequently",
          "Travel_Rarely",
          "Non-Travel",
          "Travel_Rarely",
          "Travel_Frequently",
          "Travel_Rarely",
          "Travel_Rarely",
          "Travel_Rarely",
          "Travel_Rarely",
          "Travel_Rarely",
          "Travel_Rarely",
          "Travel_Frequently",
          "Travel_Rarely",
          "Travel_Rarely",
          "Travel_Rarely",
          "Travel_Rarely",
          "Travel_Rarely",
          "Travel_Rarely",
          "Travel_Rarely",
          "Travel_Rarely",
          "Travel_Rarely",
          "Travel_Rarely",
          "Travel_Frequently",
          "Travel_Rarely",
          "Travel_Rarely",
          "Travel_Rarely",
          "Travel_Rarely",
          "Travel_Rarely",
          "Travel_Rarely",
          "Travel_Rarely",
          "Travel_Rarely",
          "Travel_Frequently",
          "Travel_Rarely",
          "Travel_Rarely",
          "Travel_Rarely",
          "Travel_Rarely",
          "Travel_Rarely",
          "Travel_Rarely",
          "Travel_Frequently",
          "Travel_Rarely",
          "Travel_Rarely",
          "Travel_Rarely",
          "Non-Travel",
          "Travel_Rarely",
          "Travel_Rarely",
          "Travel_Rarely",
          "Travel_Frequently",
          "Travel_Rarely",
          "Travel_Frequently",
          "Travel_Rarely",
          "Travel_Rarely",
          "Travel_Rarely",
          "Travel_Rarely",
          "Travel_Rarely",
          "Travel_Rarely",
          "Travel_Rarely",
          "Travel_Rarely",
          "Travel_Rarely",
          "Travel_Frequently",
          "Travel_Rarely",
          "Travel_Rarely",
          "Travel_Rarely",
          "Travel_Frequently",
          "Travel_Rarely",
          "Travel_Rarely",
          "Non-Travel",
          "Travel_Rarely",
          "Non-Travel",
          "Travel_Frequently",
          "Travel_Rarely",
          "Travel_Rarely",
          "Travel_Frequently",
          "Travel_Rarely",
          "Travel_Rarely",
          "Travel_Rarely",
          "Travel_Rarely",
          "Travel_Rarely",
          "Travel_Rarely",
          "Travel_Rarely",
          "Travel_Rarely",
          "Non-Travel",
          "Travel_Frequently",
          "Travel_Rarely",
          "Travel_Rarely",
          "Travel_Rarely",
          "Travel_Rarely",
          "Travel_Rarely",
          "Travel_Rarely",
          "Travel_Rarely",
          "Non-Travel",
          "Non-Travel",
          "Travel_Frequently",
          "Travel_Rarely",
          "Travel_Rarely",
          "Travel_Rarely",
          "Travel_Frequently",
          "Travel_Rarely",
          "Travel_Frequently",
          "Travel_Rarely",
          "Travel_Rarely",
          "Travel_Rarely",
          "Travel_Frequently",
          "Travel_Rarely",
          "Travel_Frequently",
          "Non-Travel",
          "Travel_Rarely",
          "Travel_Rarely",
          "Travel_Rarely",
          "Travel_Rarely",
          "Travel_Rarely",
          "Travel_Rarely",
          "Travel_Rarely",
          "Travel_Rarely",
          "Travel_Rarely",
          "Travel_Rarely",
          "Travel_Frequently",
          "Travel_Rarely",
          "Travel_Rarely",
          "Travel_Rarely",
          "Travel_Frequently",
          "Travel_Frequently",
          "Travel_Rarely",
          "Travel_Rarely",
          "Travel_Rarely",
          "Travel_Rarely",
          "Travel_Rarely",
          "Non-Travel",
          "Travel_Rarely",
          "Travel_Rarely",
          "Travel_Rarely",
          "Travel_Rarely",
          "Travel_Rarely",
          "Travel_Rarely",
          "Travel_Rarely",
          "Travel_Frequently",
          "Travel_Rarely",
          "Travel_Rarely",
          "Travel_Rarely",
          "Travel_Frequently",
          "Travel_Rarely",
          "Travel_Rarely",
          "Travel_Rarely",
          "Travel_Rarely",
          "Travel_Frequently",
          "Travel_Rarely",
          "Travel_Rarely",
          "Travel_Rarely",
          "Non-Travel",
          "Travel_Rarely",
          "Travel_Rarely",
          "Non-Travel",
          "Travel_Frequently",
          "Travel_Rarely",
          "Travel_Rarely",
          "Travel_Rarely",
          "Travel_Rarely",
          "Travel_Rarely",
          "Travel_Frequently",
          "Travel_Rarely",
          "Travel_Frequently",
          "Travel_Rarely",
          "Non-Travel",
          "Non-Travel",
          "Travel_Rarely",
          "Travel_Rarely",
          "Travel_Rarely",
          "Travel_Rarely",
          "Travel_Rarely",
          "Travel_Rarely",
          "Travel_Rarely",
          "Travel_Rarely",
          "Travel_Rarely",
          "Travel_Rarely",
          "Travel_Rarely",
          "Travel_Rarely",
          "Travel_Rarely",
          "Travel_Rarely",
          "Travel_Rarely",
          "Travel_Rarely",
          "Travel_Rarely",
          "Travel_Rarely",
          "Non-Travel",
          "Travel_Rarely",
          "Travel_Rarely",
          "Non-Travel",
          "Travel_Rarely",
          "Travel_Frequently",
          "Travel_Rarely",
          "Travel_Rarely",
          "Travel_Rarely",
          "Travel_Frequently",
          "Travel_Rarely",
          "Travel_Rarely",
          "Non-Travel",
          "Travel_Frequently",
          "Travel_Rarely",
          "Travel_Rarely",
          "Travel_Rarely",
          "Travel_Rarely",
          "Non-Travel",
          "Travel_Rarely",
          "Travel_Rarely",
          "Travel_Frequently",
          "Non-Travel",
          "Non-Travel",
          "Travel_Rarely",
          "Travel_Rarely",
          "Travel_Rarely",
          "Travel_Frequently",
          "Travel_Frequently",
          "Travel_Rarely",
          "Non-Travel",
          "Travel_Rarely",
          "Travel_Rarely",
          "Travel_Frequently",
          "Travel_Rarely",
          "Travel_Rarely",
          "Travel_Frequently",
          "Non-Travel",
          "Travel_Rarely",
          "Travel_Rarely",
          "Travel_Rarely",
          "Travel_Rarely",
          "Travel_Rarely",
          "Travel_Rarely",
          "Travel_Rarely",
          "Travel_Rarely",
          "Travel_Rarely",
          "Travel_Rarely",
          "Travel_Rarely",
          "Travel_Rarely",
          "Travel_Rarely",
          "Travel_Rarely",
          "Travel_Frequently",
          "Non-Travel",
          "Travel_Rarely",
          "Travel_Rarely",
          "Non-Travel",
          "Travel_Frequently",
          "Non-Travel",
          "Travel_Rarely",
          "Non-Travel",
          "Travel_Rarely",
          "Travel_Rarely",
          "Travel_Rarely",
          "Travel_Frequently",
          "Travel_Rarely",
          "Travel_Rarely",
          "Travel_Frequently",
          "Travel_Rarely",
          "Travel_Rarely",
          "Travel_Rarely",
          "Travel_Frequently",
          "Travel_Rarely",
          "Travel_Rarely",
          "Travel_Frequently",
          "Travel_Rarely",
          "Non-Travel",
          "Travel_Rarely",
          "Travel_Rarely",
          "Travel_Rarely",
          "Travel_Rarely",
          "Travel_Rarely",
          "Travel_Rarely",
          "Travel_Rarely",
          "Non-Travel",
          "Travel_Frequently",
          "Travel_Rarely",
          "Travel_Rarely",
          "Travel_Rarely",
          "Travel_Frequently",
          "Travel_Rarely",
          "Travel_Rarely",
          "Travel_Frequently",
          "Non-Travel",
          "Non-Travel",
          "Non-Travel",
          "Travel_Rarely",
          "Travel_Rarely",
          "Travel_Rarely",
          "Travel_Rarely",
          "Travel_Rarely",
          "Travel_Rarely",
          "Travel_Frequently",
          "Travel_Rarely",
          "Travel_Rarely",
          "Non-Travel",
          "Non-Travel",
          "Travel_Frequently",
          "Travel_Rarely",
          "Travel_Frequently",
          "Travel_Rarely",
          "Travel_Frequently",
          "Travel_Frequently",
          "Travel_Rarely",
          "Travel_Rarely",
          "Travel_Rarely",
          "Travel_Frequently",
          "Travel_Rarely",
          "Travel_Rarely",
          "Travel_Rarely",
          "Travel_Rarely",
          "Travel_Rarely",
          "Travel_Frequently",
          "Travel_Rarely",
          "Travel_Rarely",
          "Travel_Rarely",
          "Travel_Rarely",
          "Travel_Rarely",
          "Travel_Frequently",
          "Travel_Rarely",
          "Travel_Frequently",
          "Travel_Frequently",
          "Non-Travel",
          "Travel_Rarely",
          "Travel_Rarely",
          "Travel_Rarely",
          "Travel_Rarely",
          "Travel_Rarely",
          "Travel_Rarely",
          "Travel_Rarely",
          "Travel_Rarely",
          "Travel_Rarely",
          "Non-Travel",
          "Travel_Rarely",
          "Travel_Rarely",
          "Travel_Frequently",
          "Travel_Frequently",
          "Travel_Rarely",
          "Travel_Rarely",
          "Travel_Rarely",
          "Travel_Frequently",
          "Travel_Rarely",
          "Travel_Rarely",
          "Travel_Rarely",
          "Travel_Rarely",
          "Travel_Rarely",
          "Non-Travel",
          "Travel_Rarely",
          "Travel_Frequently",
          "Travel_Frequently",
          "Travel_Rarely",
          "Travel_Rarely",
          "Travel_Rarely",
          "Travel_Rarely",
          "Travel_Rarely",
          "Travel_Frequently",
          "Non-Travel",
          "Travel_Rarely",
          "Travel_Frequently",
          "Travel_Rarely",
          "Travel_Rarely",
          "Travel_Rarely",
          "Travel_Rarely",
          "Travel_Rarely",
          "Travel_Rarely",
          "Travel_Rarely",
          "Travel_Rarely",
          "Travel_Frequently",
          "Travel_Rarely",
          "Travel_Rarely",
          "Travel_Rarely",
          "Travel_Rarely",
          "Travel_Rarely",
          "Travel_Rarely",
          "Travel_Rarely",
          "Travel_Rarely",
          "Travel_Rarely",
          "Travel_Rarely",
          "Travel_Rarely",
          "Non-Travel",
          "Travel_Rarely",
          "Travel_Rarely",
          "Travel_Frequently",
          "Travel_Rarely",
          "Travel_Frequently",
          "Travel_Frequently",
          "Travel_Rarely",
          "Travel_Frequently",
          "Travel_Rarely",
          "Travel_Rarely",
          "Travel_Rarely",
          "Travel_Rarely",
          "Travel_Frequently",
          "Travel_Frequently",
          "Non-Travel",
          "Travel_Rarely",
          "Travel_Rarely",
          "Travel_Rarely",
          "Travel_Frequently",
          "Travel_Rarely",
          "Travel_Rarely",
          "Travel_Rarely",
          "Travel_Rarely",
          "Travel_Rarely",
          "Non-Travel",
          "Travel_Rarely",
          "Travel_Rarely",
          "Travel_Rarely",
          "Non-Travel",
          "Non-Travel",
          "Non-Travel",
          "Travel_Rarely",
          "Travel_Rarely",
          "Non-Travel",
          "Travel_Rarely",
          "Travel_Rarely",
          "Travel_Frequently",
          "Travel_Frequently",
          "Travel_Rarely",
          "Travel_Rarely",
          "Travel_Rarely",
          "Travel_Rarely",
          "Travel_Rarely",
          "Travel_Frequently",
          "Travel_Rarely",
          "Travel_Rarely",
          "Travel_Rarely",
          "Non-Travel",
          "Travel_Rarely",
          "Travel_Frequently",
          "Travel_Rarely",
          "Non-Travel",
          "Travel_Rarely",
          "Travel_Rarely",
          "Travel_Frequently",
          "Travel_Rarely",
          "Travel_Rarely",
          "Travel_Rarely",
          "Travel_Frequently",
          "Travel_Frequently",
          "Travel_Rarely",
          "Travel_Frequently",
          "Travel_Rarely",
          "Non-Travel",
          "Travel_Rarely",
          "Travel_Frequently",
          "Travel_Rarely",
          "Travel_Rarely",
          "Travel_Rarely",
          "Travel_Rarely",
          "Travel_Rarely",
          "Travel_Rarely",
          "Travel_Frequently",
          "Travel_Rarely",
          "Travel_Rarely",
          "Travel_Rarely",
          "Travel_Rarely",
          "Travel_Rarely",
          "Travel_Rarely",
          "Travel_Rarely",
          "Travel_Rarely",
          "Travel_Rarely",
          "Travel_Frequently",
          "Travel_Rarely",
          "Travel_Rarely",
          "Travel_Rarely",
          "Travel_Rarely",
          "Non-Travel",
          "Travel_Rarely",
          "Travel_Rarely",
          "Travel_Rarely",
          "Travel_Rarely",
          "Travel_Rarely",
          "Travel_Rarely",
          "Non-Travel",
          "Travel_Rarely",
          "Travel_Rarely",
          "Travel_Rarely",
          "Travel_Rarely",
          "Travel_Rarely",
          "Non-Travel",
          "Travel_Rarely",
          "Non-Travel",
          "Travel_Rarely",
          "Travel_Rarely",
          "Travel_Rarely",
          "Travel_Rarely",
          "Travel_Frequently",
          "Travel_Rarely",
          "Travel_Rarely",
          "Travel_Frequently",
          "Travel_Frequently",
          "Non-Travel",
          "Travel_Rarely",
          "Travel_Rarely",
          "Travel_Frequently",
          "Travel_Rarely",
          "Non-Travel",
          "Travel_Frequently",
          "Travel_Rarely",
          "Travel_Rarely",
          "Travel_Rarely",
          "Travel_Rarely",
          "Travel_Rarely",
          "Travel_Rarely",
          "Travel_Frequently",
          "Travel_Rarely",
          "Travel_Frequently",
          "Travel_Rarely",
          "Travel_Rarely",
          "Travel_Rarely",
          "Travel_Frequently",
          "Travel_Rarely",
          "Travel_Rarely",
          "Travel_Rarely",
          "Travel_Rarely",
          "Travel_Rarely",
          "Travel_Rarely",
          "Travel_Frequently",
          "Travel_Rarely",
          "Travel_Rarely",
          "Travel_Rarely",
          "Travel_Rarely",
          "Travel_Rarely",
          "Travel_Rarely",
          "Travel_Frequently",
          "Travel_Rarely",
          "Travel_Rarely",
          "Travel_Rarely",
          "Travel_Rarely",
          "Non-Travel",
          "Travel_Rarely",
          "Travel_Rarely",
          "Travel_Rarely",
          "Travel_Rarely",
          "Travel_Rarely",
          "Travel_Rarely",
          "Travel_Rarely",
          "Travel_Frequently",
          "Travel_Rarely",
          "Travel_Rarely",
          "Non-Travel",
          "Travel_Rarely",
          "Travel_Rarely",
          "Travel_Rarely",
          "Travel_Rarely",
          "Travel_Rarely",
          "Travel_Rarely",
          "Travel_Rarely",
          "Travel_Rarely",
          "Travel_Rarely",
          "Travel_Rarely",
          "Travel_Rarely",
          "Travel_Frequently",
          "Travel_Rarely",
          "Travel_Rarely",
          "Travel_Frequently",
          "Travel_Rarely",
          "Travel_Rarely",
          "Travel_Frequently",
          "Travel_Rarely",
          "Travel_Rarely",
          "Travel_Rarely",
          "Travel_Rarely",
          "Non-Travel",
          "Travel_Frequently",
          "Travel_Rarely",
          "Travel_Rarely",
          "Travel_Rarely",
          "Travel_Rarely",
          "Non-Travel",
          "Travel_Frequently",
          "Travel_Rarely",
          "Travel_Frequently",
          "Travel_Rarely",
          "Travel_Rarely",
          "Travel_Rarely",
          "Travel_Rarely",
          "Travel_Rarely",
          "Travel_Rarely",
          "Travel_Rarely",
          "Travel_Rarely",
          "Travel_Rarely",
          "Non-Travel",
          "Travel_Rarely",
          "Travel_Frequently",
          "Travel_Rarely",
          "Travel_Rarely",
          "Travel_Rarely",
          "Travel_Rarely",
          "Travel_Frequently",
          "Travel_Frequently",
          "Travel_Frequently",
          "Travel_Rarely",
          "Travel_Frequently",
          "Travel_Rarely",
          "Travel_Rarely",
          "Travel_Frequently",
          "Travel_Rarely",
          "Travel_Rarely",
          "Travel_Rarely",
          "Travel_Rarely",
          "Travel_Rarely",
          "Travel_Rarely",
          "Travel_Rarely",
          "Non-Travel",
          "Travel_Rarely",
          "Travel_Rarely",
          "Travel_Rarely",
          "Travel_Frequently",
          "Travel_Rarely",
          "Travel_Rarely",
          "Travel_Rarely",
          "Travel_Rarely",
          "Travel_Rarely",
          "Travel_Frequently",
          "Travel_Rarely",
          "Travel_Rarely",
          "Travel_Rarely",
          "Travel_Rarely",
          "Non-Travel",
          "Travel_Rarely",
          "Travel_Rarely",
          "Travel_Rarely",
          "Travel_Rarely",
          "Non-Travel",
          "Travel_Rarely",
          "Travel_Rarely",
          "Travel_Rarely",
          "Travel_Rarely",
          "Travel_Frequently",
          "Travel_Rarely",
          "Travel_Rarely",
          "Travel_Frequently",
          "Travel_Rarely",
          "Travel_Rarely",
          "Travel_Rarely",
          "Travel_Rarely",
          "Travel_Rarely",
          "Non-Travel",
          "Travel_Rarely",
          "Travel_Rarely",
          "Travel_Frequently",
          "Travel_Rarely",
          "Non-Travel",
          "Travel_Rarely",
          "Travel_Rarely",
          "Travel_Rarely",
          "Travel_Rarely",
          "Travel_Rarely",
          "Non-Travel",
          "Travel_Rarely",
          "Travel_Rarely",
          "Travel_Frequently",
          "Non-Travel",
          "Travel_Rarely",
          "Travel_Rarely",
          "Travel_Rarely",
          "Travel_Frequently",
          "Travel_Frequently",
          "Travel_Rarely",
          "Travel_Rarely",
          "Travel_Frequently",
          "Travel_Rarely",
          "Travel_Rarely",
          "Non-Travel",
          "Travel_Rarely",
          "Travel_Frequently",
          "Travel_Rarely",
          "Travel_Rarely",
          "Non-Travel",
          "Travel_Rarely",
          "Travel_Rarely",
          "Travel_Rarely",
          "Non-Travel",
          "Travel_Rarely",
          "Non-Travel",
          "Non-Travel",
          "Travel_Rarely",
          "Travel_Rarely",
          "Travel_Rarely",
          "Travel_Rarely",
          "Travel_Rarely",
          "Travel_Rarely",
          "Travel_Rarely",
          "Travel_Rarely",
          "Travel_Rarely",
          "Travel_Rarely",
          "Travel_Rarely",
          "Travel_Rarely",
          "Non-Travel",
          "Travel_Rarely",
          "Travel_Rarely",
          "Non-Travel",
          "Non-Travel",
          "Travel_Frequently",
          "Non-Travel",
          "Travel_Rarely",
          "Travel_Rarely",
          "Travel_Rarely",
          "Travel_Rarely",
          "Travel_Rarely",
          "Non-Travel",
          "Travel_Rarely",
          "Travel_Rarely",
          "Travel_Rarely",
          "Travel_Rarely",
          "Travel_Frequently",
          "Travel_Rarely",
          "Travel_Rarely",
          "Travel_Rarely",
          "Travel_Frequently",
          "Non-Travel",
          "Non-Travel",
          "Travel_Rarely",
          "Travel_Frequently",
          "Travel_Frequently",
          "Travel_Frequently",
          "Travel_Frequently",
          "Non-Travel",
          "Travel_Rarely",
          "Travel_Rarely",
          "Non-Travel",
          "Travel_Rarely",
          "Travel_Rarely",
          "Travel_Rarely",
          "Travel_Rarely",
          "Travel_Rarely",
          "Travel_Rarely",
          "Travel_Rarely",
          "Travel_Frequently",
          "Travel_Rarely",
          "Travel_Rarely",
          "Travel_Rarely",
          "Travel_Rarely",
          "Travel_Rarely",
          "Travel_Rarely",
          "Travel_Rarely",
          "Travel_Rarely",
          "Travel_Rarely",
          "Travel_Rarely",
          "Travel_Frequently",
          "Travel_Rarely",
          "Travel_Rarely",
          "Travel_Rarely",
          "Travel_Frequently",
          "Travel_Rarely",
          "Travel_Rarely",
          "Travel_Rarely",
          "Travel_Rarely",
          "Travel_Rarely",
          "Travel_Rarely",
          "Travel_Rarely",
          "Travel_Frequently",
          "Travel_Frequently",
          "Travel_Rarely",
          "Travel_Frequently",
          "Non-Travel",
          "Travel_Rarely",
          "Travel_Frequently",
          "Non-Travel",
          "Travel_Rarely",
          "Travel_Rarely",
          "Travel_Frequently",
          "Travel_Rarely",
          "Travel_Rarely",
          "Travel_Frequently",
          "Travel_Rarely",
          "Travel_Rarely",
          "Non-Travel",
          "Non-Travel",
          "Non-Travel",
          "Travel_Rarely",
          "Travel_Rarely",
          "Travel_Rarely",
          "Travel_Rarely",
          "Non-Travel",
          "Travel_Frequently",
          "Travel_Rarely",
          "Travel_Rarely",
          "Travel_Rarely",
          "Travel_Rarely",
          "Travel_Rarely",
          "Travel_Frequently",
          "Travel_Rarely",
          "Travel_Frequently",
          "Travel_Rarely",
          "Travel_Rarely",
          "Travel_Rarely",
          "Non-Travel",
          "Non-Travel",
          "Travel_Rarely",
          "Travel_Rarely",
          "Travel_Rarely",
          "Travel_Frequently",
          "Travel_Rarely",
          "Travel_Rarely",
          "Travel_Rarely",
          "Travel_Rarely",
          "Travel_Rarely",
          "Non-Travel",
          "Travel_Rarely",
          "Travel_Rarely",
          "Travel_Frequently",
          "Travel_Rarely",
          "Travel_Rarely",
          "Non-Travel",
          "Travel_Rarely",
          "Travel_Rarely",
          "Travel_Rarely",
          "Travel_Rarely",
          "Travel_Rarely",
          "Travel_Rarely",
          "Travel_Rarely",
          "Travel_Rarely",
          "Travel_Rarely",
          "Travel_Rarely",
          "Travel_Rarely",
          "Travel_Rarely",
          "Non-Travel",
          "Travel_Rarely",
          "Travel_Rarely",
          "Non-Travel",
          "Travel_Rarely",
          "Travel_Frequently",
          "Non-Travel",
          "Travel_Rarely",
          "Travel_Rarely",
          "Travel_Rarely",
          "Non-Travel",
          "Travel_Rarely",
          "Travel_Rarely",
          "Travel_Rarely",
          "Travel_Rarely",
          "Travel_Rarely",
          "Travel_Rarely",
          "Travel_Rarely",
          "Travel_Frequently",
          "Travel_Rarely",
          "Travel_Rarely",
          "Travel_Rarely",
          "Travel_Rarely",
          "Travel_Rarely",
          "Non-Travel",
          "Travel_Rarely",
          "Travel_Frequently",
          "Travel_Rarely",
          "Travel_Rarely",
          "Travel_Frequently",
          "Travel_Rarely"
         ],
         "xaxis": "x",
         "yaxis": "y"
        }
       ],
       "layout": {
        "barmode": "group",
        "height": 500,
        "legend": {
         "title": {
          "text": "Attrition"
         },
         "tracegroupgap": 0
        },
        "margin": {
         "t": 60
        },
        "template": {
         "data": {
          "bar": [
           {
            "error_x": {
             "color": "#2a3f5f"
            },
            "error_y": {
             "color": "#2a3f5f"
            },
            "marker": {
             "line": {
              "color": "#E5ECF6",
              "width": 0.5
             },
             "pattern": {
              "fillmode": "overlay",
              "size": 10,
              "solidity": 0.2
             }
            },
            "type": "bar"
           }
          ],
          "barpolar": [
           {
            "marker": {
             "line": {
              "color": "#E5ECF6",
              "width": 0.5
             },
             "pattern": {
              "fillmode": "overlay",
              "size": 10,
              "solidity": 0.2
             }
            },
            "type": "barpolar"
           }
          ],
          "carpet": [
           {
            "aaxis": {
             "endlinecolor": "#2a3f5f",
             "gridcolor": "white",
             "linecolor": "white",
             "minorgridcolor": "white",
             "startlinecolor": "#2a3f5f"
            },
            "baxis": {
             "endlinecolor": "#2a3f5f",
             "gridcolor": "white",
             "linecolor": "white",
             "minorgridcolor": "white",
             "startlinecolor": "#2a3f5f"
            },
            "type": "carpet"
           }
          ],
          "choropleth": [
           {
            "colorbar": {
             "outlinewidth": 0,
             "ticks": ""
            },
            "type": "choropleth"
           }
          ],
          "contour": [
           {
            "colorbar": {
             "outlinewidth": 0,
             "ticks": ""
            },
            "colorscale": [
             [
              0,
              "#0d0887"
             ],
             [
              0.1111111111111111,
              "#46039f"
             ],
             [
              0.2222222222222222,
              "#7201a8"
             ],
             [
              0.3333333333333333,
              "#9c179e"
             ],
             [
              0.4444444444444444,
              "#bd3786"
             ],
             [
              0.5555555555555556,
              "#d8576b"
             ],
             [
              0.6666666666666666,
              "#ed7953"
             ],
             [
              0.7777777777777778,
              "#fb9f3a"
             ],
             [
              0.8888888888888888,
              "#fdca26"
             ],
             [
              1,
              "#f0f921"
             ]
            ],
            "type": "contour"
           }
          ],
          "contourcarpet": [
           {
            "colorbar": {
             "outlinewidth": 0,
             "ticks": ""
            },
            "type": "contourcarpet"
           }
          ],
          "heatmap": [
           {
            "colorbar": {
             "outlinewidth": 0,
             "ticks": ""
            },
            "colorscale": [
             [
              0,
              "#0d0887"
             ],
             [
              0.1111111111111111,
              "#46039f"
             ],
             [
              0.2222222222222222,
              "#7201a8"
             ],
             [
              0.3333333333333333,
              "#9c179e"
             ],
             [
              0.4444444444444444,
              "#bd3786"
             ],
             [
              0.5555555555555556,
              "#d8576b"
             ],
             [
              0.6666666666666666,
              "#ed7953"
             ],
             [
              0.7777777777777778,
              "#fb9f3a"
             ],
             [
              0.8888888888888888,
              "#fdca26"
             ],
             [
              1,
              "#f0f921"
             ]
            ],
            "type": "heatmap"
           }
          ],
          "heatmapgl": [
           {
            "colorbar": {
             "outlinewidth": 0,
             "ticks": ""
            },
            "colorscale": [
             [
              0,
              "#0d0887"
             ],
             [
              0.1111111111111111,
              "#46039f"
             ],
             [
              0.2222222222222222,
              "#7201a8"
             ],
             [
              0.3333333333333333,
              "#9c179e"
             ],
             [
              0.4444444444444444,
              "#bd3786"
             ],
             [
              0.5555555555555556,
              "#d8576b"
             ],
             [
              0.6666666666666666,
              "#ed7953"
             ],
             [
              0.7777777777777778,
              "#fb9f3a"
             ],
             [
              0.8888888888888888,
              "#fdca26"
             ],
             [
              1,
              "#f0f921"
             ]
            ],
            "type": "heatmapgl"
           }
          ],
          "histogram": [
           {
            "marker": {
             "pattern": {
              "fillmode": "overlay",
              "size": 10,
              "solidity": 0.2
             }
            },
            "type": "histogram"
           }
          ],
          "histogram2d": [
           {
            "colorbar": {
             "outlinewidth": 0,
             "ticks": ""
            },
            "colorscale": [
             [
              0,
              "#0d0887"
             ],
             [
              0.1111111111111111,
              "#46039f"
             ],
             [
              0.2222222222222222,
              "#7201a8"
             ],
             [
              0.3333333333333333,
              "#9c179e"
             ],
             [
              0.4444444444444444,
              "#bd3786"
             ],
             [
              0.5555555555555556,
              "#d8576b"
             ],
             [
              0.6666666666666666,
              "#ed7953"
             ],
             [
              0.7777777777777778,
              "#fb9f3a"
             ],
             [
              0.8888888888888888,
              "#fdca26"
             ],
             [
              1,
              "#f0f921"
             ]
            ],
            "type": "histogram2d"
           }
          ],
          "histogram2dcontour": [
           {
            "colorbar": {
             "outlinewidth": 0,
             "ticks": ""
            },
            "colorscale": [
             [
              0,
              "#0d0887"
             ],
             [
              0.1111111111111111,
              "#46039f"
             ],
             [
              0.2222222222222222,
              "#7201a8"
             ],
             [
              0.3333333333333333,
              "#9c179e"
             ],
             [
              0.4444444444444444,
              "#bd3786"
             ],
             [
              0.5555555555555556,
              "#d8576b"
             ],
             [
              0.6666666666666666,
              "#ed7953"
             ],
             [
              0.7777777777777778,
              "#fb9f3a"
             ],
             [
              0.8888888888888888,
              "#fdca26"
             ],
             [
              1,
              "#f0f921"
             ]
            ],
            "type": "histogram2dcontour"
           }
          ],
          "mesh3d": [
           {
            "colorbar": {
             "outlinewidth": 0,
             "ticks": ""
            },
            "type": "mesh3d"
           }
          ],
          "parcoords": [
           {
            "line": {
             "colorbar": {
              "outlinewidth": 0,
              "ticks": ""
             }
            },
            "type": "parcoords"
           }
          ],
          "pie": [
           {
            "automargin": true,
            "type": "pie"
           }
          ],
          "scatter": [
           {
            "fillpattern": {
             "fillmode": "overlay",
             "size": 10,
             "solidity": 0.2
            },
            "type": "scatter"
           }
          ],
          "scatter3d": [
           {
            "line": {
             "colorbar": {
              "outlinewidth": 0,
              "ticks": ""
             }
            },
            "marker": {
             "colorbar": {
              "outlinewidth": 0,
              "ticks": ""
             }
            },
            "type": "scatter3d"
           }
          ],
          "scattercarpet": [
           {
            "marker": {
             "colorbar": {
              "outlinewidth": 0,
              "ticks": ""
             }
            },
            "type": "scattercarpet"
           }
          ],
          "scattergeo": [
           {
            "marker": {
             "colorbar": {
              "outlinewidth": 0,
              "ticks": ""
             }
            },
            "type": "scattergeo"
           }
          ],
          "scattergl": [
           {
            "marker": {
             "colorbar": {
              "outlinewidth": 0,
              "ticks": ""
             }
            },
            "type": "scattergl"
           }
          ],
          "scattermapbox": [
           {
            "marker": {
             "colorbar": {
              "outlinewidth": 0,
              "ticks": ""
             }
            },
            "type": "scattermapbox"
           }
          ],
          "scatterpolar": [
           {
            "marker": {
             "colorbar": {
              "outlinewidth": 0,
              "ticks": ""
             }
            },
            "type": "scatterpolar"
           }
          ],
          "scatterpolargl": [
           {
            "marker": {
             "colorbar": {
              "outlinewidth": 0,
              "ticks": ""
             }
            },
            "type": "scatterpolargl"
           }
          ],
          "scatterternary": [
           {
            "marker": {
             "colorbar": {
              "outlinewidth": 0,
              "ticks": ""
             }
            },
            "type": "scatterternary"
           }
          ],
          "surface": [
           {
            "colorbar": {
             "outlinewidth": 0,
             "ticks": ""
            },
            "colorscale": [
             [
              0,
              "#0d0887"
             ],
             [
              0.1111111111111111,
              "#46039f"
             ],
             [
              0.2222222222222222,
              "#7201a8"
             ],
             [
              0.3333333333333333,
              "#9c179e"
             ],
             [
              0.4444444444444444,
              "#bd3786"
             ],
             [
              0.5555555555555556,
              "#d8576b"
             ],
             [
              0.6666666666666666,
              "#ed7953"
             ],
             [
              0.7777777777777778,
              "#fb9f3a"
             ],
             [
              0.8888888888888888,
              "#fdca26"
             ],
             [
              1,
              "#f0f921"
             ]
            ],
            "type": "surface"
           }
          ],
          "table": [
           {
            "cells": {
             "fill": {
              "color": "#EBF0F8"
             },
             "line": {
              "color": "white"
             }
            },
            "header": {
             "fill": {
              "color": "#C8D4E3"
             },
             "line": {
              "color": "white"
             }
            },
            "type": "table"
           }
          ]
         },
         "layout": {
          "annotationdefaults": {
           "arrowcolor": "#2a3f5f",
           "arrowhead": 0,
           "arrowwidth": 1
          },
          "autotypenumbers": "strict",
          "coloraxis": {
           "colorbar": {
            "outlinewidth": 0,
            "ticks": ""
           }
          },
          "colorscale": {
           "diverging": [
            [
             0,
             "#8e0152"
            ],
            [
             0.1,
             "#c51b7d"
            ],
            [
             0.2,
             "#de77ae"
            ],
            [
             0.3,
             "#f1b6da"
            ],
            [
             0.4,
             "#fde0ef"
            ],
            [
             0.5,
             "#f7f7f7"
            ],
            [
             0.6,
             "#e6f5d0"
            ],
            [
             0.7,
             "#b8e186"
            ],
            [
             0.8,
             "#7fbc41"
            ],
            [
             0.9,
             "#4d9221"
            ],
            [
             1,
             "#276419"
            ]
           ],
           "sequential": [
            [
             0,
             "#0d0887"
            ],
            [
             0.1111111111111111,
             "#46039f"
            ],
            [
             0.2222222222222222,
             "#7201a8"
            ],
            [
             0.3333333333333333,
             "#9c179e"
            ],
            [
             0.4444444444444444,
             "#bd3786"
            ],
            [
             0.5555555555555556,
             "#d8576b"
            ],
            [
             0.6666666666666666,
             "#ed7953"
            ],
            [
             0.7777777777777778,
             "#fb9f3a"
            ],
            [
             0.8888888888888888,
             "#fdca26"
            ],
            [
             1,
             "#f0f921"
            ]
           ],
           "sequentialminus": [
            [
             0,
             "#0d0887"
            ],
            [
             0.1111111111111111,
             "#46039f"
            ],
            [
             0.2222222222222222,
             "#7201a8"
            ],
            [
             0.3333333333333333,
             "#9c179e"
            ],
            [
             0.4444444444444444,
             "#bd3786"
            ],
            [
             0.5555555555555556,
             "#d8576b"
            ],
            [
             0.6666666666666666,
             "#ed7953"
            ],
            [
             0.7777777777777778,
             "#fb9f3a"
            ],
            [
             0.8888888888888888,
             "#fdca26"
            ],
            [
             1,
             "#f0f921"
            ]
           ]
          },
          "colorway": [
           "#636efa",
           "#EF553B",
           "#00cc96",
           "#ab63fa",
           "#FFA15A",
           "#19d3f3",
           "#FF6692",
           "#B6E880",
           "#FF97FF",
           "#FECB52"
          ],
          "font": {
           "color": "#2a3f5f"
          },
          "geo": {
           "bgcolor": "white",
           "lakecolor": "white",
           "landcolor": "#E5ECF6",
           "showlakes": true,
           "showland": true,
           "subunitcolor": "white"
          },
          "hoverlabel": {
           "align": "left"
          },
          "hovermode": "closest",
          "mapbox": {
           "style": "light"
          },
          "paper_bgcolor": "white",
          "plot_bgcolor": "#E5ECF6",
          "polar": {
           "angularaxis": {
            "gridcolor": "white",
            "linecolor": "white",
            "ticks": ""
           },
           "bgcolor": "#E5ECF6",
           "radialaxis": {
            "gridcolor": "white",
            "linecolor": "white",
            "ticks": ""
           }
          },
          "scene": {
           "xaxis": {
            "backgroundcolor": "#E5ECF6",
            "gridcolor": "white",
            "gridwidth": 2,
            "linecolor": "white",
            "showbackground": true,
            "ticks": "",
            "zerolinecolor": "white"
           },
           "yaxis": {
            "backgroundcolor": "#E5ECF6",
            "gridcolor": "white",
            "gridwidth": 2,
            "linecolor": "white",
            "showbackground": true,
            "ticks": "",
            "zerolinecolor": "white"
           },
           "zaxis": {
            "backgroundcolor": "#E5ECF6",
            "gridcolor": "white",
            "gridwidth": 2,
            "linecolor": "white",
            "showbackground": true,
            "ticks": "",
            "zerolinecolor": "white"
           }
          },
          "shapedefaults": {
           "line": {
            "color": "#2a3f5f"
           }
          },
          "ternary": {
           "aaxis": {
            "gridcolor": "white",
            "linecolor": "white",
            "ticks": ""
           },
           "baxis": {
            "gridcolor": "white",
            "linecolor": "white",
            "ticks": ""
           },
           "bgcolor": "#E5ECF6",
           "caxis": {
            "gridcolor": "white",
            "linecolor": "white",
            "ticks": ""
           }
          },
          "title": {
           "x": 0.05
          },
          "xaxis": {
           "automargin": true,
           "gridcolor": "white",
           "linecolor": "white",
           "ticks": "",
           "title": {
            "standoff": 15
           },
           "zerolinecolor": "white",
           "zerolinewidth": 2
          },
          "yaxis": {
           "automargin": true,
           "gridcolor": "white",
           "linecolor": "white",
           "ticks": "",
           "title": {
            "standoff": 15
           },
           "zerolinecolor": "white",
           "zerolinewidth": 2
          }
         }
        },
        "width": 900,
        "xaxis": {
         "anchor": "y",
         "domain": [
          0,
          1
         ],
         "title": {
          "text": "BusinessTravel"
         }
        },
        "yaxis": {
         "anchor": "x",
         "domain": [
          0,
          1
         ],
         "title": {
          "text": "count"
         }
        }
       }
      }
     },
     "metadata": {},
     "output_type": "display_data"
    }
   ],
   "source": [
    "df = px.data.tips()\n",
    "fig = px.histogram(employee_data, x=\"BusinessTravel\", \n",
    "             color='Attrition', barmode='group',\n",
    "             height=500, width=900)\n",
    "fig.show()"
   ]
  },
  {
   "cell_type": "markdown",
   "id": "e473b8b8",
   "metadata": {
    "papermill": {
     "duration": 0.02157,
     "end_time": "2022-07-28T14:15:11.108850",
     "exception": false,
     "start_time": "2022-07-28T14:15:11.087280",
     "status": "completed"
    },
    "tags": []
   },
   "source": [
    "**Most employees who travel rarely don't leave the company. From the plot we can tell, sending employees on business travels or not doesn't really make much of a difference and doesn't have a significant effect on attrition.**"
   ]
  },
  {
   "cell_type": "code",
   "execution_count": 85,
   "id": "3194edc4",
   "metadata": {},
   "outputs": [
    {
     "data": {
      "application/vnd.plotly.v1+json": {
       "config": {
        "plotlyServerURL": "https://plot.ly"
       },
       "data": [
        {
         "alignmentgroup": "True",
         "bingroup": "x",
         "hovertemplate": "Attrition=1<br>Department=%{x}<br>count=%{y}<extra></extra>",
         "legendgroup": "1",
         "marker": {
          "color": "#636efa",
          "pattern": {
           "shape": ""
          }
         },
         "name": "1",
         "offsetgroup": "1",
         "orientation": "v",
         "showlegend": true,
         "type": "histogram",
         "x": [
          "Sales",
          "Research & Development",
          "Research & Development",
          "Sales",
          "Research & Development",
          "Research & Development",
          "Sales",
          "Research & Development",
          "Sales",
          "Research & Development",
          "Research & Development",
          "Research & Development",
          "Research & Development",
          "Research & Development",
          "Sales",
          "Human Resources",
          "Research & Development",
          "Sales",
          "Research & Development",
          "Research & Development",
          "Sales",
          "Research & Development",
          "Sales",
          "Sales",
          "Research & Development",
          "Research & Development",
          "Sales",
          "Research & Development",
          "Sales",
          "Research & Development",
          "Research & Development",
          "Sales",
          "Sales",
          "Research & Development",
          "Sales",
          "Research & Development",
          "Research & Development",
          "Research & Development",
          "Research & Development",
          "Research & Development",
          "Research & Development",
          "Research & Development",
          "Research & Development",
          "Research & Development",
          "Research & Development",
          "Research & Development",
          "Sales",
          "Research & Development",
          "Research & Development",
          "Research & Development",
          "Sales",
          "Research & Development",
          "Sales",
          "Sales",
          "Sales",
          "Sales",
          "Sales",
          "Sales",
          "Research & Development",
          "Research & Development",
          "Research & Development",
          "Sales",
          "Sales",
          "Research & Development",
          "Human Resources",
          "Research & Development",
          "Research & Development",
          "Research & Development",
          "Human Resources",
          "Research & Development",
          "Human Resources",
          "Sales",
          "Research & Development",
          "Sales",
          "Research & Development",
          "Sales",
          "Sales",
          "Sales",
          "Sales",
          "Research & Development",
          "Research & Development",
          "Sales",
          "Sales",
          "Research & Development",
          "Research & Development",
          "Research & Development",
          "Sales",
          "Research & Development",
          "Sales",
          "Research & Development",
          "Research & Development",
          "Sales",
          "Research & Development",
          "Research & Development",
          "Sales",
          "Sales",
          "Research & Development",
          "Research & Development",
          "Sales",
          "Research & Development",
          "Research & Development",
          "Sales",
          "Research & Development",
          "Research & Development",
          "Research & Development",
          "Research & Development",
          "Sales",
          "Sales",
          "Research & Development",
          "Sales",
          "Sales",
          "Research & Development",
          "Sales",
          "Research & Development",
          "Research & Development",
          "Research & Development",
          "Research & Development",
          "Research & Development",
          "Research & Development",
          "Research & Development",
          "Sales",
          "Sales",
          "Research & Development",
          "Research & Development",
          "Research & Development",
          "Sales",
          "Research & Development",
          "Research & Development",
          "Research & Development",
          "Human Resources",
          "Sales",
          "Research & Development",
          "Research & Development",
          "Research & Development",
          "Research & Development",
          "Research & Development",
          "Sales",
          "Research & Development",
          "Research & Development",
          "Sales",
          "Research & Development",
          "Sales",
          "Sales",
          "Research & Development",
          "Sales",
          "Research & Development",
          "Research & Development",
          "Research & Development",
          "Research & Development",
          "Research & Development",
          "Sales",
          "Sales",
          "Research & Development",
          "Research & Development",
          "Research & Development",
          "Research & Development",
          "Research & Development",
          "Sales",
          "Sales",
          "Sales",
          "Research & Development",
          "Research & Development",
          "Sales",
          "Sales",
          "Sales",
          "Research & Development",
          "Research & Development",
          "Research & Development",
          "Research & Development",
          "Sales",
          "Research & Development",
          "Sales",
          "Sales",
          "Research & Development",
          "Research & Development",
          "Research & Development",
          "Human Resources",
          "Sales",
          "Sales",
          "Sales",
          "Research & Development",
          "Research & Development",
          "Research & Development",
          "Research & Development",
          "Research & Development",
          "Sales",
          "Research & Development",
          "Research & Development",
          "Research & Development",
          "Research & Development",
          "Sales",
          "Sales",
          "Sales",
          "Research & Development",
          "Sales",
          "Research & Development",
          "Sales",
          "Research & Development",
          "Sales",
          "Human Resources",
          "Sales",
          "Sales",
          "Sales",
          "Human Resources",
          "Sales",
          "Sales",
          "Sales",
          "Research & Development",
          "Sales",
          "Research & Development",
          "Research & Development",
          "Sales",
          "Research & Development",
          "Research & Development",
          "Human Resources",
          "Research & Development",
          "Human Resources",
          "Human Resources",
          "Sales",
          "Research & Development",
          "Sales",
          "Sales",
          "Research & Development",
          "Research & Development",
          "Research & Development",
          "Sales",
          "Sales",
          "Research & Development",
          "Human Resources",
          "Research & Development",
          "Sales",
          "Sales",
          "Sales",
          "Research & Development",
          "Research & Development",
          "Sales",
          "Sales"
         ],
         "xaxis": "x",
         "yaxis": "y"
        },
        {
         "alignmentgroup": "True",
         "bingroup": "x",
         "hovertemplate": "Attrition=0<br>Department=%{x}<br>count=%{y}<extra></extra>",
         "legendgroup": "0",
         "marker": {
          "color": "#EF553B",
          "pattern": {
           "shape": ""
          }
         },
         "name": "0",
         "offsetgroup": "0",
         "orientation": "v",
         "showlegend": true,
         "type": "histogram",
         "x": [
          "Research & Development",
          "Research & Development",
          "Research & Development",
          "Research & Development",
          "Research & Development",
          "Research & Development",
          "Research & Development",
          "Research & Development",
          "Research & Development",
          "Research & Development",
          "Research & Development",
          "Research & Development",
          "Research & Development",
          "Research & Development",
          "Research & Development",
          "Sales",
          "Research & Development",
          "Research & Development",
          "Research & Development",
          "Research & Development",
          "Research & Development",
          "Sales",
          "Research & Development",
          "Sales",
          "Research & Development",
          "Research & Development",
          "Research & Development",
          "Research & Development",
          "Sales",
          "Research & Development",
          "Sales",
          "Research & Development",
          "Research & Development",
          "Sales",
          "Research & Development",
          "Sales",
          "Research & Development",
          "Sales",
          "Research & Development",
          "Sales",
          "Research & Development",
          "Sales",
          "Research & Development",
          "Sales",
          "Research & Development",
          "Research & Development",
          "Research & Development",
          "Research & Development",
          "Research & Development",
          "Research & Development",
          "Sales",
          "Research & Development",
          "Research & Development",
          "Research & Development",
          "Research & Development",
          "Research & Development",
          "Sales",
          "Research & Development",
          "Research & Development",
          "Research & Development",
          "Research & Development",
          "Research & Development",
          "Sales",
          "Research & Development",
          "Research & Development",
          "Human Resources",
          "Research & Development",
          "Research & Development",
          "Sales",
          "Research & Development",
          "Research & Development",
          "Research & Development",
          "Sales",
          "Research & Development",
          "Research & Development",
          "Research & Development",
          "Sales",
          "Sales",
          "Research & Development",
          "Sales",
          "Research & Development",
          "Sales",
          "Sales",
          "Sales",
          "Research & Development",
          "Research & Development",
          "Research & Development",
          "Research & Development",
          "Human Resources",
          "Research & Development",
          "Research & Development",
          "Research & Development",
          "Research & Development",
          "Human Resources",
          "Research & Development",
          "Research & Development",
          "Sales",
          "Research & Development",
          "Sales",
          "Research & Development",
          "Sales",
          "Research & Development",
          "Sales",
          "Research & Development",
          "Research & Development",
          "Research & Development",
          "Research & Development",
          "Research & Development",
          "Sales",
          "Sales",
          "Human Resources",
          "Research & Development",
          "Sales",
          "Sales",
          "Human Resources",
          "Research & Development",
          "Research & Development",
          "Research & Development",
          "Sales",
          "Research & Development",
          "Research & Development",
          "Research & Development",
          "Research & Development",
          "Research & Development",
          "Research & Development",
          "Sales",
          "Sales",
          "Research & Development",
          "Sales",
          "Research & Development",
          "Research & Development",
          "Research & Development",
          "Sales",
          "Sales",
          "Research & Development",
          "Research & Development",
          "Research & Development",
          "Research & Development",
          "Research & Development",
          "Research & Development",
          "Research & Development",
          "Sales",
          "Sales",
          "Research & Development",
          "Research & Development",
          "Research & Development",
          "Research & Development",
          "Sales",
          "Research & Development",
          "Research & Development",
          "Sales",
          "Research & Development",
          "Research & Development",
          "Research & Development",
          "Research & Development",
          "Research & Development",
          "Research & Development",
          "Research & Development",
          "Research & Development",
          "Research & Development",
          "Research & Development",
          "Research & Development",
          "Research & Development",
          "Research & Development",
          "Research & Development",
          "Research & Development",
          "Research & Development",
          "Research & Development",
          "Research & Development",
          "Research & Development",
          "Research & Development",
          "Research & Development",
          "Research & Development",
          "Research & Development",
          "Research & Development",
          "Research & Development",
          "Research & Development",
          "Research & Development",
          "Research & Development",
          "Sales",
          "Research & Development",
          "Sales",
          "Sales",
          "Sales",
          "Research & Development",
          "Research & Development",
          "Research & Development",
          "Sales",
          "Research & Development",
          "Research & Development",
          "Sales",
          "Sales",
          "Sales",
          "Research & Development",
          "Research & Development",
          "Human Resources",
          "Sales",
          "Sales",
          "Sales",
          "Sales",
          "Research & Development",
          "Sales",
          "Research & Development",
          "Research & Development",
          "Research & Development",
          "Research & Development",
          "Research & Development",
          "Research & Development",
          "Research & Development",
          "Research & Development",
          "Research & Development",
          "Research & Development",
          "Research & Development",
          "Sales",
          "Research & Development",
          "Research & Development",
          "Research & Development",
          "Research & Development",
          "Research & Development",
          "Sales",
          "Research & Development",
          "Sales",
          "Sales",
          "Research & Development",
          "Research & Development",
          "Research & Development",
          "Research & Development",
          "Research & Development",
          "Research & Development",
          "Sales",
          "Research & Development",
          "Research & Development",
          "Research & Development",
          "Sales",
          "Research & Development",
          "Research & Development",
          "Research & Development",
          "Sales",
          "Sales",
          "Research & Development",
          "Research & Development",
          "Research & Development",
          "Research & Development",
          "Research & Development",
          "Research & Development",
          "Research & Development",
          "Sales",
          "Research & Development",
          "Sales",
          "Sales",
          "Research & Development",
          "Research & Development",
          "Sales",
          "Sales",
          "Research & Development",
          "Sales",
          "Research & Development",
          "Research & Development",
          "Sales",
          "Research & Development",
          "Research & Development",
          "Research & Development",
          "Human Resources",
          "Research & Development",
          "Research & Development",
          "Research & Development",
          "Research & Development",
          "Research & Development",
          "Research & Development",
          "Research & Development",
          "Sales",
          "Sales",
          "Sales",
          "Research & Development",
          "Research & Development",
          "Research & Development",
          "Research & Development",
          "Sales",
          "Research & Development",
          "Research & Development",
          "Sales",
          "Research & Development",
          "Research & Development",
          "Research & Development",
          "Sales",
          "Research & Development",
          "Sales",
          "Sales",
          "Research & Development",
          "Research & Development",
          "Research & Development",
          "Sales",
          "Research & Development",
          "Research & Development",
          "Research & Development",
          "Sales",
          "Research & Development",
          "Sales",
          "Human Resources",
          "Research & Development",
          "Sales",
          "Research & Development",
          "Sales",
          "Sales",
          "Research & Development",
          "Sales",
          "Sales",
          "Research & Development",
          "Research & Development",
          "Sales",
          "Research & Development",
          "Research & Development",
          "Research & Development",
          "Research & Development",
          "Research & Development",
          "Research & Development",
          "Research & Development",
          "Sales",
          "Research & Development",
          "Sales",
          "Research & Development",
          "Research & Development",
          "Sales",
          "Sales",
          "Research & Development",
          "Sales",
          "Research & Development",
          "Sales",
          "Research & Development",
          "Research & Development",
          "Research & Development",
          "Research & Development",
          "Research & Development",
          "Sales",
          "Research & Development",
          "Research & Development",
          "Research & Development",
          "Sales",
          "Research & Development",
          "Research & Development",
          "Research & Development",
          "Sales",
          "Sales",
          "Sales",
          "Research & Development",
          "Research & Development",
          "Research & Development",
          "Research & Development",
          "Research & Development",
          "Research & Development",
          "Research & Development",
          "Research & Development",
          "Research & Development",
          "Research & Development",
          "Sales",
          "Research & Development",
          "Research & Development",
          "Research & Development",
          "Sales",
          "Sales",
          "Research & Development",
          "Research & Development",
          "Sales",
          "Research & Development",
          "Research & Development",
          "Research & Development",
          "Research & Development",
          "Research & Development",
          "Sales",
          "Research & Development",
          "Sales",
          "Research & Development",
          "Research & Development",
          "Sales",
          "Sales",
          "Sales",
          "Sales",
          "Sales",
          "Research & Development",
          "Research & Development",
          "Sales",
          "Research & Development",
          "Sales",
          "Research & Development",
          "Research & Development",
          "Sales",
          "Sales",
          "Research & Development",
          "Sales",
          "Sales",
          "Sales",
          "Research & Development",
          "Research & Development",
          "Sales",
          "Sales",
          "Research & Development",
          "Sales",
          "Research & Development",
          "Research & Development",
          "Research & Development",
          "Research & Development",
          "Sales",
          "Research & Development",
          "Human Resources",
          "Sales",
          "Research & Development",
          "Research & Development",
          "Sales",
          "Research & Development",
          "Sales",
          "Research & Development",
          "Research & Development",
          "Research & Development",
          "Research & Development",
          "Research & Development",
          "Research & Development",
          "Human Resources",
          "Sales",
          "Sales",
          "Research & Development",
          "Research & Development",
          "Sales",
          "Research & Development",
          "Research & Development",
          "Sales",
          "Research & Development",
          "Research & Development",
          "Research & Development",
          "Sales",
          "Research & Development",
          "Research & Development",
          "Human Resources",
          "Research & Development",
          "Research & Development",
          "Research & Development",
          "Research & Development",
          "Sales",
          "Sales",
          "Research & Development",
          "Sales",
          "Sales",
          "Research & Development",
          "Research & Development",
          "Research & Development",
          "Research & Development",
          "Sales",
          "Research & Development",
          "Research & Development",
          "Research & Development",
          "Sales",
          "Sales",
          "Research & Development",
          "Human Resources",
          "Sales",
          "Research & Development",
          "Human Resources",
          "Sales",
          "Research & Development",
          "Research & Development",
          "Research & Development",
          "Sales",
          "Sales",
          "Sales",
          "Sales",
          "Research & Development",
          "Research & Development",
          "Human Resources",
          "Research & Development",
          "Research & Development",
          "Research & Development",
          "Sales",
          "Research & Development",
          "Research & Development",
          "Research & Development",
          "Research & Development",
          "Research & Development",
          "Sales",
          "Sales",
          "Sales",
          "Research & Development",
          "Sales",
          "Sales",
          "Research & Development",
          "Research & Development",
          "Research & Development",
          "Research & Development",
          "Research & Development",
          "Sales",
          "Research & Development",
          "Research & Development",
          "Research & Development",
          "Sales",
          "Research & Development",
          "Research & Development",
          "Sales",
          "Research & Development",
          "Research & Development",
          "Research & Development",
          "Research & Development",
          "Research & Development",
          "Research & Development",
          "Research & Development",
          "Research & Development",
          "Research & Development",
          "Research & Development",
          "Human Resources",
          "Research & Development",
          "Research & Development",
          "Research & Development",
          "Research & Development",
          "Research & Development",
          "Research & Development",
          "Research & Development",
          "Research & Development",
          "Research & Development",
          "Research & Development",
          "Sales",
          "Human Resources",
          "Research & Development",
          "Sales",
          "Research & Development",
          "Research & Development",
          "Sales",
          "Research & Development",
          "Sales",
          "Sales",
          "Research & Development",
          "Sales",
          "Sales",
          "Research & Development",
          "Research & Development",
          "Sales",
          "Human Resources",
          "Research & Development",
          "Research & Development",
          "Research & Development",
          "Human Resources",
          "Sales",
          "Research & Development",
          "Research & Development",
          "Sales",
          "Research & Development",
          "Research & Development",
          "Sales",
          "Sales",
          "Research & Development",
          "Research & Development",
          "Sales",
          "Research & Development",
          "Sales",
          "Research & Development",
          "Research & Development",
          "Sales",
          "Sales",
          "Research & Development",
          "Human Resources",
          "Human Resources",
          "Research & Development",
          "Research & Development",
          "Sales",
          "Research & Development",
          "Research & Development",
          "Sales",
          "Research & Development",
          "Research & Development",
          "Research & Development",
          "Sales",
          "Research & Development",
          "Research & Development",
          "Sales",
          "Research & Development",
          "Research & Development",
          "Research & Development",
          "Sales",
          "Research & Development",
          "Research & Development",
          "Research & Development",
          "Sales",
          "Sales",
          "Research & Development",
          "Research & Development",
          "Research & Development",
          "Research & Development",
          "Research & Development",
          "Research & Development",
          "Research & Development",
          "Sales",
          "Sales",
          "Research & Development",
          "Sales",
          "Sales",
          "Sales",
          "Sales",
          "Sales",
          "Research & Development",
          "Sales",
          "Sales",
          "Research & Development",
          "Research & Development",
          "Research & Development",
          "Research & Development",
          "Research & Development",
          "Research & Development",
          "Research & Development",
          "Sales",
          "Research & Development",
          "Research & Development",
          "Research & Development",
          "Research & Development",
          "Research & Development",
          "Research & Development",
          "Research & Development",
          "Research & Development",
          "Research & Development",
          "Research & Development",
          "Research & Development",
          "Research & Development",
          "Research & Development",
          "Research & Development",
          "Research & Development",
          "Research & Development",
          "Research & Development",
          "Sales",
          "Research & Development",
          "Research & Development",
          "Research & Development",
          "Research & Development",
          "Sales",
          "Sales",
          "Sales",
          "Research & Development",
          "Sales",
          "Sales",
          "Research & Development",
          "Sales",
          "Sales",
          "Human Resources",
          "Sales",
          "Sales",
          "Sales",
          "Research & Development",
          "Research & Development",
          "Research & Development",
          "Sales",
          "Research & Development",
          "Research & Development",
          "Sales",
          "Research & Development",
          "Research & Development",
          "Research & Development",
          "Sales",
          "Research & Development",
          "Research & Development",
          "Research & Development",
          "Research & Development",
          "Research & Development",
          "Research & Development",
          "Research & Development",
          "Research & Development",
          "Research & Development",
          "Research & Development",
          "Research & Development",
          "Research & Development",
          "Sales",
          "Research & Development",
          "Sales",
          "Research & Development",
          "Research & Development",
          "Sales",
          "Research & Development",
          "Sales",
          "Research & Development",
          "Research & Development",
          "Sales",
          "Sales",
          "Research & Development",
          "Research & Development",
          "Research & Development",
          "Research & Development",
          "Research & Development",
          "Sales",
          "Research & Development",
          "Sales",
          "Sales",
          "Research & Development",
          "Research & Development",
          "Research & Development",
          "Research & Development",
          "Human Resources",
          "Research & Development",
          "Research & Development",
          "Research & Development",
          "Research & Development",
          "Sales",
          "Human Resources",
          "Research & Development",
          "Sales",
          "Research & Development",
          "Research & Development",
          "Research & Development",
          "Sales",
          "Research & Development",
          "Research & Development",
          "Research & Development",
          "Research & Development",
          "Sales",
          "Research & Development",
          "Research & Development",
          "Research & Development",
          "Research & Development",
          "Research & Development",
          "Research & Development",
          "Research & Development",
          "Research & Development",
          "Sales",
          "Research & Development",
          "Human Resources",
          "Sales",
          "Sales",
          "Research & Development",
          "Research & Development",
          "Research & Development",
          "Sales",
          "Sales",
          "Research & Development",
          "Research & Development",
          "Research & Development",
          "Sales",
          "Research & Development",
          "Human Resources",
          "Sales",
          "Research & Development",
          "Research & Development",
          "Research & Development",
          "Research & Development",
          "Sales",
          "Sales",
          "Research & Development",
          "Research & Development",
          "Sales",
          "Research & Development",
          "Research & Development",
          "Research & Development",
          "Research & Development",
          "Research & Development",
          "Research & Development",
          "Research & Development",
          "Sales",
          "Research & Development",
          "Research & Development",
          "Research & Development",
          "Research & Development",
          "Research & Development",
          "Research & Development",
          "Research & Development",
          "Research & Development",
          "Research & Development",
          "Sales",
          "Sales",
          "Research & Development",
          "Research & Development",
          "Research & Development",
          "Research & Development",
          "Sales",
          "Sales",
          "Sales",
          "Research & Development",
          "Research & Development",
          "Research & Development",
          "Research & Development",
          "Human Resources",
          "Research & Development",
          "Research & Development",
          "Sales",
          "Research & Development",
          "Research & Development",
          "Research & Development",
          "Research & Development",
          "Research & Development",
          "Research & Development",
          "Sales",
          "Research & Development",
          "Research & Development",
          "Research & Development",
          "Research & Development",
          "Research & Development",
          "Human Resources",
          "Research & Development",
          "Research & Development",
          "Research & Development",
          "Research & Development",
          "Sales",
          "Sales",
          "Research & Development",
          "Research & Development",
          "Human Resources",
          "Research & Development",
          "Research & Development",
          "Research & Development",
          "Sales",
          "Research & Development",
          "Human Resources",
          "Sales",
          "Sales",
          "Research & Development",
          "Research & Development",
          "Sales",
          "Research & Development",
          "Sales",
          "Research & Development",
          "Research & Development",
          "Research & Development",
          "Sales",
          "Research & Development",
          "Research & Development",
          "Research & Development",
          "Research & Development",
          "Research & Development",
          "Research & Development",
          "Sales",
          "Sales",
          "Sales",
          "Research & Development",
          "Research & Development",
          "Sales",
          "Sales",
          "Research & Development",
          "Sales",
          "Research & Development",
          "Research & Development",
          "Sales",
          "Research & Development",
          "Human Resources",
          "Research & Development",
          "Research & Development",
          "Research & Development",
          "Research & Development",
          "Research & Development",
          "Human Resources",
          "Research & Development",
          "Research & Development",
          "Research & Development",
          "Sales",
          "Sales",
          "Research & Development",
          "Research & Development",
          "Research & Development",
          "Research & Development",
          "Sales",
          "Research & Development",
          "Research & Development",
          "Research & Development",
          "Research & Development",
          "Sales",
          "Sales",
          "Research & Development",
          "Research & Development",
          "Research & Development",
          "Sales",
          "Research & Development",
          "Human Resources",
          "Research & Development",
          "Sales",
          "Research & Development",
          "Sales",
          "Research & Development",
          "Research & Development",
          "Research & Development",
          "Research & Development",
          "Research & Development",
          "Sales",
          "Sales",
          "Sales",
          "Research & Development",
          "Sales",
          "Research & Development",
          "Research & Development",
          "Research & Development",
          "Research & Development",
          "Sales",
          "Sales",
          "Research & Development",
          "Sales",
          "Human Resources",
          "Research & Development",
          "Research & Development",
          "Sales",
          "Research & Development",
          "Sales",
          "Research & Development",
          "Research & Development",
          "Research & Development",
          "Research & Development",
          "Research & Development",
          "Research & Development",
          "Research & Development",
          "Research & Development",
          "Sales",
          "Research & Development",
          "Research & Development",
          "Sales",
          "Research & Development",
          "Sales",
          "Research & Development",
          "Research & Development",
          "Research & Development",
          "Research & Development",
          "Research & Development",
          "Research & Development",
          "Sales",
          "Research & Development",
          "Human Resources",
          "Research & Development",
          "Research & Development",
          "Research & Development",
          "Sales",
          "Research & Development",
          "Sales",
          "Sales",
          "Research & Development",
          "Sales",
          "Human Resources",
          "Research & Development",
          "Sales",
          "Research & Development",
          "Research & Development",
          "Research & Development",
          "Sales",
          "Research & Development",
          "Research & Development",
          "Sales",
          "Sales",
          "Sales",
          "Research & Development",
          "Research & Development",
          "Sales",
          "Research & Development",
          "Sales",
          "Research & Development",
          "Research & Development",
          "Research & Development",
          "Research & Development",
          "Research & Development",
          "Sales",
          "Research & Development",
          "Research & Development",
          "Sales",
          "Research & Development",
          "Research & Development",
          "Research & Development",
          "Research & Development",
          "Research & Development",
          "Research & Development",
          "Sales",
          "Sales",
          "Research & Development",
          "Research & Development",
          "Research & Development",
          "Research & Development",
          "Research & Development",
          "Research & Development",
          "Research & Development",
          "Research & Development",
          "Human Resources",
          "Research & Development",
          "Research & Development",
          "Research & Development",
          "Research & Development",
          "Research & Development",
          "Research & Development",
          "Research & Development",
          "Research & Development",
          "Research & Development",
          "Human Resources",
          "Research & Development",
          "Research & Development",
          "Research & Development",
          "Research & Development",
          "Sales",
          "Research & Development",
          "Research & Development",
          "Research & Development",
          "Research & Development",
          "Research & Development",
          "Sales",
          "Research & Development",
          "Research & Development",
          "Research & Development",
          "Research & Development",
          "Research & Development",
          "Research & Development",
          "Research & Development",
          "Research & Development",
          "Sales",
          "Sales",
          "Research & Development",
          "Sales",
          "Research & Development",
          "Research & Development",
          "Sales",
          "Research & Development",
          "Sales",
          "Sales",
          "Sales",
          "Research & Development",
          "Human Resources",
          "Research & Development",
          "Research & Development",
          "Research & Development",
          "Research & Development",
          "Research & Development",
          "Research & Development",
          "Research & Development",
          "Sales",
          "Research & Development",
          "Research & Development",
          "Research & Development",
          "Sales",
          "Research & Development",
          "Sales",
          "Research & Development",
          "Sales",
          "Research & Development",
          "Research & Development",
          "Research & Development",
          "Research & Development",
          "Research & Development",
          "Human Resources",
          "Research & Development",
          "Research & Development",
          "Research & Development",
          "Research & Development",
          "Research & Development",
          "Sales",
          "Sales",
          "Research & Development",
          "Research & Development",
          "Research & Development",
          "Sales",
          "Sales",
          "Human Resources",
          "Research & Development",
          "Human Resources",
          "Sales",
          "Research & Development",
          "Research & Development",
          "Sales",
          "Research & Development",
          "Sales",
          "Sales",
          "Research & Development",
          "Research & Development",
          "Research & Development",
          "Research & Development",
          "Research & Development",
          "Research & Development",
          "Research & Development",
          "Research & Development",
          "Research & Development",
          "Sales",
          "Research & Development",
          "Human Resources",
          "Sales",
          "Research & Development",
          "Sales",
          "Research & Development",
          "Sales",
          "Research & Development",
          "Research & Development",
          "Human Resources",
          "Research & Development",
          "Research & Development",
          "Research & Development",
          "Sales",
          "Research & Development",
          "Research & Development",
          "Research & Development",
          "Human Resources",
          "Sales",
          "Research & Development",
          "Research & Development",
          "Sales",
          "Research & Development",
          "Research & Development",
          "Sales",
          "Sales",
          "Research & Development",
          "Research & Development",
          "Research & Development",
          "Research & Development",
          "Sales",
          "Research & Development",
          "Sales",
          "Sales",
          "Research & Development",
          "Research & Development",
          "Sales",
          "Research & Development",
          "Sales",
          "Research & Development",
          "Research & Development",
          "Sales",
          "Research & Development",
          "Research & Development",
          "Research & Development",
          "Human Resources",
          "Research & Development",
          "Research & Development",
          "Sales",
          "Sales",
          "Human Resources",
          "Research & Development",
          "Research & Development",
          "Research & Development",
          "Research & Development",
          "Research & Development",
          "Sales",
          "Sales",
          "Research & Development",
          "Sales",
          "Research & Development",
          "Research & Development",
          "Research & Development",
          "Research & Development",
          "Human Resources",
          "Research & Development",
          "Research & Development",
          "Sales",
          "Research & Development",
          "Research & Development",
          "Sales",
          "Sales",
          "Research & Development",
          "Sales",
          "Sales",
          "Research & Development",
          "Research & Development",
          "Research & Development",
          "Sales",
          "Sales",
          "Sales",
          "Research & Development",
          "Research & Development",
          "Research & Development",
          "Sales",
          "Research & Development",
          "Research & Development",
          "Sales",
          "Research & Development",
          "Research & Development",
          "Sales",
          "Sales",
          "Research & Development",
          "Research & Development",
          "Research & Development",
          "Sales",
          "Sales",
          "Research & Development",
          "Research & Development",
          "Research & Development",
          "Research & Development",
          "Sales",
          "Sales",
          "Sales",
          "Research & Development",
          "Research & Development",
          "Research & Development",
          "Research & Development",
          "Human Resources",
          "Human Resources",
          "Research & Development",
          "Sales",
          "Research & Development",
          "Research & Development",
          "Research & Development",
          "Research & Development",
          "Research & Development",
          "Research & Development",
          "Sales",
          "Human Resources",
          "Research & Development",
          "Research & Development",
          "Research & Development",
          "Research & Development",
          "Sales",
          "Sales",
          "Research & Development",
          "Research & Development",
          "Research & Development",
          "Research & Development",
          "Research & Development",
          "Research & Development",
          "Research & Development",
          "Research & Development",
          "Research & Development",
          "Research & Development",
          "Sales",
          "Research & Development",
          "Research & Development",
          "Sales",
          "Research & Development",
          "Sales",
          "Sales",
          "Research & Development",
          "Sales",
          "Research & Development",
          "Sales",
          "Research & Development",
          "Research & Development",
          "Research & Development",
          "Research & Development",
          "Sales",
          "Sales",
          "Sales",
          "Research & Development",
          "Human Resources",
          "Sales",
          "Sales",
          "Sales",
          "Research & Development",
          "Research & Development",
          "Research & Development",
          "Research & Development",
          "Research & Development",
          "Research & Development",
          "Sales",
          "Research & Development",
          "Sales",
          "Research & Development",
          "Research & Development",
          "Research & Development",
          "Sales",
          "Research & Development"
         ],
         "xaxis": "x",
         "yaxis": "y"
        }
       ],
       "layout": {
        "barmode": "group",
        "height": 400,
        "legend": {
         "title": {
          "text": "Attrition"
         },
         "tracegroupgap": 0
        },
        "margin": {
         "t": 60
        },
        "template": {
         "data": {
          "bar": [
           {
            "error_x": {
             "color": "#2a3f5f"
            },
            "error_y": {
             "color": "#2a3f5f"
            },
            "marker": {
             "line": {
              "color": "#E5ECF6",
              "width": 0.5
             },
             "pattern": {
              "fillmode": "overlay",
              "size": 10,
              "solidity": 0.2
             }
            },
            "type": "bar"
           }
          ],
          "barpolar": [
           {
            "marker": {
             "line": {
              "color": "#E5ECF6",
              "width": 0.5
             },
             "pattern": {
              "fillmode": "overlay",
              "size": 10,
              "solidity": 0.2
             }
            },
            "type": "barpolar"
           }
          ],
          "carpet": [
           {
            "aaxis": {
             "endlinecolor": "#2a3f5f",
             "gridcolor": "white",
             "linecolor": "white",
             "minorgridcolor": "white",
             "startlinecolor": "#2a3f5f"
            },
            "baxis": {
             "endlinecolor": "#2a3f5f",
             "gridcolor": "white",
             "linecolor": "white",
             "minorgridcolor": "white",
             "startlinecolor": "#2a3f5f"
            },
            "type": "carpet"
           }
          ],
          "choropleth": [
           {
            "colorbar": {
             "outlinewidth": 0,
             "ticks": ""
            },
            "type": "choropleth"
           }
          ],
          "contour": [
           {
            "colorbar": {
             "outlinewidth": 0,
             "ticks": ""
            },
            "colorscale": [
             [
              0,
              "#0d0887"
             ],
             [
              0.1111111111111111,
              "#46039f"
             ],
             [
              0.2222222222222222,
              "#7201a8"
             ],
             [
              0.3333333333333333,
              "#9c179e"
             ],
             [
              0.4444444444444444,
              "#bd3786"
             ],
             [
              0.5555555555555556,
              "#d8576b"
             ],
             [
              0.6666666666666666,
              "#ed7953"
             ],
             [
              0.7777777777777778,
              "#fb9f3a"
             ],
             [
              0.8888888888888888,
              "#fdca26"
             ],
             [
              1,
              "#f0f921"
             ]
            ],
            "type": "contour"
           }
          ],
          "contourcarpet": [
           {
            "colorbar": {
             "outlinewidth": 0,
             "ticks": ""
            },
            "type": "contourcarpet"
           }
          ],
          "heatmap": [
           {
            "colorbar": {
             "outlinewidth": 0,
             "ticks": ""
            },
            "colorscale": [
             [
              0,
              "#0d0887"
             ],
             [
              0.1111111111111111,
              "#46039f"
             ],
             [
              0.2222222222222222,
              "#7201a8"
             ],
             [
              0.3333333333333333,
              "#9c179e"
             ],
             [
              0.4444444444444444,
              "#bd3786"
             ],
             [
              0.5555555555555556,
              "#d8576b"
             ],
             [
              0.6666666666666666,
              "#ed7953"
             ],
             [
              0.7777777777777778,
              "#fb9f3a"
             ],
             [
              0.8888888888888888,
              "#fdca26"
             ],
             [
              1,
              "#f0f921"
             ]
            ],
            "type": "heatmap"
           }
          ],
          "heatmapgl": [
           {
            "colorbar": {
             "outlinewidth": 0,
             "ticks": ""
            },
            "colorscale": [
             [
              0,
              "#0d0887"
             ],
             [
              0.1111111111111111,
              "#46039f"
             ],
             [
              0.2222222222222222,
              "#7201a8"
             ],
             [
              0.3333333333333333,
              "#9c179e"
             ],
             [
              0.4444444444444444,
              "#bd3786"
             ],
             [
              0.5555555555555556,
              "#d8576b"
             ],
             [
              0.6666666666666666,
              "#ed7953"
             ],
             [
              0.7777777777777778,
              "#fb9f3a"
             ],
             [
              0.8888888888888888,
              "#fdca26"
             ],
             [
              1,
              "#f0f921"
             ]
            ],
            "type": "heatmapgl"
           }
          ],
          "histogram": [
           {
            "marker": {
             "pattern": {
              "fillmode": "overlay",
              "size": 10,
              "solidity": 0.2
             }
            },
            "type": "histogram"
           }
          ],
          "histogram2d": [
           {
            "colorbar": {
             "outlinewidth": 0,
             "ticks": ""
            },
            "colorscale": [
             [
              0,
              "#0d0887"
             ],
             [
              0.1111111111111111,
              "#46039f"
             ],
             [
              0.2222222222222222,
              "#7201a8"
             ],
             [
              0.3333333333333333,
              "#9c179e"
             ],
             [
              0.4444444444444444,
              "#bd3786"
             ],
             [
              0.5555555555555556,
              "#d8576b"
             ],
             [
              0.6666666666666666,
              "#ed7953"
             ],
             [
              0.7777777777777778,
              "#fb9f3a"
             ],
             [
              0.8888888888888888,
              "#fdca26"
             ],
             [
              1,
              "#f0f921"
             ]
            ],
            "type": "histogram2d"
           }
          ],
          "histogram2dcontour": [
           {
            "colorbar": {
             "outlinewidth": 0,
             "ticks": ""
            },
            "colorscale": [
             [
              0,
              "#0d0887"
             ],
             [
              0.1111111111111111,
              "#46039f"
             ],
             [
              0.2222222222222222,
              "#7201a8"
             ],
             [
              0.3333333333333333,
              "#9c179e"
             ],
             [
              0.4444444444444444,
              "#bd3786"
             ],
             [
              0.5555555555555556,
              "#d8576b"
             ],
             [
              0.6666666666666666,
              "#ed7953"
             ],
             [
              0.7777777777777778,
              "#fb9f3a"
             ],
             [
              0.8888888888888888,
              "#fdca26"
             ],
             [
              1,
              "#f0f921"
             ]
            ],
            "type": "histogram2dcontour"
           }
          ],
          "mesh3d": [
           {
            "colorbar": {
             "outlinewidth": 0,
             "ticks": ""
            },
            "type": "mesh3d"
           }
          ],
          "parcoords": [
           {
            "line": {
             "colorbar": {
              "outlinewidth": 0,
              "ticks": ""
             }
            },
            "type": "parcoords"
           }
          ],
          "pie": [
           {
            "automargin": true,
            "type": "pie"
           }
          ],
          "scatter": [
           {
            "fillpattern": {
             "fillmode": "overlay",
             "size": 10,
             "solidity": 0.2
            },
            "type": "scatter"
           }
          ],
          "scatter3d": [
           {
            "line": {
             "colorbar": {
              "outlinewidth": 0,
              "ticks": ""
             }
            },
            "marker": {
             "colorbar": {
              "outlinewidth": 0,
              "ticks": ""
             }
            },
            "type": "scatter3d"
           }
          ],
          "scattercarpet": [
           {
            "marker": {
             "colorbar": {
              "outlinewidth": 0,
              "ticks": ""
             }
            },
            "type": "scattercarpet"
           }
          ],
          "scattergeo": [
           {
            "marker": {
             "colorbar": {
              "outlinewidth": 0,
              "ticks": ""
             }
            },
            "type": "scattergeo"
           }
          ],
          "scattergl": [
           {
            "marker": {
             "colorbar": {
              "outlinewidth": 0,
              "ticks": ""
             }
            },
            "type": "scattergl"
           }
          ],
          "scattermapbox": [
           {
            "marker": {
             "colorbar": {
              "outlinewidth": 0,
              "ticks": ""
             }
            },
            "type": "scattermapbox"
           }
          ],
          "scatterpolar": [
           {
            "marker": {
             "colorbar": {
              "outlinewidth": 0,
              "ticks": ""
             }
            },
            "type": "scatterpolar"
           }
          ],
          "scatterpolargl": [
           {
            "marker": {
             "colorbar": {
              "outlinewidth": 0,
              "ticks": ""
             }
            },
            "type": "scatterpolargl"
           }
          ],
          "scatterternary": [
           {
            "marker": {
             "colorbar": {
              "outlinewidth": 0,
              "ticks": ""
             }
            },
            "type": "scatterternary"
           }
          ],
          "surface": [
           {
            "colorbar": {
             "outlinewidth": 0,
             "ticks": ""
            },
            "colorscale": [
             [
              0,
              "#0d0887"
             ],
             [
              0.1111111111111111,
              "#46039f"
             ],
             [
              0.2222222222222222,
              "#7201a8"
             ],
             [
              0.3333333333333333,
              "#9c179e"
             ],
             [
              0.4444444444444444,
              "#bd3786"
             ],
             [
              0.5555555555555556,
              "#d8576b"
             ],
             [
              0.6666666666666666,
              "#ed7953"
             ],
             [
              0.7777777777777778,
              "#fb9f3a"
             ],
             [
              0.8888888888888888,
              "#fdca26"
             ],
             [
              1,
              "#f0f921"
             ]
            ],
            "type": "surface"
           }
          ],
          "table": [
           {
            "cells": {
             "fill": {
              "color": "#EBF0F8"
             },
             "line": {
              "color": "white"
             }
            },
            "header": {
             "fill": {
              "color": "#C8D4E3"
             },
             "line": {
              "color": "white"
             }
            },
            "type": "table"
           }
          ]
         },
         "layout": {
          "annotationdefaults": {
           "arrowcolor": "#2a3f5f",
           "arrowhead": 0,
           "arrowwidth": 1
          },
          "autotypenumbers": "strict",
          "coloraxis": {
           "colorbar": {
            "outlinewidth": 0,
            "ticks": ""
           }
          },
          "colorscale": {
           "diverging": [
            [
             0,
             "#8e0152"
            ],
            [
             0.1,
             "#c51b7d"
            ],
            [
             0.2,
             "#de77ae"
            ],
            [
             0.3,
             "#f1b6da"
            ],
            [
             0.4,
             "#fde0ef"
            ],
            [
             0.5,
             "#f7f7f7"
            ],
            [
             0.6,
             "#e6f5d0"
            ],
            [
             0.7,
             "#b8e186"
            ],
            [
             0.8,
             "#7fbc41"
            ],
            [
             0.9,
             "#4d9221"
            ],
            [
             1,
             "#276419"
            ]
           ],
           "sequential": [
            [
             0,
             "#0d0887"
            ],
            [
             0.1111111111111111,
             "#46039f"
            ],
            [
             0.2222222222222222,
             "#7201a8"
            ],
            [
             0.3333333333333333,
             "#9c179e"
            ],
            [
             0.4444444444444444,
             "#bd3786"
            ],
            [
             0.5555555555555556,
             "#d8576b"
            ],
            [
             0.6666666666666666,
             "#ed7953"
            ],
            [
             0.7777777777777778,
             "#fb9f3a"
            ],
            [
             0.8888888888888888,
             "#fdca26"
            ],
            [
             1,
             "#f0f921"
            ]
           ],
           "sequentialminus": [
            [
             0,
             "#0d0887"
            ],
            [
             0.1111111111111111,
             "#46039f"
            ],
            [
             0.2222222222222222,
             "#7201a8"
            ],
            [
             0.3333333333333333,
             "#9c179e"
            ],
            [
             0.4444444444444444,
             "#bd3786"
            ],
            [
             0.5555555555555556,
             "#d8576b"
            ],
            [
             0.6666666666666666,
             "#ed7953"
            ],
            [
             0.7777777777777778,
             "#fb9f3a"
            ],
            [
             0.8888888888888888,
             "#fdca26"
            ],
            [
             1,
             "#f0f921"
            ]
           ]
          },
          "colorway": [
           "#636efa",
           "#EF553B",
           "#00cc96",
           "#ab63fa",
           "#FFA15A",
           "#19d3f3",
           "#FF6692",
           "#B6E880",
           "#FF97FF",
           "#FECB52"
          ],
          "font": {
           "color": "#2a3f5f"
          },
          "geo": {
           "bgcolor": "white",
           "lakecolor": "white",
           "landcolor": "#E5ECF6",
           "showlakes": true,
           "showland": true,
           "subunitcolor": "white"
          },
          "hoverlabel": {
           "align": "left"
          },
          "hovermode": "closest",
          "mapbox": {
           "style": "light"
          },
          "paper_bgcolor": "white",
          "plot_bgcolor": "#E5ECF6",
          "polar": {
           "angularaxis": {
            "gridcolor": "white",
            "linecolor": "white",
            "ticks": ""
           },
           "bgcolor": "#E5ECF6",
           "radialaxis": {
            "gridcolor": "white",
            "linecolor": "white",
            "ticks": ""
           }
          },
          "scene": {
           "xaxis": {
            "backgroundcolor": "#E5ECF6",
            "gridcolor": "white",
            "gridwidth": 2,
            "linecolor": "white",
            "showbackground": true,
            "ticks": "",
            "zerolinecolor": "white"
           },
           "yaxis": {
            "backgroundcolor": "#E5ECF6",
            "gridcolor": "white",
            "gridwidth": 2,
            "linecolor": "white",
            "showbackground": true,
            "ticks": "",
            "zerolinecolor": "white"
           },
           "zaxis": {
            "backgroundcolor": "#E5ECF6",
            "gridcolor": "white",
            "gridwidth": 2,
            "linecolor": "white",
            "showbackground": true,
            "ticks": "",
            "zerolinecolor": "white"
           }
          },
          "shapedefaults": {
           "line": {
            "color": "#2a3f5f"
           }
          },
          "ternary": {
           "aaxis": {
            "gridcolor": "white",
            "linecolor": "white",
            "ticks": ""
           },
           "baxis": {
            "gridcolor": "white",
            "linecolor": "white",
            "ticks": ""
           },
           "bgcolor": "#E5ECF6",
           "caxis": {
            "gridcolor": "white",
            "linecolor": "white",
            "ticks": ""
           }
          },
          "title": {
           "x": 0.05
          },
          "xaxis": {
           "automargin": true,
           "gridcolor": "white",
           "linecolor": "white",
           "ticks": "",
           "title": {
            "standoff": 15
           },
           "zerolinecolor": "white",
           "zerolinewidth": 2
          },
          "yaxis": {
           "automargin": true,
           "gridcolor": "white",
           "linecolor": "white",
           "ticks": "",
           "title": {
            "standoff": 15
           },
           "zerolinecolor": "white",
           "zerolinewidth": 2
          }
         }
        },
        "width": 900,
        "xaxis": {
         "anchor": "y",
         "domain": [
          0,
          1
         ],
         "title": {
          "text": "Department"
         }
        },
        "yaxis": {
         "anchor": "x",
         "domain": [
          0,
          1
         ],
         "title": {
          "text": "count"
         }
        }
       }
      }
     },
     "metadata": {},
     "output_type": "display_data"
    }
   ],
   "source": [
    "df = px.data.tips()\n",
    "fig = px.histogram(employee_data, x=\"Department\", #y=\"Attrition\",\n",
    "             color='Attrition', barmode='group',\n",
    "             height=400, width=900)\n",
    "fig.show()"
   ]
  },
  {
   "cell_type": "code",
   "execution_count": 86,
   "id": "5154854f",
   "metadata": {
    "execution": {
     "iopub.execute_input": "2022-07-28T14:15:11.408294Z",
     "iopub.status.busy": "2022-07-28T14:15:11.407895Z",
     "iopub.status.idle": "2022-07-28T14:15:11.417140Z",
     "shell.execute_reply": "2022-07-28T14:15:11.416031Z"
    },
    "papermill": {
     "duration": 0.033651,
     "end_time": "2022-07-28T14:15:11.419493",
     "exception": false,
     "start_time": "2022-07-28T14:15:11.385842",
     "status": "completed"
    },
    "tags": []
   },
   "outputs": [
    {
     "data": {
      "text/plain": [
       "Research & Development    961\n",
       "Sales                     446\n",
       "Human Resources            63\n",
       "Name: Department, dtype: int64"
      ]
     },
     "execution_count": 86,
     "metadata": {},
     "output_type": "execute_result"
    }
   ],
   "source": [
    "employee_data['Department'].value_counts()"
   ]
  },
  {
   "cell_type": "markdown",
   "id": "f0b0e4f0",
   "metadata": {
    "papermill": {
     "duration": 0.020048,
     "end_time": "2022-07-28T14:15:11.459980",
     "exception": false,
     "start_time": "2022-07-28T14:15:11.439932",
     "status": "completed"
    },
    "tags": []
   },
   "source": [
    "**Most attritions are from the research & development department only for sales department to come second by a small margin. Human resources has the least number of attritions. But we need to keep in mind that R&D has a lot more employees than sales and HR.**\n",
    "\n",
    "**If we considered percentage of attritions per department, we would see that the HR department has most attritions.**"
   ]
  },
  {
   "cell_type": "code",
   "execution_count": 87,
   "id": "3b910beb",
   "metadata": {},
   "outputs": [
    {
     "data": {
      "application/vnd.plotly.v1+json": {
       "config": {
        "plotlyServerURL": "https://plot.ly"
       },
       "data": [
        {
         "alignmentgroup": "True",
         "bingroup": "x",
         "hovertemplate": "Attrition=1<br>Gender=%{x}<br>count=%{y}<extra></extra>",
         "legendgroup": "1",
         "marker": {
          "color": "#636efa",
          "pattern": {
           "shape": ""
          }
         },
         "name": "1",
         "offsetgroup": "1",
         "orientation": "v",
         "showlegend": true,
         "type": "histogram",
         "x": [
          "Female",
          "Male",
          "Male",
          "Male",
          "Male",
          "Female",
          "Male",
          "Male",
          "Male",
          "Male",
          "Female",
          "Male",
          "Male",
          "Male",
          "Male",
          "Male",
          "Female",
          "Male",
          "Male",
          "Female",
          "Male",
          "Female",
          "Male",
          "Female",
          "Male",
          "Female",
          "Female",
          "Male",
          "Female",
          "Male",
          "Male",
          "Female",
          "Male",
          "Female",
          "Female",
          "Male",
          "Male",
          "Male",
          "Female",
          "Male",
          "Male",
          "Male",
          "Male",
          "Male",
          "Male",
          "Male",
          "Male",
          "Male",
          "Male",
          "Male",
          "Female",
          "Male",
          "Female",
          "Female",
          "Male",
          "Male",
          "Female",
          "Male",
          "Male",
          "Male",
          "Male",
          "Female",
          "Female",
          "Female",
          "Male",
          "Male",
          "Male",
          "Male",
          "Female",
          "Male",
          "Female",
          "Male",
          "Male",
          "Male",
          "Female",
          "Male",
          "Male",
          "Male",
          "Female",
          "Male",
          "Male",
          "Female",
          "Male",
          "Female",
          "Male",
          "Male",
          "Female",
          "Male",
          "Male",
          "Male",
          "Female",
          "Female",
          "Male",
          "Male",
          "Female",
          "Male",
          "Female",
          "Female",
          "Female",
          "Male",
          "Male",
          "Female",
          "Female",
          "Female",
          "Female",
          "Male",
          "Male",
          "Male",
          "Male",
          "Male",
          "Male",
          "Male",
          "Female",
          "Male",
          "Female",
          "Female",
          "Male",
          "Female",
          "Female",
          "Female",
          "Male",
          "Female",
          "Female",
          "Male",
          "Male",
          "Female",
          "Female",
          "Male",
          "Male",
          "Male",
          "Male",
          "Female",
          "Male",
          "Male",
          "Male",
          "Male",
          "Male",
          "Male",
          "Male",
          "Female",
          "Male",
          "Female",
          "Male",
          "Female",
          "Female",
          "Male",
          "Male",
          "Male",
          "Female",
          "Female",
          "Male",
          "Female",
          "Female",
          "Female",
          "Female",
          "Male",
          "Male",
          "Male",
          "Male",
          "Female",
          "Male",
          "Female",
          "Male",
          "Female",
          "Female",
          "Male",
          "Female",
          "Male",
          "Female",
          "Female",
          "Female",
          "Male",
          "Male",
          "Female",
          "Female",
          "Male",
          "Female",
          "Male",
          "Female",
          "Female",
          "Male",
          "Male",
          "Male",
          "Male",
          "Female",
          "Male",
          "Female",
          "Female",
          "Male",
          "Male",
          "Female",
          "Male",
          "Male",
          "Male",
          "Male",
          "Male",
          "Female",
          "Male",
          "Male",
          "Male",
          "Male",
          "Male",
          "Male",
          "Female",
          "Female",
          "Female",
          "Male",
          "Male",
          "Male",
          "Female",
          "Male",
          "Male",
          "Male",
          "Male",
          "Female",
          "Female",
          "Male",
          "Male",
          "Male",
          "Male",
          "Female",
          "Male",
          "Male",
          "Male",
          "Male",
          "Male",
          "Female",
          "Female",
          "Female",
          "Male",
          "Male",
          "Male",
          "Male",
          "Male",
          "Male",
          "Male",
          "Male"
         ],
         "xaxis": "x",
         "yaxis": "y"
        },
        {
         "alignmentgroup": "True",
         "bingroup": "x",
         "hovertemplate": "Attrition=0<br>Gender=%{x}<br>count=%{y}<extra></extra>",
         "legendgroup": "0",
         "marker": {
          "color": "#EF553B",
          "pattern": {
           "shape": ""
          }
         },
         "name": "0",
         "offsetgroup": "0",
         "orientation": "v",
         "showlegend": true,
         "type": "histogram",
         "x": [
          "Male",
          "Female",
          "Male",
          "Male",
          "Female",
          "Male",
          "Male",
          "Male",
          "Male",
          "Female",
          "Male",
          "Male",
          "Female",
          "Male",
          "Male",
          "Female",
          "Male",
          "Female",
          "Female",
          "Male",
          "Female",
          "Male",
          "Female",
          "Female",
          "Male",
          "Male",
          "Male",
          "Female",
          "Female",
          "Female",
          "Female",
          "Male",
          "Female",
          "Male",
          "Female",
          "Male",
          "Male",
          "Male",
          "Male",
          "Female",
          "Male",
          "Female",
          "Female",
          "Male",
          "Female",
          "Male",
          "Male",
          "Male",
          "Female",
          "Female",
          "Female",
          "Female",
          "Female",
          "Male",
          "Male",
          "Male",
          "Female",
          "Male",
          "Male",
          "Male",
          "Female",
          "Female",
          "Male",
          "Male",
          "Male",
          "Male",
          "Male",
          "Male",
          "Male",
          "Female",
          "Male",
          "Male",
          "Male",
          "Male",
          "Male",
          "Male",
          "Male",
          "Female",
          "Male",
          "Male",
          "Female",
          "Female",
          "Male",
          "Male",
          "Male",
          "Male",
          "Female",
          "Male",
          "Female",
          "Female",
          "Male",
          "Female",
          "Female",
          "Female",
          "Male",
          "Female",
          "Male",
          "Female",
          "Female",
          "Female",
          "Male",
          "Male",
          "Male",
          "Male",
          "Female",
          "Male",
          "Female",
          "Female",
          "Female",
          "Male",
          "Female",
          "Male",
          "Female",
          "Male",
          "Male",
          "Male",
          "Female",
          "Female",
          "Male",
          "Female",
          "Male",
          "Male",
          "Male",
          "Female",
          "Female",
          "Male",
          "Male",
          "Male",
          "Female",
          "Male",
          "Male",
          "Female",
          "Male",
          "Female",
          "Male",
          "Male",
          "Male",
          "Male",
          "Male",
          "Female",
          "Male",
          "Female",
          "Female",
          "Male",
          "Male",
          "Male",
          "Male",
          "Female",
          "Female",
          "Male",
          "Female",
          "Female",
          "Female",
          "Female",
          "Male",
          "Female",
          "Female",
          "Female",
          "Male",
          "Male",
          "Female",
          "Male",
          "Female",
          "Male",
          "Male",
          "Male",
          "Female",
          "Female",
          "Male",
          "Male",
          "Male",
          "Male",
          "Male",
          "Male",
          "Male",
          "Female",
          "Male",
          "Male",
          "Male",
          "Female",
          "Male",
          "Female",
          "Female",
          "Female",
          "Male",
          "Female",
          "Male",
          "Male",
          "Male",
          "Male",
          "Male",
          "Female",
          "Female",
          "Female",
          "Male",
          "Male",
          "Female",
          "Female",
          "Male",
          "Female",
          "Female",
          "Male",
          "Male",
          "Male",
          "Male",
          "Male",
          "Female",
          "Male",
          "Female",
          "Male",
          "Female",
          "Male",
          "Female",
          "Male",
          "Female",
          "Female",
          "Male",
          "Male",
          "Male",
          "Male",
          "Male",
          "Female",
          "Male",
          "Male",
          "Male",
          "Male",
          "Male",
          "Male",
          "Male",
          "Male",
          "Male",
          "Female",
          "Female",
          "Female",
          "Female",
          "Male",
          "Male",
          "Male",
          "Male",
          "Male",
          "Male",
          "Female",
          "Male",
          "Female",
          "Female",
          "Male",
          "Female",
          "Male",
          "Female",
          "Male",
          "Male",
          "Male",
          "Male",
          "Female",
          "Male",
          "Male",
          "Male",
          "Female",
          "Male",
          "Female",
          "Male",
          "Male",
          "Male",
          "Male",
          "Male",
          "Female",
          "Male",
          "Female",
          "Female",
          "Female",
          "Female",
          "Male",
          "Male",
          "Female",
          "Female",
          "Female",
          "Male",
          "Male",
          "Male",
          "Female",
          "Male",
          "Female",
          "Female",
          "Male",
          "Male",
          "Male",
          "Female",
          "Female",
          "Male",
          "Male",
          "Female",
          "Female",
          "Male",
          "Male",
          "Male",
          "Male",
          "Female",
          "Male",
          "Male",
          "Female",
          "Female",
          "Male",
          "Female",
          "Male",
          "Male",
          "Female",
          "Male",
          "Male",
          "Female",
          "Male",
          "Female",
          "Female",
          "Male",
          "Male",
          "Male",
          "Male",
          "Male",
          "Male",
          "Male",
          "Female",
          "Female",
          "Female",
          "Female",
          "Male",
          "Female",
          "Male",
          "Female",
          "Female",
          "Female",
          "Male",
          "Male",
          "Female",
          "Male",
          "Female",
          "Female",
          "Male",
          "Female",
          "Female",
          "Female",
          "Male",
          "Male",
          "Female",
          "Female",
          "Male",
          "Male",
          "Male",
          "Male",
          "Female",
          "Female",
          "Female",
          "Female",
          "Female",
          "Female",
          "Male",
          "Female",
          "Female",
          "Male",
          "Male",
          "Female",
          "Male",
          "Male",
          "Female",
          "Female",
          "Female",
          "Male",
          "Male",
          "Female",
          "Male",
          "Female",
          "Male",
          "Male",
          "Male",
          "Male",
          "Male",
          "Female",
          "Female",
          "Male",
          "Male",
          "Female",
          "Female",
          "Male",
          "Male",
          "Male",
          "Male",
          "Female",
          "Male",
          "Male",
          "Female",
          "Male",
          "Female",
          "Male",
          "Female",
          "Female",
          "Female",
          "Male",
          "Male",
          "Male",
          "Female",
          "Female",
          "Male",
          "Male",
          "Male",
          "Male",
          "Male",
          "Male",
          "Male",
          "Male",
          "Male",
          "Female",
          "Male",
          "Female",
          "Female",
          "Male",
          "Female",
          "Male",
          "Female",
          "Female",
          "Female",
          "Male",
          "Male",
          "Male",
          "Male",
          "Female",
          "Female",
          "Female",
          "Male",
          "Female",
          "Male",
          "Female",
          "Male",
          "Male",
          "Male",
          "Male",
          "Male",
          "Male",
          "Male",
          "Male",
          "Female",
          "Male",
          "Male",
          "Female",
          "Male",
          "Male",
          "Female",
          "Female",
          "Male",
          "Female",
          "Female",
          "Female",
          "Male",
          "Male",
          "Male",
          "Male",
          "Male",
          "Male",
          "Male",
          "Male",
          "Female",
          "Female",
          "Male",
          "Female",
          "Male",
          "Male",
          "Male",
          "Female",
          "Male",
          "Female",
          "Male",
          "Female",
          "Female",
          "Male",
          "Male",
          "Female",
          "Male",
          "Male",
          "Female",
          "Male",
          "Female",
          "Male",
          "Male",
          "Male",
          "Male",
          "Male",
          "Female",
          "Female",
          "Female",
          "Female",
          "Male",
          "Female",
          "Female",
          "Female",
          "Female",
          "Male",
          "Female",
          "Female",
          "Male",
          "Male",
          "Female",
          "Male",
          "Male",
          "Female",
          "Female",
          "Male",
          "Female",
          "Female",
          "Male",
          "Female",
          "Male",
          "Female",
          "Female",
          "Male",
          "Male",
          "Female",
          "Male",
          "Male",
          "Male",
          "Female",
          "Male",
          "Male",
          "Female",
          "Male",
          "Male",
          "Male",
          "Female",
          "Male",
          "Male",
          "Male",
          "Female",
          "Male",
          "Female",
          "Female",
          "Male",
          "Male",
          "Male",
          "Male",
          "Male",
          "Male",
          "Male",
          "Female",
          "Male",
          "Male",
          "Female",
          "Male",
          "Male",
          "Male",
          "Female",
          "Male",
          "Male",
          "Male",
          "Female",
          "Female",
          "Female",
          "Female",
          "Male",
          "Male",
          "Female",
          "Male",
          "Female",
          "Male",
          "Male",
          "Female",
          "Male",
          "Female",
          "Female",
          "Female",
          "Male",
          "Female",
          "Male",
          "Female",
          "Male",
          "Female",
          "Female",
          "Male",
          "Female",
          "Male",
          "Female",
          "Female",
          "Male",
          "Male",
          "Male",
          "Male",
          "Female",
          "Male",
          "Female",
          "Female",
          "Male",
          "Female",
          "Female",
          "Male",
          "Male",
          "Male",
          "Female",
          "Male",
          "Male",
          "Male",
          "Male",
          "Male",
          "Female",
          "Female",
          "Male",
          "Female",
          "Male",
          "Female",
          "Male",
          "Female",
          "Male",
          "Male",
          "Male",
          "Female",
          "Female",
          "Male",
          "Female",
          "Female",
          "Female",
          "Male",
          "Male",
          "Male",
          "Male",
          "Female",
          "Female",
          "Female",
          "Male",
          "Male",
          "Male",
          "Female",
          "Male",
          "Female",
          "Male",
          "Female",
          "Female",
          "Female",
          "Female",
          "Female",
          "Female",
          "Male",
          "Male",
          "Male",
          "Female",
          "Female",
          "Male",
          "Male",
          "Male",
          "Female",
          "Male",
          "Female",
          "Male",
          "Female",
          "Female",
          "Female",
          "Male",
          "Male",
          "Female",
          "Male",
          "Male",
          "Female",
          "Female",
          "Male",
          "Male",
          "Male",
          "Female",
          "Male",
          "Male",
          "Male",
          "Female",
          "Male",
          "Female",
          "Male",
          "Male",
          "Female",
          "Male",
          "Male",
          "Female",
          "Female",
          "Male",
          "Male",
          "Female",
          "Male",
          "Female",
          "Male",
          "Male",
          "Male",
          "Male",
          "Male",
          "Male",
          "Male",
          "Female",
          "Male",
          "Male",
          "Male",
          "Male",
          "Male",
          "Female",
          "Male",
          "Female",
          "Male",
          "Female",
          "Male",
          "Male",
          "Male",
          "Male",
          "Male",
          "Female",
          "Male",
          "Male",
          "Male",
          "Female",
          "Female",
          "Female",
          "Male",
          "Female",
          "Female",
          "Male",
          "Female",
          "Female",
          "Female",
          "Male",
          "Male",
          "Male",
          "Male",
          "Female",
          "Male",
          "Male",
          "Male",
          "Female",
          "Male",
          "Male",
          "Male",
          "Male",
          "Male",
          "Male",
          "Male",
          "Female",
          "Female",
          "Female",
          "Male",
          "Female",
          "Male",
          "Male",
          "Female",
          "Female",
          "Male",
          "Female",
          "Female",
          "Female",
          "Male",
          "Male",
          "Female",
          "Female",
          "Male",
          "Male",
          "Male",
          "Male",
          "Male",
          "Male",
          "Male",
          "Female",
          "Female",
          "Male",
          "Male",
          "Female",
          "Male",
          "Male",
          "Male",
          "Female",
          "Female",
          "Male",
          "Male",
          "Female",
          "Male",
          "Male",
          "Male",
          "Male",
          "Female",
          "Female",
          "Female",
          "Male",
          "Female",
          "Female",
          "Male",
          "Female",
          "Male",
          "Female",
          "Female",
          "Male",
          "Female",
          "Female",
          "Female",
          "Female",
          "Female",
          "Female",
          "Male",
          "Female",
          "Male",
          "Male",
          "Female",
          "Male",
          "Male",
          "Male",
          "Male",
          "Female",
          "Male",
          "Male",
          "Female",
          "Female",
          "Male",
          "Male",
          "Female",
          "Male",
          "Female",
          "Female",
          "Female",
          "Female",
          "Male",
          "Male",
          "Female",
          "Female",
          "Male",
          "Male",
          "Female",
          "Male",
          "Male",
          "Male",
          "Female",
          "Male",
          "Male",
          "Male",
          "Male",
          "Male",
          "Female",
          "Female",
          "Female",
          "Male",
          "Female",
          "Female",
          "Female",
          "Male",
          "Male",
          "Male",
          "Male",
          "Female",
          "Female",
          "Male",
          "Female",
          "Female",
          "Female",
          "Male",
          "Male",
          "Male",
          "Female",
          "Male",
          "Male",
          "Female",
          "Female",
          "Female",
          "Male",
          "Female",
          "Male",
          "Male",
          "Male",
          "Male",
          "Female",
          "Male",
          "Male",
          "Male",
          "Male",
          "Male",
          "Male",
          "Male",
          "Male",
          "Male",
          "Male",
          "Male",
          "Male",
          "Female",
          "Female",
          "Male",
          "Male",
          "Male",
          "Male",
          "Male",
          "Female",
          "Male",
          "Male",
          "Male",
          "Male",
          "Female",
          "Female",
          "Male",
          "Male",
          "Female",
          "Female",
          "Male",
          "Male",
          "Male",
          "Female",
          "Male",
          "Female",
          "Female",
          "Female",
          "Male",
          "Male",
          "Male",
          "Male",
          "Male",
          "Male",
          "Female",
          "Male",
          "Male",
          "Male",
          "Male",
          "Male",
          "Male",
          "Male",
          "Male",
          "Male",
          "Female",
          "Female",
          "Male",
          "Female",
          "Male",
          "Male",
          "Male",
          "Male",
          "Male",
          "Male",
          "Female",
          "Male",
          "Male",
          "Male",
          "Female",
          "Male",
          "Female",
          "Female",
          "Male",
          "Female",
          "Male",
          "Male",
          "Male",
          "Male",
          "Male",
          "Male",
          "Male",
          "Male",
          "Female",
          "Male",
          "Male",
          "Male",
          "Female",
          "Male",
          "Female",
          "Female",
          "Male",
          "Female",
          "Male",
          "Male",
          "Female",
          "Male",
          "Female",
          "Male",
          "Male",
          "Male",
          "Female",
          "Male",
          "Female",
          "Male",
          "Female",
          "Female",
          "Male",
          "Female",
          "Female",
          "Female",
          "Female",
          "Female",
          "Male",
          "Male",
          "Female",
          "Female",
          "Male",
          "Male",
          "Female",
          "Male",
          "Male",
          "Female",
          "Female",
          "Female",
          "Female",
          "Male",
          "Female",
          "Female",
          "Male",
          "Female",
          "Male",
          "Male",
          "Male",
          "Male",
          "Male",
          "Female",
          "Female",
          "Female",
          "Female",
          "Male",
          "Male",
          "Male",
          "Female",
          "Male",
          "Female",
          "Female",
          "Male",
          "Male",
          "Male",
          "Male",
          "Male",
          "Male",
          "Male",
          "Female",
          "Female",
          "Male",
          "Male",
          "Male",
          "Male",
          "Female",
          "Female",
          "Male",
          "Male",
          "Female",
          "Male",
          "Male",
          "Male",
          "Female",
          "Male",
          "Male",
          "Male",
          "Male",
          "Male",
          "Male",
          "Female",
          "Female",
          "Male",
          "Male",
          "Male",
          "Female",
          "Female",
          "Male",
          "Male",
          "Female",
          "Male",
          "Male",
          "Male",
          "Female",
          "Female",
          "Female",
          "Female",
          "Male",
          "Male",
          "Male",
          "Male",
          "Male",
          "Male",
          "Male",
          "Male",
          "Female",
          "Male",
          "Female",
          "Female",
          "Female",
          "Female",
          "Male",
          "Male",
          "Male",
          "Male",
          "Male",
          "Male",
          "Male",
          "Male",
          "Female",
          "Male",
          "Male",
          "Male",
          "Male",
          "Male",
          "Male",
          "Female",
          "Female",
          "Female",
          "Male",
          "Male",
          "Male",
          "Female",
          "Female",
          "Female",
          "Female",
          "Female",
          "Female",
          "Male",
          "Male",
          "Female",
          "Female",
          "Female",
          "Male",
          "Female",
          "Male",
          "Male",
          "Male",
          "Female",
          "Male",
          "Male",
          "Male",
          "Male",
          "Female",
          "Female",
          "Male",
          "Female",
          "Male",
          "Female",
          "Male",
          "Male",
          "Female",
          "Female",
          "Male",
          "Male",
          "Male",
          "Male",
          "Female",
          "Female",
          "Male",
          "Male",
          "Female",
          "Female",
          "Female",
          "Male",
          "Male",
          "Female",
          "Male",
          "Female",
          "Female",
          "Female",
          "Male",
          "Male",
          "Male",
          "Male",
          "Female",
          "Male",
          "Male",
          "Male",
          "Female",
          "Male",
          "Female",
          "Female",
          "Male",
          "Male",
          "Male",
          "Male",
          "Male",
          "Male",
          "Male",
          "Male",
          "Male",
          "Male",
          "Male",
          "Female",
          "Male",
          "Male",
          "Female",
          "Male",
          "Male",
          "Female",
          "Male",
          "Male",
          "Male",
          "Male",
          "Female",
          "Male",
          "Male",
          "Female",
          "Female",
          "Male",
          "Male",
          "Female",
          "Female",
          "Female",
          "Male",
          "Male",
          "Male",
          "Male",
          "Male",
          "Male",
          "Male",
          "Male",
          "Male",
          "Female",
          "Male",
          "Male",
          "Male",
          "Female",
          "Female",
          "Male",
          "Male",
          "Male",
          "Female",
          "Female",
          "Female",
          "Female",
          "Male",
          "Male",
          "Male",
          "Male",
          "Female",
          "Female",
          "Male",
          "Male",
          "Female",
          "Female",
          "Male",
          "Male",
          "Male",
          "Female",
          "Female",
          "Female",
          "Female",
          "Male",
          "Male",
          "Female",
          "Female",
          "Male",
          "Female",
          "Female",
          "Male",
          "Female",
          "Male",
          "Male",
          "Male",
          "Male",
          "Male"
         ],
         "xaxis": "x",
         "yaxis": "y"
        }
       ],
       "layout": {
        "barmode": "group",
        "height": 400,
        "legend": {
         "title": {
          "text": "Attrition"
         },
         "tracegroupgap": 0
        },
        "margin": {
         "t": 60
        },
        "template": {
         "data": {
          "bar": [
           {
            "error_x": {
             "color": "#2a3f5f"
            },
            "error_y": {
             "color": "#2a3f5f"
            },
            "marker": {
             "line": {
              "color": "#E5ECF6",
              "width": 0.5
             },
             "pattern": {
              "fillmode": "overlay",
              "size": 10,
              "solidity": 0.2
             }
            },
            "type": "bar"
           }
          ],
          "barpolar": [
           {
            "marker": {
             "line": {
              "color": "#E5ECF6",
              "width": 0.5
             },
             "pattern": {
              "fillmode": "overlay",
              "size": 10,
              "solidity": 0.2
             }
            },
            "type": "barpolar"
           }
          ],
          "carpet": [
           {
            "aaxis": {
             "endlinecolor": "#2a3f5f",
             "gridcolor": "white",
             "linecolor": "white",
             "minorgridcolor": "white",
             "startlinecolor": "#2a3f5f"
            },
            "baxis": {
             "endlinecolor": "#2a3f5f",
             "gridcolor": "white",
             "linecolor": "white",
             "minorgridcolor": "white",
             "startlinecolor": "#2a3f5f"
            },
            "type": "carpet"
           }
          ],
          "choropleth": [
           {
            "colorbar": {
             "outlinewidth": 0,
             "ticks": ""
            },
            "type": "choropleth"
           }
          ],
          "contour": [
           {
            "colorbar": {
             "outlinewidth": 0,
             "ticks": ""
            },
            "colorscale": [
             [
              0,
              "#0d0887"
             ],
             [
              0.1111111111111111,
              "#46039f"
             ],
             [
              0.2222222222222222,
              "#7201a8"
             ],
             [
              0.3333333333333333,
              "#9c179e"
             ],
             [
              0.4444444444444444,
              "#bd3786"
             ],
             [
              0.5555555555555556,
              "#d8576b"
             ],
             [
              0.6666666666666666,
              "#ed7953"
             ],
             [
              0.7777777777777778,
              "#fb9f3a"
             ],
             [
              0.8888888888888888,
              "#fdca26"
             ],
             [
              1,
              "#f0f921"
             ]
            ],
            "type": "contour"
           }
          ],
          "contourcarpet": [
           {
            "colorbar": {
             "outlinewidth": 0,
             "ticks": ""
            },
            "type": "contourcarpet"
           }
          ],
          "heatmap": [
           {
            "colorbar": {
             "outlinewidth": 0,
             "ticks": ""
            },
            "colorscale": [
             [
              0,
              "#0d0887"
             ],
             [
              0.1111111111111111,
              "#46039f"
             ],
             [
              0.2222222222222222,
              "#7201a8"
             ],
             [
              0.3333333333333333,
              "#9c179e"
             ],
             [
              0.4444444444444444,
              "#bd3786"
             ],
             [
              0.5555555555555556,
              "#d8576b"
             ],
             [
              0.6666666666666666,
              "#ed7953"
             ],
             [
              0.7777777777777778,
              "#fb9f3a"
             ],
             [
              0.8888888888888888,
              "#fdca26"
             ],
             [
              1,
              "#f0f921"
             ]
            ],
            "type": "heatmap"
           }
          ],
          "heatmapgl": [
           {
            "colorbar": {
             "outlinewidth": 0,
             "ticks": ""
            },
            "colorscale": [
             [
              0,
              "#0d0887"
             ],
             [
              0.1111111111111111,
              "#46039f"
             ],
             [
              0.2222222222222222,
              "#7201a8"
             ],
             [
              0.3333333333333333,
              "#9c179e"
             ],
             [
              0.4444444444444444,
              "#bd3786"
             ],
             [
              0.5555555555555556,
              "#d8576b"
             ],
             [
              0.6666666666666666,
              "#ed7953"
             ],
             [
              0.7777777777777778,
              "#fb9f3a"
             ],
             [
              0.8888888888888888,
              "#fdca26"
             ],
             [
              1,
              "#f0f921"
             ]
            ],
            "type": "heatmapgl"
           }
          ],
          "histogram": [
           {
            "marker": {
             "pattern": {
              "fillmode": "overlay",
              "size": 10,
              "solidity": 0.2
             }
            },
            "type": "histogram"
           }
          ],
          "histogram2d": [
           {
            "colorbar": {
             "outlinewidth": 0,
             "ticks": ""
            },
            "colorscale": [
             [
              0,
              "#0d0887"
             ],
             [
              0.1111111111111111,
              "#46039f"
             ],
             [
              0.2222222222222222,
              "#7201a8"
             ],
             [
              0.3333333333333333,
              "#9c179e"
             ],
             [
              0.4444444444444444,
              "#bd3786"
             ],
             [
              0.5555555555555556,
              "#d8576b"
             ],
             [
              0.6666666666666666,
              "#ed7953"
             ],
             [
              0.7777777777777778,
              "#fb9f3a"
             ],
             [
              0.8888888888888888,
              "#fdca26"
             ],
             [
              1,
              "#f0f921"
             ]
            ],
            "type": "histogram2d"
           }
          ],
          "histogram2dcontour": [
           {
            "colorbar": {
             "outlinewidth": 0,
             "ticks": ""
            },
            "colorscale": [
             [
              0,
              "#0d0887"
             ],
             [
              0.1111111111111111,
              "#46039f"
             ],
             [
              0.2222222222222222,
              "#7201a8"
             ],
             [
              0.3333333333333333,
              "#9c179e"
             ],
             [
              0.4444444444444444,
              "#bd3786"
             ],
             [
              0.5555555555555556,
              "#d8576b"
             ],
             [
              0.6666666666666666,
              "#ed7953"
             ],
             [
              0.7777777777777778,
              "#fb9f3a"
             ],
             [
              0.8888888888888888,
              "#fdca26"
             ],
             [
              1,
              "#f0f921"
             ]
            ],
            "type": "histogram2dcontour"
           }
          ],
          "mesh3d": [
           {
            "colorbar": {
             "outlinewidth": 0,
             "ticks": ""
            },
            "type": "mesh3d"
           }
          ],
          "parcoords": [
           {
            "line": {
             "colorbar": {
              "outlinewidth": 0,
              "ticks": ""
             }
            },
            "type": "parcoords"
           }
          ],
          "pie": [
           {
            "automargin": true,
            "type": "pie"
           }
          ],
          "scatter": [
           {
            "fillpattern": {
             "fillmode": "overlay",
             "size": 10,
             "solidity": 0.2
            },
            "type": "scatter"
           }
          ],
          "scatter3d": [
           {
            "line": {
             "colorbar": {
              "outlinewidth": 0,
              "ticks": ""
             }
            },
            "marker": {
             "colorbar": {
              "outlinewidth": 0,
              "ticks": ""
             }
            },
            "type": "scatter3d"
           }
          ],
          "scattercarpet": [
           {
            "marker": {
             "colorbar": {
              "outlinewidth": 0,
              "ticks": ""
             }
            },
            "type": "scattercarpet"
           }
          ],
          "scattergeo": [
           {
            "marker": {
             "colorbar": {
              "outlinewidth": 0,
              "ticks": ""
             }
            },
            "type": "scattergeo"
           }
          ],
          "scattergl": [
           {
            "marker": {
             "colorbar": {
              "outlinewidth": 0,
              "ticks": ""
             }
            },
            "type": "scattergl"
           }
          ],
          "scattermapbox": [
           {
            "marker": {
             "colorbar": {
              "outlinewidth": 0,
              "ticks": ""
             }
            },
            "type": "scattermapbox"
           }
          ],
          "scatterpolar": [
           {
            "marker": {
             "colorbar": {
              "outlinewidth": 0,
              "ticks": ""
             }
            },
            "type": "scatterpolar"
           }
          ],
          "scatterpolargl": [
           {
            "marker": {
             "colorbar": {
              "outlinewidth": 0,
              "ticks": ""
             }
            },
            "type": "scatterpolargl"
           }
          ],
          "scatterternary": [
           {
            "marker": {
             "colorbar": {
              "outlinewidth": 0,
              "ticks": ""
             }
            },
            "type": "scatterternary"
           }
          ],
          "surface": [
           {
            "colorbar": {
             "outlinewidth": 0,
             "ticks": ""
            },
            "colorscale": [
             [
              0,
              "#0d0887"
             ],
             [
              0.1111111111111111,
              "#46039f"
             ],
             [
              0.2222222222222222,
              "#7201a8"
             ],
             [
              0.3333333333333333,
              "#9c179e"
             ],
             [
              0.4444444444444444,
              "#bd3786"
             ],
             [
              0.5555555555555556,
              "#d8576b"
             ],
             [
              0.6666666666666666,
              "#ed7953"
             ],
             [
              0.7777777777777778,
              "#fb9f3a"
             ],
             [
              0.8888888888888888,
              "#fdca26"
             ],
             [
              1,
              "#f0f921"
             ]
            ],
            "type": "surface"
           }
          ],
          "table": [
           {
            "cells": {
             "fill": {
              "color": "#EBF0F8"
             },
             "line": {
              "color": "white"
             }
            },
            "header": {
             "fill": {
              "color": "#C8D4E3"
             },
             "line": {
              "color": "white"
             }
            },
            "type": "table"
           }
          ]
         },
         "layout": {
          "annotationdefaults": {
           "arrowcolor": "#2a3f5f",
           "arrowhead": 0,
           "arrowwidth": 1
          },
          "autotypenumbers": "strict",
          "coloraxis": {
           "colorbar": {
            "outlinewidth": 0,
            "ticks": ""
           }
          },
          "colorscale": {
           "diverging": [
            [
             0,
             "#8e0152"
            ],
            [
             0.1,
             "#c51b7d"
            ],
            [
             0.2,
             "#de77ae"
            ],
            [
             0.3,
             "#f1b6da"
            ],
            [
             0.4,
             "#fde0ef"
            ],
            [
             0.5,
             "#f7f7f7"
            ],
            [
             0.6,
             "#e6f5d0"
            ],
            [
             0.7,
             "#b8e186"
            ],
            [
             0.8,
             "#7fbc41"
            ],
            [
             0.9,
             "#4d9221"
            ],
            [
             1,
             "#276419"
            ]
           ],
           "sequential": [
            [
             0,
             "#0d0887"
            ],
            [
             0.1111111111111111,
             "#46039f"
            ],
            [
             0.2222222222222222,
             "#7201a8"
            ],
            [
             0.3333333333333333,
             "#9c179e"
            ],
            [
             0.4444444444444444,
             "#bd3786"
            ],
            [
             0.5555555555555556,
             "#d8576b"
            ],
            [
             0.6666666666666666,
             "#ed7953"
            ],
            [
             0.7777777777777778,
             "#fb9f3a"
            ],
            [
             0.8888888888888888,
             "#fdca26"
            ],
            [
             1,
             "#f0f921"
            ]
           ],
           "sequentialminus": [
            [
             0,
             "#0d0887"
            ],
            [
             0.1111111111111111,
             "#46039f"
            ],
            [
             0.2222222222222222,
             "#7201a8"
            ],
            [
             0.3333333333333333,
             "#9c179e"
            ],
            [
             0.4444444444444444,
             "#bd3786"
            ],
            [
             0.5555555555555556,
             "#d8576b"
            ],
            [
             0.6666666666666666,
             "#ed7953"
            ],
            [
             0.7777777777777778,
             "#fb9f3a"
            ],
            [
             0.8888888888888888,
             "#fdca26"
            ],
            [
             1,
             "#f0f921"
            ]
           ]
          },
          "colorway": [
           "#636efa",
           "#EF553B",
           "#00cc96",
           "#ab63fa",
           "#FFA15A",
           "#19d3f3",
           "#FF6692",
           "#B6E880",
           "#FF97FF",
           "#FECB52"
          ],
          "font": {
           "color": "#2a3f5f"
          },
          "geo": {
           "bgcolor": "white",
           "lakecolor": "white",
           "landcolor": "#E5ECF6",
           "showlakes": true,
           "showland": true,
           "subunitcolor": "white"
          },
          "hoverlabel": {
           "align": "left"
          },
          "hovermode": "closest",
          "mapbox": {
           "style": "light"
          },
          "paper_bgcolor": "white",
          "plot_bgcolor": "#E5ECF6",
          "polar": {
           "angularaxis": {
            "gridcolor": "white",
            "linecolor": "white",
            "ticks": ""
           },
           "bgcolor": "#E5ECF6",
           "radialaxis": {
            "gridcolor": "white",
            "linecolor": "white",
            "ticks": ""
           }
          },
          "scene": {
           "xaxis": {
            "backgroundcolor": "#E5ECF6",
            "gridcolor": "white",
            "gridwidth": 2,
            "linecolor": "white",
            "showbackground": true,
            "ticks": "",
            "zerolinecolor": "white"
           },
           "yaxis": {
            "backgroundcolor": "#E5ECF6",
            "gridcolor": "white",
            "gridwidth": 2,
            "linecolor": "white",
            "showbackground": true,
            "ticks": "",
            "zerolinecolor": "white"
           },
           "zaxis": {
            "backgroundcolor": "#E5ECF6",
            "gridcolor": "white",
            "gridwidth": 2,
            "linecolor": "white",
            "showbackground": true,
            "ticks": "",
            "zerolinecolor": "white"
           }
          },
          "shapedefaults": {
           "line": {
            "color": "#2a3f5f"
           }
          },
          "ternary": {
           "aaxis": {
            "gridcolor": "white",
            "linecolor": "white",
            "ticks": ""
           },
           "baxis": {
            "gridcolor": "white",
            "linecolor": "white",
            "ticks": ""
           },
           "bgcolor": "#E5ECF6",
           "caxis": {
            "gridcolor": "white",
            "linecolor": "white",
            "ticks": ""
           }
          },
          "title": {
           "x": 0.05
          },
          "xaxis": {
           "automargin": true,
           "gridcolor": "white",
           "linecolor": "white",
           "ticks": "",
           "title": {
            "standoff": 15
           },
           "zerolinecolor": "white",
           "zerolinewidth": 2
          },
          "yaxis": {
           "automargin": true,
           "gridcolor": "white",
           "linecolor": "white",
           "ticks": "",
           "title": {
            "standoff": 15
           },
           "zerolinecolor": "white",
           "zerolinewidth": 2
          }
         }
        },
        "width": 500,
        "xaxis": {
         "anchor": "y",
         "domain": [
          0,
          1
         ],
         "title": {
          "text": "Gender"
         }
        },
        "yaxis": {
         "anchor": "x",
         "domain": [
          0,
          1
         ],
         "title": {
          "text": "count"
         }
        }
       }
      }
     },
     "metadata": {},
     "output_type": "display_data"
    }
   ],
   "source": [
    "df = px.data.tips()\n",
    "fig = px.histogram(employee_data, x=\"Gender\", #y=\"Attrition\",\n",
    "             color='Attrition', barmode='group',\n",
    "             height=400, width=500)\n",
    "fig.show()"
   ]
  },
  {
   "cell_type": "markdown",
   "id": "47f906b3",
   "metadata": {
    "papermill": {
     "duration": 0.020598,
     "end_time": "2022-07-28T14:15:11.738433",
     "exception": false,
     "start_time": "2022-07-28T14:15:11.717835",
     "status": "completed"
    },
    "tags": []
   },
   "source": [
    "**Clearly there are more males in the organisation than females, so attritions are higher but slightly. I don't think gender is too significant a factor behind attritions.**"
   ]
  },
  {
   "cell_type": "code",
   "execution_count": 88,
   "id": "a503dbce",
   "metadata": {},
   "outputs": [
    {
     "data": {
      "application/vnd.plotly.v1+json": {
       "config": {
        "plotlyServerURL": "https://plot.ly"
       },
       "data": [
        {
         "alignmentgroup": "True",
         "bingroup": "x",
         "hovertemplate": "Attrition=1<br>JobRole=%{x}<br>count=%{y}<extra></extra>",
         "legendgroup": "1",
         "marker": {
          "color": "#636efa",
          "pattern": {
           "shape": ""
          }
         },
         "name": "1",
         "offsetgroup": "1",
         "orientation": "v",
         "showlegend": true,
         "type": "histogram",
         "x": [
          "Sales Executive",
          "Laboratory Technician",
          "Laboratory Technician",
          "Sales Representative",
          "Research Scientist",
          "Research Scientist",
          "Sales Representative",
          "Research Scientist",
          "Sales Representative",
          "Laboratory Technician",
          "Research Director",
          "Laboratory Technician",
          "Laboratory Technician",
          "Research Scientist",
          "Sales Executive",
          "Human Resources",
          "Laboratory Technician",
          "Sales Executive",
          "Laboratory Technician",
          "Research Scientist",
          "Sales Executive",
          "Healthcare Representative",
          "Sales Representative",
          "Sales Executive",
          "Manufacturing Director",
          "Laboratory Technician",
          "Sales Representative",
          "Laboratory Technician",
          "Sales Representative",
          "Manufacturing Director",
          "Healthcare Representative",
          "Sales Executive",
          "Sales Executive",
          "Research Scientist",
          "Sales Executive",
          "Research Scientist",
          "Research Scientist",
          "Laboratory Technician",
          "Laboratory Technician",
          "Laboratory Technician",
          "Manufacturing Director",
          "Laboratory Technician",
          "Laboratory Technician",
          "Manager",
          "Laboratory Technician",
          "Laboratory Technician",
          "Sales Executive",
          "Laboratory Technician",
          "Research Scientist",
          "Research Scientist",
          "Sales Executive",
          "Laboratory Technician",
          "Sales Representative",
          "Sales Representative",
          "Sales Executive",
          "Sales Executive",
          "Sales Representative",
          "Sales Executive",
          "Research Scientist",
          "Research Scientist",
          "Laboratory Technician",
          "Sales Representative",
          "Sales Representative",
          "Research Scientist",
          "Human Resources",
          "Manager",
          "Laboratory Technician",
          "Healthcare Representative",
          "Human Resources",
          "Laboratory Technician",
          "Human Resources",
          "Sales Representative",
          "Laboratory Technician",
          "Sales Executive",
          "Laboratory Technician",
          "Sales Representative",
          "Sales Executive",
          "Sales Representative",
          "Sales Executive",
          "Research Scientist",
          "Research Scientist",
          "Sales Executive",
          "Sales Executive",
          "Research Scientist",
          "Research Scientist",
          "Research Scientist",
          "Sales Executive",
          "Manager",
          "Sales Executive",
          "Laboratory Technician",
          "Laboratory Technician",
          "Sales Executive",
          "Research Director",
          "Research Scientist",
          "Sales Executive",
          "Sales Executive",
          "Research Scientist",
          "Research Scientist",
          "Sales Representative",
          "Laboratory Technician",
          "Laboratory Technician",
          "Sales Representative",
          "Research Scientist",
          "Manufacturing Director",
          "Laboratory Technician",
          "Laboratory Technician",
          "Sales Representative",
          "Sales Representative",
          "Laboratory Technician",
          "Sales Executive",
          "Sales Executive",
          "Research Scientist",
          "Sales Executive",
          "Research Scientist",
          "Research Scientist",
          "Research Scientist",
          "Laboratory Technician",
          "Research Scientist",
          "Laboratory Technician",
          "Healthcare Representative",
          "Sales Executive",
          "Manager",
          "Laboratory Technician",
          "Laboratory Technician",
          "Research Scientist",
          "Sales Representative",
          "Laboratory Technician",
          "Research Scientist",
          "Healthcare Representative",
          "Human Resources",
          "Sales Executive",
          "Research Scientist",
          "Laboratory Technician",
          "Laboratory Technician",
          "Research Scientist",
          "Laboratory Technician",
          "Sales Executive",
          "Healthcare Representative",
          "Laboratory Technician",
          "Sales Executive",
          "Laboratory Technician",
          "Sales Executive",
          "Sales Executive",
          "Laboratory Technician",
          "Sales Executive",
          "Research Scientist",
          "Research Scientist",
          "Research Scientist",
          "Laboratory Technician",
          "Research Scientist",
          "Sales Representative",
          "Manager",
          "Laboratory Technician",
          "Healthcare Representative",
          "Laboratory Technician",
          "Laboratory Technician",
          "Research Scientist",
          "Sales Executive",
          "Sales Executive",
          "Sales Representative",
          "Laboratory Technician",
          "Manufacturing Director",
          "Sales Executive",
          "Sales Representative",
          "Sales Executive",
          "Manufacturing Director",
          "Research Scientist",
          "Laboratory Technician",
          "Healthcare Representative",
          "Sales Representative",
          "Research Scientist",
          "Sales Representative",
          "Sales Executive",
          "Laboratory Technician",
          "Manufacturing Director",
          "Laboratory Technician",
          "Human Resources",
          "Sales Representative",
          "Sales Executive",
          "Sales Executive",
          "Laboratory Technician",
          "Laboratory Technician",
          "Research Scientist",
          "Laboratory Technician",
          "Research Scientist",
          "Sales Executive",
          "Laboratory Technician",
          "Manufacturing Director",
          "Manufacturing Director",
          "Laboratory Technician",
          "Sales Representative",
          "Sales Executive",
          "Sales Executive",
          "Laboratory Technician",
          "Sales Executive",
          "Laboratory Technician",
          "Sales Representative",
          "Laboratory Technician",
          "Sales Representative",
          "Human Resources",
          "Sales Executive",
          "Sales Executive",
          "Sales Executive",
          "Human Resources",
          "Sales Representative",
          "Sales Executive",
          "Sales Executive",
          "Research Scientist",
          "Sales Representative",
          "Laboratory Technician",
          "Research Scientist",
          "Sales Executive",
          "Laboratory Technician",
          "Manufacturing Director",
          "Human Resources",
          "Healthcare Representative",
          "Human Resources",
          "Human Resources",
          "Sales Executive",
          "Research Scientist",
          "Sales Executive",
          "Sales Representative",
          "Research Scientist",
          "Research Scientist",
          "Laboratory Technician",
          "Sales Representative",
          "Sales Executive",
          "Research Scientist",
          "Human Resources",
          "Laboratory Technician",
          "Sales Executive",
          "Sales Executive",
          "Sales Representative",
          "Research Scientist",
          "Laboratory Technician",
          "Sales Executive",
          "Sales Executive"
         ],
         "xaxis": "x",
         "yaxis": "y"
        },
        {
         "alignmentgroup": "True",
         "bingroup": "x",
         "hovertemplate": "Attrition=0<br>JobRole=%{x}<br>count=%{y}<extra></extra>",
         "legendgroup": "0",
         "marker": {
          "color": "#EF553B",
          "pattern": {
           "shape": ""
          }
         },
         "name": "0",
         "offsetgroup": "0",
         "orientation": "v",
         "showlegend": true,
         "type": "histogram",
         "x": [
          "Research Scientist",
          "Research Scientist",
          "Laboratory Technician",
          "Laboratory Technician",
          "Laboratory Technician",
          "Laboratory Technician",
          "Manufacturing Director",
          "Healthcare Representative",
          "Laboratory Technician",
          "Laboratory Technician",
          "Research Scientist",
          "Laboratory Technician",
          "Manufacturing Director",
          "Research Scientist",
          "Laboratory Technician",
          "Manager",
          "Research Scientist",
          "Manufacturing Director",
          "Research Director",
          "Research Scientist",
          "Manager",
          "Sales Executive",
          "Healthcare Representative",
          "Manager",
          "Laboratory Technician",
          "Healthcare Representative",
          "Laboratory Technician",
          "Research Scientist",
          "Sales Representative",
          "Research Scientist",
          "Sales Executive",
          "Laboratory Technician",
          "Laboratory Technician",
          "Sales Executive",
          "Laboratory Technician",
          "Sales Executive",
          "Research Scientist",
          "Sales Executive",
          "Laboratory Technician",
          "Sales Executive",
          "Healthcare Representative",
          "Sales Executive",
          "Research Director",
          "Sales Executive",
          "Laboratory Technician",
          "Laboratory Technician",
          "Manufacturing Director",
          "Manufacturing Director",
          "Laboratory Technician",
          "Research Director",
          "Sales Executive",
          "Healthcare Representative",
          "Manager",
          "Manufacturing Director",
          "Research Scientist",
          "Research Scientist",
          "Sales Executive",
          "Research Scientist",
          "Research Scientist",
          "Research Scientist",
          "Laboratory Technician",
          "Manufacturing Director",
          "Sales Executive",
          "Research Director",
          "Research Director",
          "Human Resources",
          "Laboratory Technician",
          "Research Scientist",
          "Sales Executive",
          "Research Scientist",
          "Manufacturing Director",
          "Manufacturing Director",
          "Sales Representative",
          "Laboratory Technician",
          "Healthcare Representative",
          "Healthcare Representative",
          "Sales Executive",
          "Sales Executive",
          "Healthcare Representative",
          "Sales Executive",
          "Research Director",
          "Sales Executive",
          "Sales Executive",
          "Sales Executive",
          "Laboratory Technician",
          "Research Scientist",
          "Research Scientist",
          "Healthcare Representative",
          "Manager",
          "Research Director",
          "Research Scientist",
          "Laboratory Technician",
          "Healthcare Representative",
          "Manager",
          "Laboratory Technician",
          "Research Scientist",
          "Sales Executive",
          "Manager",
          "Sales Executive",
          "Laboratory Technician",
          "Manager",
          "Research Scientist",
          "Sales Executive",
          "Research Director",
          "Research Scientist",
          "Laboratory Technician",
          "Manufacturing Director",
          "Research Scientist",
          "Sales Executive",
          "Sales Executive",
          "Human Resources",
          "Manufacturing Director",
          "Sales Executive",
          "Sales Executive",
          "Human Resources",
          "Research Scientist",
          "Research Scientist",
          "Research Scientist",
          "Sales Executive",
          "Research Scientist",
          "Laboratory Technician",
          "Manager",
          "Laboratory Technician",
          "Laboratory Technician",
          "Research Scientist",
          "Sales Executive",
          "Sales Representative",
          "Laboratory Technician",
          "Sales Executive",
          "Manufacturing Director",
          "Manufacturing Director",
          "Research Scientist",
          "Sales Executive",
          "Sales Representative",
          "Research Scientist",
          "Research Scientist",
          "Research Scientist",
          "Healthcare Representative",
          "Research Scientist",
          "Manager",
          "Research Scientist",
          "Sales Executive",
          "Sales Executive",
          "Research Scientist",
          "Research Scientist",
          "Laboratory Technician",
          "Laboratory Technician",
          "Sales Executive",
          "Research Scientist",
          "Research Scientist",
          "Sales Executive",
          "Laboratory Technician",
          "Research Scientist",
          "Research Scientist",
          "Laboratory Technician",
          "Manufacturing Director",
          "Research Scientist",
          "Manager",
          "Research Director",
          "Manufacturing Director",
          "Healthcare Representative",
          "Manager",
          "Research Scientist",
          "Research Scientist",
          "Manager",
          "Research Scientist",
          "Laboratory Technician",
          "Manufacturing Director",
          "Manufacturing Director",
          "Manufacturing Director",
          "Manufacturing Director",
          "Manufacturing Director",
          "Research Scientist",
          "Laboratory Technician",
          "Research Scientist",
          "Laboratory Technician",
          "Healthcare Representative",
          "Healthcare Representative",
          "Manufacturing Director",
          "Sales Executive",
          "Research Director",
          "Manager",
          "Sales Executive",
          "Sales Executive",
          "Laboratory Technician",
          "Research Scientist",
          "Research Director",
          "Sales Executive",
          "Manufacturing Director",
          "Research Scientist",
          "Sales Representative",
          "Sales Executive",
          "Sales Executive",
          "Laboratory Technician",
          "Manager",
          "Human Resources",
          "Manager",
          "Manager",
          "Manager",
          "Sales Representative",
          "Laboratory Technician",
          "Sales Executive",
          "Research Scientist",
          "Research Scientist",
          "Manager",
          "Research Director",
          "Research Scientist",
          "Manufacturing Director",
          "Research Scientist",
          "Manufacturing Director",
          "Healthcare Representative",
          "Research Scientist",
          "Research Scientist",
          "Sales Executive",
          "Manufacturing Director",
          "Laboratory Technician",
          "Research Director",
          "Research Scientist",
          "Laboratory Technician",
          "Sales Executive",
          "Laboratory Technician",
          "Manager",
          "Sales Executive",
          "Healthcare Representative",
          "Healthcare Representative",
          "Healthcare Representative",
          "Laboratory Technician",
          "Manager",
          "Research Scientist",
          "Sales Executive",
          "Research Scientist",
          "Research Director",
          "Manager",
          "Sales Executive",
          "Manufacturing Director",
          "Research Director",
          "Research Director",
          "Sales Executive",
          "Sales Executive",
          "Laboratory Technician",
          "Healthcare Representative",
          "Research Scientist",
          "Healthcare Representative",
          "Research Scientist",
          "Research Director",
          "Research Scientist",
          "Sales Representative",
          "Research Scientist",
          "Sales Executive",
          "Sales Executive",
          "Laboratory Technician",
          "Manufacturing Director",
          "Manager",
          "Sales Representative",
          "Healthcare Representative",
          "Sales Executive",
          "Healthcare Representative",
          "Laboratory Technician",
          "Sales Executive",
          "Research Director",
          "Healthcare Representative",
          "Research Scientist",
          "Human Resources",
          "Laboratory Technician",
          "Research Scientist",
          "Manager",
          "Manager",
          "Laboratory Technician",
          "Healthcare Representative",
          "Research Scientist",
          "Sales Executive",
          "Sales Executive",
          "Sales Executive",
          "Research Scientist",
          "Research Scientist",
          "Manufacturing Director",
          "Manager",
          "Sales Executive",
          "Research Director",
          "Laboratory Technician",
          "Sales Executive",
          "Research Scientist",
          "Healthcare Representative",
          "Research Scientist",
          "Sales Executive",
          "Laboratory Technician",
          "Sales Executive",
          "Sales Executive",
          "Manufacturing Director",
          "Research Director",
          "Manufacturing Director",
          "Sales Executive",
          "Manufacturing Director",
          "Research Scientist",
          "Manufacturing Director",
          "Sales Representative",
          "Research Director",
          "Sales Executive",
          "Human Resources",
          "Laboratory Technician",
          "Manager",
          "Research Scientist",
          "Sales Executive",
          "Sales Executive",
          "Healthcare Representative",
          "Sales Executive",
          "Sales Executive",
          "Healthcare Representative",
          "Laboratory Technician",
          "Sales Representative",
          "Laboratory Technician",
          "Manufacturing Director",
          "Healthcare Representative",
          "Research Scientist",
          "Research Scientist",
          "Healthcare Representative",
          "Laboratory Technician",
          "Sales Executive",
          "Healthcare Representative",
          "Sales Executive",
          "Research Scientist",
          "Manager",
          "Sales Executive",
          "Sales Representative",
          "Research Scientist",
          "Sales Executive",
          "Laboratory Technician",
          "Sales Executive",
          "Laboratory Technician",
          "Manufacturing Director",
          "Research Director",
          "Laboratory Technician",
          "Research Director",
          "Sales Executive",
          "Manufacturing Director",
          "Laboratory Technician",
          "Healthcare Representative",
          "Sales Executive",
          "Research Scientist",
          "Laboratory Technician",
          "Manager",
          "Sales Executive",
          "Sales Executive",
          "Sales Executive",
          "Laboratory Technician",
          "Manufacturing Director",
          "Research Scientist",
          "Manager",
          "Research Scientist",
          "Manufacturing Director",
          "Manager",
          "Manufacturing Director",
          "Healthcare Representative",
          "Laboratory Technician",
          "Manager",
          "Research Scientist",
          "Laboratory Technician",
          "Research Director",
          "Sales Executive",
          "Manager",
          "Manager",
          "Laboratory Technician",
          "Sales Executive",
          "Manufacturing Director",
          "Research Director",
          "Laboratory Technician",
          "Laboratory Technician",
          "Research Scientist",
          "Sales Executive",
          "Manufacturing Director",
          "Sales Representative",
          "Healthcare Representative",
          "Laboratory Technician",
          "Sales Executive",
          "Sales Executive",
          "Manager",
          "Sales Executive",
          "Sales Executive",
          "Manufacturing Director",
          "Laboratory Technician",
          "Sales Executive",
          "Manufacturing Director",
          "Sales Executive",
          "Manufacturing Director",
          "Research Director",
          "Manager",
          "Sales Executive",
          "Healthcare Representative",
          "Sales Executive",
          "Sales Executive",
          "Sales Executive",
          "Manufacturing Director",
          "Healthcare Representative",
          "Manager",
          "Sales Executive",
          "Research Scientist",
          "Sales Representative",
          "Healthcare Representative",
          "Manufacturing Director",
          "Research Director",
          "Research Scientist",
          "Sales Executive",
          "Laboratory Technician",
          "Manager",
          "Sales Representative",
          "Research Scientist",
          "Laboratory Technician",
          "Sales Executive",
          "Research Scientist",
          "Sales Executive",
          "Research Scientist",
          "Healthcare Representative",
          "Research Director",
          "Research Scientist",
          "Laboratory Technician",
          "Manager",
          "Human Resources",
          "Sales Representative",
          "Sales Representative",
          "Manager",
          "Research Scientist",
          "Sales Executive",
          "Research Scientist",
          "Research Scientist",
          "Sales Executive",
          "Research Scientist",
          "Laboratory Technician",
          "Manufacturing Director",
          "Sales Executive",
          "Research Scientist",
          "Healthcare Representative",
          "Human Resources",
          "Manufacturing Director",
          "Research Scientist",
          "Laboratory Technician",
          "Research Scientist",
          "Sales Executive",
          "Sales Executive",
          "Research Scientist",
          "Sales Executive",
          "Sales Executive",
          "Research Scientist",
          "Laboratory Technician",
          "Healthcare Representative",
          "Healthcare Representative",
          "Sales Executive",
          "Healthcare Representative",
          "Manufacturing Director",
          "Research Director",
          "Sales Executive",
          "Sales Executive",
          "Research Director",
          "Manager",
          "Sales Executive",
          "Manufacturing Director",
          "Manager",
          "Sales Representative",
          "Research Director",
          "Manufacturing Director",
          "Laboratory Technician",
          "Sales Executive",
          "Sales Executive",
          "Sales Representative",
          "Sales Executive",
          "Healthcare Representative",
          "Laboratory Technician",
          "Human Resources",
          "Healthcare Representative",
          "Research Scientist",
          "Healthcare Representative",
          "Sales Representative",
          "Laboratory Technician",
          "Healthcare Representative",
          "Laboratory Technician",
          "Research Scientist",
          "Manufacturing Director",
          "Manager",
          "Sales Executive",
          "Sales Representative",
          "Research Scientist",
          "Sales Executive",
          "Sales Executive",
          "Research Scientist",
          "Laboratory Technician",
          "Healthcare Representative",
          "Research Scientist",
          "Manufacturing Director",
          "Sales Executive",
          "Research Scientist",
          "Manufacturing Director",
          "Research Scientist",
          "Sales Representative",
          "Laboratory Technician",
          "Healthcare Representative",
          "Sales Executive",
          "Manager",
          "Laboratory Technician",
          "Laboratory Technician",
          "Research Director",
          "Research Director",
          "Manager",
          "Manufacturing Director",
          "Research Scientist",
          "Research Scientist",
          "Manufacturing Director",
          "Human Resources",
          "Manufacturing Director",
          "Laboratory Technician",
          "Manufacturing Director",
          "Research Scientist",
          "Manufacturing Director",
          "Healthcare Representative",
          "Research Scientist",
          "Research Director",
          "Research Director",
          "Manufacturing Director",
          "Sales Executive",
          "Human Resources",
          "Research Scientist",
          "Manager",
          "Healthcare Representative",
          "Research Scientist",
          "Sales Executive",
          "Research Scientist",
          "Sales Executive",
          "Sales Executive",
          "Research Scientist",
          "Sales Executive",
          "Sales Executive",
          "Research Scientist",
          "Manufacturing Director",
          "Sales Executive",
          "Human Resources",
          "Manufacturing Director",
          "Laboratory Technician",
          "Research Scientist",
          "Human Resources",
          "Sales Executive",
          "Manufacturing Director",
          "Laboratory Technician",
          "Sales Executive",
          "Research Scientist",
          "Laboratory Technician",
          "Sales Executive",
          "Sales Representative",
          "Laboratory Technician",
          "Research Scientist",
          "Sales Executive",
          "Manufacturing Director",
          "Sales Representative",
          "Research Director",
          "Healthcare Representative",
          "Sales Executive",
          "Sales Executive",
          "Manager",
          "Human Resources",
          "Human Resources",
          "Laboratory Technician",
          "Research Scientist",
          "Sales Executive",
          "Manufacturing Director",
          "Healthcare Representative",
          "Sales Representative",
          "Research Scientist",
          "Research Scientist",
          "Laboratory Technician",
          "Sales Executive",
          "Research Scientist",
          "Healthcare Representative",
          "Sales Representative",
          "Healthcare Representative",
          "Laboratory Technician",
          "Research Scientist",
          "Sales Executive",
          "Research Scientist",
          "Research Director",
          "Laboratory Technician",
          "Sales Executive",
          "Sales Executive",
          "Laboratory Technician",
          "Laboratory Technician",
          "Healthcare Representative",
          "Research Scientist",
          "Manufacturing Director",
          "Healthcare Representative",
          "Laboratory Technician",
          "Sales Representative",
          "Sales Executive",
          "Manager",
          "Manager",
          "Sales Executive",
          "Sales Executive",
          "Sales Executive",
          "Sales Executive",
          "Manufacturing Director",
          "Sales Executive",
          "Manager",
          "Research Scientist",
          "Laboratory Technician",
          "Research Director",
          "Healthcare Representative",
          "Research Director",
          "Laboratory Technician",
          "Laboratory Technician",
          "Sales Executive",
          "Manufacturing Director",
          "Research Scientist",
          "Manufacturing Director",
          "Manufacturing Director",
          "Manufacturing Director",
          "Research Scientist",
          "Manufacturing Director",
          "Healthcare Representative",
          "Research Director",
          "Manufacturing Director",
          "Laboratory Technician",
          "Healthcare Representative",
          "Healthcare Representative",
          "Manufacturing Director",
          "Manufacturing Director",
          "Manufacturing Director",
          "Laboratory Technician",
          "Manager",
          "Laboratory Technician",
          "Manufacturing Director",
          "Healthcare Representative",
          "Research Director",
          "Sales Executive",
          "Sales Executive",
          "Sales Executive",
          "Manufacturing Director",
          "Sales Representative",
          "Manager",
          "Laboratory Technician",
          "Sales Executive",
          "Manager",
          "Human Resources",
          "Sales Executive",
          "Sales Representative",
          "Sales Representative",
          "Research Scientist",
          "Research Director",
          "Healthcare Representative",
          "Sales Executive",
          "Research Scientist",
          "Research Director",
          "Sales Executive",
          "Research Scientist",
          "Manufacturing Director",
          "Manager",
          "Sales Executive",
          "Research Scientist",
          "Laboratory Technician",
          "Manufacturing Director",
          "Research Scientist",
          "Healthcare Representative",
          "Healthcare Representative",
          "Laboratory Technician",
          "Manufacturing Director",
          "Research Scientist",
          "Healthcare Representative",
          "Laboratory Technician",
          "Healthcare Representative",
          "Sales Executive",
          "Manager",
          "Sales Executive",
          "Research Scientist",
          "Manager",
          "Sales Executive",
          "Healthcare Representative",
          "Sales Executive",
          "Research Scientist",
          "Manufacturing Director",
          "Manager",
          "Sales Executive",
          "Manufacturing Director",
          "Research Director",
          "Research Scientist",
          "Laboratory Technician",
          "Manufacturing Director",
          "Sales Representative",
          "Research Scientist",
          "Sales Executive",
          "Sales Executive",
          "Manufacturing Director",
          "Research Scientist",
          "Laboratory Technician",
          "Manufacturing Director",
          "Human Resources",
          "Research Scientist",
          "Laboratory Technician",
          "Healthcare Representative",
          "Research Scientist",
          "Sales Executive",
          "Human Resources",
          "Research Director",
          "Sales Executive",
          "Laboratory Technician",
          "Laboratory Technician",
          "Laboratory Technician",
          "Sales Executive",
          "Research Scientist",
          "Manufacturing Director",
          "Healthcare Representative",
          "Laboratory Technician",
          "Sales Representative",
          "Manager",
          "Laboratory Technician",
          "Research Scientist",
          "Research Scientist",
          "Manufacturing Director",
          "Laboratory Technician",
          "Manager",
          "Research Scientist",
          "Manager",
          "Research Scientist",
          "Human Resources",
          "Sales Executive",
          "Sales Executive",
          "Manager",
          "Laboratory Technician",
          "Research Director",
          "Sales Executive",
          "Sales Executive",
          "Laboratory Technician",
          "Laboratory Technician",
          "Research Scientist",
          "Sales Representative",
          "Manufacturing Director",
          "Human Resources",
          "Sales Executive",
          "Laboratory Technician",
          "Research Scientist",
          "Manufacturing Director",
          "Research Scientist",
          "Sales Executive",
          "Sales Executive",
          "Research Scientist",
          "Research Director",
          "Sales Executive",
          "Research Scientist",
          "Manufacturing Director",
          "Research Scientist",
          "Research Scientist",
          "Research Director",
          "Healthcare Representative",
          "Healthcare Representative",
          "Sales Executive",
          "Research Director",
          "Manager",
          "Research Scientist",
          "Laboratory Technician",
          "Research Scientist",
          "Healthcare Representative",
          "Research Director",
          "Research Director",
          "Research Scientist",
          "Manager",
          "Sales Executive",
          "Research Scientist",
          "Research Scientist",
          "Research Scientist",
          "Healthcare Representative",
          "Manager",
          "Sales Executive",
          "Manager",
          "Manufacturing Director",
          "Laboratory Technician",
          "Laboratory Technician",
          "Manager",
          "Human Resources",
          "Research Scientist",
          "Research Scientist",
          "Sales Executive",
          "Manufacturing Director",
          "Laboratory Technician",
          "Laboratory Technician",
          "Manufacturing Director",
          "Research Scientist",
          "Research Scientist",
          "Sales Executive",
          "Manager",
          "Manager",
          "Research Scientist",
          "Laboratory Technician",
          "Healthcare Representative",
          "Human Resources",
          "Laboratory Technician",
          "Research Director",
          "Manager",
          "Manufacturing Director",
          "Sales Executive",
          "Sales Executive",
          "Manager",
          "Manager",
          "Manager",
          "Research Scientist",
          "Healthcare Representative",
          "Research Scientist",
          "Sales Executive",
          "Research Scientist",
          "Manager",
          "Sales Executive",
          "Sales Executive",
          "Laboratory Technician",
          "Laboratory Technician",
          "Sales Executive",
          "Manufacturing Director",
          "Sales Representative",
          "Manufacturing Director",
          "Laboratory Technician",
          "Laboratory Technician",
          "Sales Executive",
          "Manufacturing Director",
          "Research Scientist",
          "Healthcare Representative",
          "Laboratory Technician",
          "Research Scientist",
          "Healthcare Representative",
          "Sales Executive",
          "Sales Executive",
          "Sales Executive",
          "Research Scientist",
          "Research Scientist",
          "Sales Executive",
          "Sales Executive",
          "Healthcare Representative",
          "Sales Executive",
          "Manufacturing Director",
          "Research Scientist",
          "Sales Executive",
          "Research Scientist",
          "Manager",
          "Laboratory Technician",
          "Laboratory Technician",
          "Manufacturing Director",
          "Laboratory Technician",
          "Laboratory Technician",
          "Human Resources",
          "Research Director",
          "Research Director",
          "Research Director",
          "Sales Executive",
          "Sales Executive",
          "Research Director",
          "Research Scientist",
          "Laboratory Technician",
          "Laboratory Technician",
          "Sales Executive",
          "Research Scientist",
          "Laboratory Technician",
          "Research Scientist",
          "Research Director",
          "Sales Executive",
          "Sales Executive",
          "Laboratory Technician",
          "Research Scientist",
          "Laboratory Technician",
          "Sales Executive",
          "Healthcare Representative",
          "Human Resources",
          "Manufacturing Director",
          "Sales Executive",
          "Research Director",
          "Sales Executive",
          "Laboratory Technician",
          "Research Director",
          "Healthcare Representative",
          "Research Scientist",
          "Research Scientist",
          "Sales Executive",
          "Sales Executive",
          "Sales Executive",
          "Laboratory Technician",
          "Sales Executive",
          "Research Scientist",
          "Research Scientist",
          "Healthcare Representative",
          "Research Director",
          "Sales Representative",
          "Sales Representative",
          "Manufacturing Director",
          "Sales Executive",
          "Human Resources",
          "Healthcare Representative",
          "Laboratory Technician",
          "Sales Executive",
          "Research Scientist",
          "Sales Executive",
          "Laboratory Technician",
          "Laboratory Technician",
          "Manufacturing Director",
          "Healthcare Representative",
          "Manager",
          "Manager",
          "Research Director",
          "Manufacturing Director",
          "Manager",
          "Healthcare Representative",
          "Laboratory Technician",
          "Sales Executive",
          "Research Director",
          "Sales Representative",
          "Laboratory Technician",
          "Research Scientist",
          "Healthcare Representative",
          "Manufacturing Director",
          "Research Scientist",
          "Healthcare Representative",
          "Sales Executive",
          "Laboratory Technician",
          "Manager",
          "Laboratory Technician",
          "Healthcare Representative",
          "Healthcare Representative",
          "Sales Representative",
          "Research Scientist",
          "Sales Representative",
          "Sales Executive",
          "Research Scientist",
          "Sales Executive",
          "Human Resources",
          "Laboratory Technician",
          "Sales Executive",
          "Research Scientist",
          "Research Scientist",
          "Research Scientist",
          "Manager",
          "Research Scientist",
          "Research Scientist",
          "Sales Executive",
          "Sales Executive",
          "Sales Executive",
          "Laboratory Technician",
          "Healthcare Representative",
          "Sales Executive",
          "Healthcare Representative",
          "Manager",
          "Research Scientist",
          "Laboratory Technician",
          "Manager",
          "Laboratory Technician",
          "Healthcare Representative",
          "Sales Executive",
          "Laboratory Technician",
          "Laboratory Technician",
          "Manager",
          "Research Scientist",
          "Healthcare Representative",
          "Research Scientist",
          "Research Director",
          "Research Scientist",
          "Laboratory Technician",
          "Sales Executive",
          "Sales Executive",
          "Manufacturing Director",
          "Manufacturing Director",
          "Laboratory Technician",
          "Manufacturing Director",
          "Laboratory Technician",
          "Research Scientist",
          "Manufacturing Director",
          "Research Scientist",
          "Manager",
          "Laboratory Technician",
          "Manufacturing Director",
          "Healthcare Representative",
          "Manufacturing Director",
          "Manufacturing Director",
          "Manufacturing Director",
          "Manufacturing Director",
          "Research Scientist",
          "Manufacturing Director",
          "Human Resources",
          "Manager",
          "Research Scientist",
          "Research Scientist",
          "Research Scientist",
          "Sales Executive",
          "Healthcare Representative",
          "Manufacturing Director",
          "Manufacturing Director",
          "Research Director",
          "Research Director",
          "Sales Representative",
          "Research Scientist",
          "Laboratory Technician",
          "Healthcare Representative",
          "Manufacturing Director",
          "Healthcare Representative",
          "Manager",
          "Research Director",
          "Research Scientist",
          "Sales Executive",
          "Sales Executive",
          "Research Scientist",
          "Sales Executive",
          "Laboratory Technician",
          "Laboratory Technician",
          "Manager",
          "Manager",
          "Sales Executive",
          "Sales Representative",
          "Sales Executive",
          "Healthcare Representative",
          "Human Resources",
          "Laboratory Technician",
          "Healthcare Representative",
          "Laboratory Technician",
          "Research Scientist",
          "Laboratory Technician",
          "Healthcare Representative",
          "Laboratory Technician",
          "Sales Executive",
          "Research Scientist",
          "Healthcare Representative",
          "Research Scientist",
          "Sales Executive",
          "Research Scientist",
          "Sales Executive",
          "Laboratory Technician",
          "Sales Representative",
          "Healthcare Representative",
          "Laboratory Technician",
          "Research Director",
          "Research Scientist",
          "Laboratory Technician",
          "Human Resources",
          "Manufacturing Director",
          "Laboratory Technician",
          "Healthcare Representative",
          "Manufacturing Director",
          "Research Scientist",
          "Sales Executive",
          "Sales Executive",
          "Laboratory Technician",
          "Manufacturing Director",
          "Laboratory Technician",
          "Sales Executive",
          "Manager",
          "Human Resources",
          "Research Scientist",
          "Human Resources",
          "Sales Executive",
          "Research Scientist",
          "Healthcare Representative",
          "Sales Executive",
          "Research Scientist",
          "Sales Executive",
          "Sales Executive",
          "Laboratory Technician",
          "Research Scientist",
          "Healthcare Representative",
          "Research Scientist",
          "Healthcare Representative",
          "Laboratory Technician",
          "Research Director",
          "Research Scientist",
          "Laboratory Technician",
          "Sales Executive",
          "Manufacturing Director",
          "Human Resources",
          "Sales Executive",
          "Laboratory Technician",
          "Sales Executive",
          "Manager",
          "Sales Executive",
          "Research Director",
          "Healthcare Representative",
          "Human Resources",
          "Research Scientist",
          "Research Scientist",
          "Research Director",
          "Sales Executive",
          "Laboratory Technician",
          "Healthcare Representative",
          "Manufacturing Director",
          "Human Resources",
          "Sales Executive",
          "Research Scientist",
          "Healthcare Representative",
          "Sales Executive",
          "Manufacturing Director",
          "Healthcare Representative",
          "Sales Executive",
          "Manager",
          "Laboratory Technician",
          "Manufacturing Director",
          "Healthcare Representative",
          "Research Scientist",
          "Sales Executive",
          "Research Scientist",
          "Sales Representative",
          "Sales Executive",
          "Research Director",
          "Research Scientist",
          "Sales Executive",
          "Research Scientist",
          "Sales Executive",
          "Laboratory Technician",
          "Laboratory Technician",
          "Sales Executive",
          "Research Scientist",
          "Laboratory Technician",
          "Manufacturing Director",
          "Human Resources",
          "Healthcare Representative",
          "Laboratory Technician",
          "Sales Executive",
          "Sales Representative",
          "Human Resources",
          "Manager",
          "Research Director",
          "Research Scientist",
          "Research Scientist",
          "Research Scientist",
          "Sales Representative",
          "Sales Executive",
          "Laboratory Technician",
          "Sales Executive",
          "Laboratory Technician",
          "Research Scientist",
          "Manufacturing Director",
          "Manufacturing Director",
          "Human Resources",
          "Manager",
          "Research Scientist",
          "Sales Executive",
          "Manager",
          "Healthcare Representative",
          "Sales Executive",
          "Sales Executive",
          "Research Director",
          "Sales Executive",
          "Sales Executive",
          "Laboratory Technician",
          "Laboratory Technician",
          "Healthcare Representative",
          "Sales Executive",
          "Sales Executive",
          "Sales Executive",
          "Research Scientist",
          "Research Scientist",
          "Research Scientist",
          "Sales Executive",
          "Manufacturing Director",
          "Research Scientist",
          "Manager",
          "Research Scientist",
          "Research Director",
          "Sales Executive",
          "Sales Executive",
          "Research Scientist",
          "Research Scientist",
          "Laboratory Technician",
          "Sales Executive",
          "Sales Executive",
          "Laboratory Technician",
          "Healthcare Representative",
          "Healthcare Representative",
          "Research Scientist",
          "Sales Representative",
          "Sales Executive",
          "Sales Executive",
          "Manufacturing Director",
          "Research Scientist",
          "Healthcare Representative",
          "Healthcare Representative",
          "Human Resources",
          "Manager",
          "Laboratory Technician",
          "Sales Executive",
          "Research Scientist",
          "Research Director",
          "Manufacturing Director",
          "Healthcare Representative",
          "Laboratory Technician",
          "Laboratory Technician",
          "Sales Executive",
          "Human Resources",
          "Laboratory Technician",
          "Laboratory Technician",
          "Healthcare Representative",
          "Laboratory Technician",
          "Sales Executive",
          "Sales Representative",
          "Manufacturing Director",
          "Research Scientist",
          "Research Scientist",
          "Research Director",
          "Laboratory Technician",
          "Research Scientist",
          "Research Scientist",
          "Healthcare Representative",
          "Laboratory Technician",
          "Laboratory Technician",
          "Sales Representative",
          "Research Scientist",
          "Research Director",
          "Sales Executive",
          "Research Director",
          "Sales Executive",
          "Sales Representative",
          "Research Scientist",
          "Sales Representative",
          "Manager",
          "Sales Executive",
          "Manufacturing Director",
          "Healthcare Representative",
          "Manager",
          "Manufacturing Director",
          "Sales Executive",
          "Sales Executive",
          "Sales Executive",
          "Research Scientist",
          "Human Resources",
          "Sales Executive",
          "Sales Executive",
          "Sales Executive",
          "Research Scientist",
          "Healthcare Representative",
          "Research Scientist",
          "Research Scientist",
          "Laboratory Technician",
          "Research Scientist",
          "Sales Executive",
          "Manufacturing Director",
          "Sales Representative",
          "Laboratory Technician",
          "Healthcare Representative",
          "Manufacturing Director",
          "Sales Executive",
          "Laboratory Technician"
         ],
         "xaxis": "x",
         "yaxis": "y"
        }
       ],
       "layout": {
        "barmode": "group",
        "height": 400,
        "legend": {
         "title": {
          "text": "Attrition"
         },
         "tracegroupgap": 0
        },
        "margin": {
         "t": 60
        },
        "template": {
         "data": {
          "bar": [
           {
            "error_x": {
             "color": "#2a3f5f"
            },
            "error_y": {
             "color": "#2a3f5f"
            },
            "marker": {
             "line": {
              "color": "#E5ECF6",
              "width": 0.5
             },
             "pattern": {
              "fillmode": "overlay",
              "size": 10,
              "solidity": 0.2
             }
            },
            "type": "bar"
           }
          ],
          "barpolar": [
           {
            "marker": {
             "line": {
              "color": "#E5ECF6",
              "width": 0.5
             },
             "pattern": {
              "fillmode": "overlay",
              "size": 10,
              "solidity": 0.2
             }
            },
            "type": "barpolar"
           }
          ],
          "carpet": [
           {
            "aaxis": {
             "endlinecolor": "#2a3f5f",
             "gridcolor": "white",
             "linecolor": "white",
             "minorgridcolor": "white",
             "startlinecolor": "#2a3f5f"
            },
            "baxis": {
             "endlinecolor": "#2a3f5f",
             "gridcolor": "white",
             "linecolor": "white",
             "minorgridcolor": "white",
             "startlinecolor": "#2a3f5f"
            },
            "type": "carpet"
           }
          ],
          "choropleth": [
           {
            "colorbar": {
             "outlinewidth": 0,
             "ticks": ""
            },
            "type": "choropleth"
           }
          ],
          "contour": [
           {
            "colorbar": {
             "outlinewidth": 0,
             "ticks": ""
            },
            "colorscale": [
             [
              0,
              "#0d0887"
             ],
             [
              0.1111111111111111,
              "#46039f"
             ],
             [
              0.2222222222222222,
              "#7201a8"
             ],
             [
              0.3333333333333333,
              "#9c179e"
             ],
             [
              0.4444444444444444,
              "#bd3786"
             ],
             [
              0.5555555555555556,
              "#d8576b"
             ],
             [
              0.6666666666666666,
              "#ed7953"
             ],
             [
              0.7777777777777778,
              "#fb9f3a"
             ],
             [
              0.8888888888888888,
              "#fdca26"
             ],
             [
              1,
              "#f0f921"
             ]
            ],
            "type": "contour"
           }
          ],
          "contourcarpet": [
           {
            "colorbar": {
             "outlinewidth": 0,
             "ticks": ""
            },
            "type": "contourcarpet"
           }
          ],
          "heatmap": [
           {
            "colorbar": {
             "outlinewidth": 0,
             "ticks": ""
            },
            "colorscale": [
             [
              0,
              "#0d0887"
             ],
             [
              0.1111111111111111,
              "#46039f"
             ],
             [
              0.2222222222222222,
              "#7201a8"
             ],
             [
              0.3333333333333333,
              "#9c179e"
             ],
             [
              0.4444444444444444,
              "#bd3786"
             ],
             [
              0.5555555555555556,
              "#d8576b"
             ],
             [
              0.6666666666666666,
              "#ed7953"
             ],
             [
              0.7777777777777778,
              "#fb9f3a"
             ],
             [
              0.8888888888888888,
              "#fdca26"
             ],
             [
              1,
              "#f0f921"
             ]
            ],
            "type": "heatmap"
           }
          ],
          "heatmapgl": [
           {
            "colorbar": {
             "outlinewidth": 0,
             "ticks": ""
            },
            "colorscale": [
             [
              0,
              "#0d0887"
             ],
             [
              0.1111111111111111,
              "#46039f"
             ],
             [
              0.2222222222222222,
              "#7201a8"
             ],
             [
              0.3333333333333333,
              "#9c179e"
             ],
             [
              0.4444444444444444,
              "#bd3786"
             ],
             [
              0.5555555555555556,
              "#d8576b"
             ],
             [
              0.6666666666666666,
              "#ed7953"
             ],
             [
              0.7777777777777778,
              "#fb9f3a"
             ],
             [
              0.8888888888888888,
              "#fdca26"
             ],
             [
              1,
              "#f0f921"
             ]
            ],
            "type": "heatmapgl"
           }
          ],
          "histogram": [
           {
            "marker": {
             "pattern": {
              "fillmode": "overlay",
              "size": 10,
              "solidity": 0.2
             }
            },
            "type": "histogram"
           }
          ],
          "histogram2d": [
           {
            "colorbar": {
             "outlinewidth": 0,
             "ticks": ""
            },
            "colorscale": [
             [
              0,
              "#0d0887"
             ],
             [
              0.1111111111111111,
              "#46039f"
             ],
             [
              0.2222222222222222,
              "#7201a8"
             ],
             [
              0.3333333333333333,
              "#9c179e"
             ],
             [
              0.4444444444444444,
              "#bd3786"
             ],
             [
              0.5555555555555556,
              "#d8576b"
             ],
             [
              0.6666666666666666,
              "#ed7953"
             ],
             [
              0.7777777777777778,
              "#fb9f3a"
             ],
             [
              0.8888888888888888,
              "#fdca26"
             ],
             [
              1,
              "#f0f921"
             ]
            ],
            "type": "histogram2d"
           }
          ],
          "histogram2dcontour": [
           {
            "colorbar": {
             "outlinewidth": 0,
             "ticks": ""
            },
            "colorscale": [
             [
              0,
              "#0d0887"
             ],
             [
              0.1111111111111111,
              "#46039f"
             ],
             [
              0.2222222222222222,
              "#7201a8"
             ],
             [
              0.3333333333333333,
              "#9c179e"
             ],
             [
              0.4444444444444444,
              "#bd3786"
             ],
             [
              0.5555555555555556,
              "#d8576b"
             ],
             [
              0.6666666666666666,
              "#ed7953"
             ],
             [
              0.7777777777777778,
              "#fb9f3a"
             ],
             [
              0.8888888888888888,
              "#fdca26"
             ],
             [
              1,
              "#f0f921"
             ]
            ],
            "type": "histogram2dcontour"
           }
          ],
          "mesh3d": [
           {
            "colorbar": {
             "outlinewidth": 0,
             "ticks": ""
            },
            "type": "mesh3d"
           }
          ],
          "parcoords": [
           {
            "line": {
             "colorbar": {
              "outlinewidth": 0,
              "ticks": ""
             }
            },
            "type": "parcoords"
           }
          ],
          "pie": [
           {
            "automargin": true,
            "type": "pie"
           }
          ],
          "scatter": [
           {
            "fillpattern": {
             "fillmode": "overlay",
             "size": 10,
             "solidity": 0.2
            },
            "type": "scatter"
           }
          ],
          "scatter3d": [
           {
            "line": {
             "colorbar": {
              "outlinewidth": 0,
              "ticks": ""
             }
            },
            "marker": {
             "colorbar": {
              "outlinewidth": 0,
              "ticks": ""
             }
            },
            "type": "scatter3d"
           }
          ],
          "scattercarpet": [
           {
            "marker": {
             "colorbar": {
              "outlinewidth": 0,
              "ticks": ""
             }
            },
            "type": "scattercarpet"
           }
          ],
          "scattergeo": [
           {
            "marker": {
             "colorbar": {
              "outlinewidth": 0,
              "ticks": ""
             }
            },
            "type": "scattergeo"
           }
          ],
          "scattergl": [
           {
            "marker": {
             "colorbar": {
              "outlinewidth": 0,
              "ticks": ""
             }
            },
            "type": "scattergl"
           }
          ],
          "scattermapbox": [
           {
            "marker": {
             "colorbar": {
              "outlinewidth": 0,
              "ticks": ""
             }
            },
            "type": "scattermapbox"
           }
          ],
          "scatterpolar": [
           {
            "marker": {
             "colorbar": {
              "outlinewidth": 0,
              "ticks": ""
             }
            },
            "type": "scatterpolar"
           }
          ],
          "scatterpolargl": [
           {
            "marker": {
             "colorbar": {
              "outlinewidth": 0,
              "ticks": ""
             }
            },
            "type": "scatterpolargl"
           }
          ],
          "scatterternary": [
           {
            "marker": {
             "colorbar": {
              "outlinewidth": 0,
              "ticks": ""
             }
            },
            "type": "scatterternary"
           }
          ],
          "surface": [
           {
            "colorbar": {
             "outlinewidth": 0,
             "ticks": ""
            },
            "colorscale": [
             [
              0,
              "#0d0887"
             ],
             [
              0.1111111111111111,
              "#46039f"
             ],
             [
              0.2222222222222222,
              "#7201a8"
             ],
             [
              0.3333333333333333,
              "#9c179e"
             ],
             [
              0.4444444444444444,
              "#bd3786"
             ],
             [
              0.5555555555555556,
              "#d8576b"
             ],
             [
              0.6666666666666666,
              "#ed7953"
             ],
             [
              0.7777777777777778,
              "#fb9f3a"
             ],
             [
              0.8888888888888888,
              "#fdca26"
             ],
             [
              1,
              "#f0f921"
             ]
            ],
            "type": "surface"
           }
          ],
          "table": [
           {
            "cells": {
             "fill": {
              "color": "#EBF0F8"
             },
             "line": {
              "color": "white"
             }
            },
            "header": {
             "fill": {
              "color": "#C8D4E3"
             },
             "line": {
              "color": "white"
             }
            },
            "type": "table"
           }
          ]
         },
         "layout": {
          "annotationdefaults": {
           "arrowcolor": "#2a3f5f",
           "arrowhead": 0,
           "arrowwidth": 1
          },
          "autotypenumbers": "strict",
          "coloraxis": {
           "colorbar": {
            "outlinewidth": 0,
            "ticks": ""
           }
          },
          "colorscale": {
           "diverging": [
            [
             0,
             "#8e0152"
            ],
            [
             0.1,
             "#c51b7d"
            ],
            [
             0.2,
             "#de77ae"
            ],
            [
             0.3,
             "#f1b6da"
            ],
            [
             0.4,
             "#fde0ef"
            ],
            [
             0.5,
             "#f7f7f7"
            ],
            [
             0.6,
             "#e6f5d0"
            ],
            [
             0.7,
             "#b8e186"
            ],
            [
             0.8,
             "#7fbc41"
            ],
            [
             0.9,
             "#4d9221"
            ],
            [
             1,
             "#276419"
            ]
           ],
           "sequential": [
            [
             0,
             "#0d0887"
            ],
            [
             0.1111111111111111,
             "#46039f"
            ],
            [
             0.2222222222222222,
             "#7201a8"
            ],
            [
             0.3333333333333333,
             "#9c179e"
            ],
            [
             0.4444444444444444,
             "#bd3786"
            ],
            [
             0.5555555555555556,
             "#d8576b"
            ],
            [
             0.6666666666666666,
             "#ed7953"
            ],
            [
             0.7777777777777778,
             "#fb9f3a"
            ],
            [
             0.8888888888888888,
             "#fdca26"
            ],
            [
             1,
             "#f0f921"
            ]
           ],
           "sequentialminus": [
            [
             0,
             "#0d0887"
            ],
            [
             0.1111111111111111,
             "#46039f"
            ],
            [
             0.2222222222222222,
             "#7201a8"
            ],
            [
             0.3333333333333333,
             "#9c179e"
            ],
            [
             0.4444444444444444,
             "#bd3786"
            ],
            [
             0.5555555555555556,
             "#d8576b"
            ],
            [
             0.6666666666666666,
             "#ed7953"
            ],
            [
             0.7777777777777778,
             "#fb9f3a"
            ],
            [
             0.8888888888888888,
             "#fdca26"
            ],
            [
             1,
             "#f0f921"
            ]
           ]
          },
          "colorway": [
           "#636efa",
           "#EF553B",
           "#00cc96",
           "#ab63fa",
           "#FFA15A",
           "#19d3f3",
           "#FF6692",
           "#B6E880",
           "#FF97FF",
           "#FECB52"
          ],
          "font": {
           "color": "#2a3f5f"
          },
          "geo": {
           "bgcolor": "white",
           "lakecolor": "white",
           "landcolor": "#E5ECF6",
           "showlakes": true,
           "showland": true,
           "subunitcolor": "white"
          },
          "hoverlabel": {
           "align": "left"
          },
          "hovermode": "closest",
          "mapbox": {
           "style": "light"
          },
          "paper_bgcolor": "white",
          "plot_bgcolor": "#E5ECF6",
          "polar": {
           "angularaxis": {
            "gridcolor": "white",
            "linecolor": "white",
            "ticks": ""
           },
           "bgcolor": "#E5ECF6",
           "radialaxis": {
            "gridcolor": "white",
            "linecolor": "white",
            "ticks": ""
           }
          },
          "scene": {
           "xaxis": {
            "backgroundcolor": "#E5ECF6",
            "gridcolor": "white",
            "gridwidth": 2,
            "linecolor": "white",
            "showbackground": true,
            "ticks": "",
            "zerolinecolor": "white"
           },
           "yaxis": {
            "backgroundcolor": "#E5ECF6",
            "gridcolor": "white",
            "gridwidth": 2,
            "linecolor": "white",
            "showbackground": true,
            "ticks": "",
            "zerolinecolor": "white"
           },
           "zaxis": {
            "backgroundcolor": "#E5ECF6",
            "gridcolor": "white",
            "gridwidth": 2,
            "linecolor": "white",
            "showbackground": true,
            "ticks": "",
            "zerolinecolor": "white"
           }
          },
          "shapedefaults": {
           "line": {
            "color": "#2a3f5f"
           }
          },
          "ternary": {
           "aaxis": {
            "gridcolor": "white",
            "linecolor": "white",
            "ticks": ""
           },
           "baxis": {
            "gridcolor": "white",
            "linecolor": "white",
            "ticks": ""
           },
           "bgcolor": "#E5ECF6",
           "caxis": {
            "gridcolor": "white",
            "linecolor": "white",
            "ticks": ""
           }
          },
          "title": {
           "x": 0.05
          },
          "xaxis": {
           "automargin": true,
           "gridcolor": "white",
           "linecolor": "white",
           "ticks": "",
           "title": {
            "standoff": 15
           },
           "zerolinecolor": "white",
           "zerolinewidth": 2
          },
          "yaxis": {
           "automargin": true,
           "gridcolor": "white",
           "linecolor": "white",
           "ticks": "",
           "title": {
            "standoff": 15
           },
           "zerolinecolor": "white",
           "zerolinewidth": 2
          }
         }
        },
        "width": 900,
        "xaxis": {
         "anchor": "y",
         "domain": [
          0,
          1
         ],
         "title": {
          "text": "JobRole"
         }
        },
        "yaxis": {
         "anchor": "x",
         "domain": [
          0,
          1
         ],
         "title": {
          "text": "count"
         }
        }
       }
      }
     },
     "metadata": {},
     "output_type": "display_data"
    }
   ],
   "source": [
    "df = px.data.tips()\n",
    "fig = px.histogram(employee_data, x=\"JobRole\", #y=\"Attrition\",\n",
    "             color='Attrition', barmode='group',\n",
    "             height=400, width=900)\n",
    "fig.show()"
   ]
  },
  {
   "cell_type": "markdown",
   "id": "0f5813f0",
   "metadata": {
    "papermill": {
     "duration": 0.021475,
     "end_time": "2022-07-28T14:15:12.111434",
     "exception": false,
     "start_time": "2022-07-28T14:15:12.089959",
     "status": "completed"
    },
    "tags": []
   },
   "source": [
    "**Among job roles, most laboratory technicians have departed from their jobs, only for research scientists, sales executives and sales representatives (% wise) to trail behind. We could look into salaries of each job roles and see if that may be the reason.**"
   ]
  },
  {
   "cell_type": "code",
   "execution_count": 89,
   "id": "bed606d3",
   "metadata": {
    "execution": {
     "iopub.execute_input": "2022-07-28T14:15:12.158730Z",
     "iopub.status.busy": "2022-07-28T14:15:12.158003Z",
     "iopub.status.idle": "2022-07-28T14:15:13.069438Z",
     "shell.execute_reply": "2022-07-28T14:15:13.068513Z"
    },
    "papermill": {
     "duration": 0.937699,
     "end_time": "2022-07-28T14:15:13.071782",
     "exception": false,
     "start_time": "2022-07-28T14:15:12.134083",
     "status": "completed"
    },
    "tags": []
   },
   "outputs": [
    {
     "data": {
      "text/plain": [
       "(array([0, 1, 2, 3, 4, 5, 6, 7, 8]),\n",
       " [Text(0, 0, 'Sales Executive'),\n",
       "  Text(1, 0, 'Research Scientist'),\n",
       "  Text(2, 0, 'Laboratory Technician'),\n",
       "  Text(3, 0, 'Manufacturing Director'),\n",
       "  Text(4, 0, 'Healthcare Representative'),\n",
       "  Text(5, 0, 'Manager'),\n",
       "  Text(6, 0, 'Sales Representative'),\n",
       "  Text(7, 0, 'Research Director'),\n",
       "  Text(8, 0, 'Human Resources')])"
      ]
     },
     "execution_count": 89,
     "metadata": {},
     "output_type": "execute_result"
    },
    {
     "data": {
      "image/png": "[encoded data removed]",
      "text/plain": [
       "<Figure size 720x432 with 1 Axes>"
      ]
     },
     "metadata": {},
     "output_type": "display_data"
    }
   ],
   "source": [
    "plt.figure(figsize=(10,6))\n",
    "sns.barplot(x='JobRole', y='MonthlyIncome', hue='Attrition', data=employee_data)\n",
    "plt.xticks(rotation=90)"
   ]
  },
  {
   "cell_type": "markdown",
   "id": "3475e952",
   "metadata": {
    "papermill": {
     "duration": 0.021972,
     "end_time": "2022-07-28T14:15:13.115951",
     "exception": false,
     "start_time": "2022-07-28T14:15:13.093979",
     "status": "completed"
    },
    "tags": []
   },
   "source": [
    "**As doubted, laboratory technicians, research scientists and sales representatives and executives have very low salary and this could be a major factor behind attritions.**\n",
    "\n",
    "**Also, as we had seen earlier, the HR department had the most attritions and we can see they have very low salaries as well so once again, this is something to think about.**"
   ]
  },
  {
   "cell_type": "code",
   "execution_count": 90,
   "id": "c9f8b89d",
   "metadata": {
    "execution": {
     "iopub.execute_input": "2022-07-28T14:15:13.164153Z",
     "iopub.status.busy": "2022-07-28T14:15:13.163547Z",
     "iopub.status.idle": "2022-07-28T14:15:13.354447Z",
     "shell.execute_reply": "2022-07-28T14:15:13.353121Z"
    },
    "papermill": {
     "duration": 0.218663,
     "end_time": "2022-07-28T14:15:13.357898",
     "exception": false,
     "start_time": "2022-07-28T14:15:13.139235",
     "status": "completed"
    },
    "tags": []
   },
   "outputs": [
    {
     "data": {
      "text/plain": [
       "(array([0, 1, 2, 3, 4, 5]),\n",
       " [Text(0, 0, 'Life Sciences'),\n",
       "  Text(1, 0, 'Other'),\n",
       "  Text(2, 0, 'Medical'),\n",
       "  Text(3, 0, 'Marketing'),\n",
       "  Text(4, 0, 'Technical Degree'),\n",
       "  Text(5, 0, 'Human Resources')])"
      ]
     },
     "execution_count": 90,
     "metadata": {},
     "output_type": "execute_result"
    },
    {
     "data": {
      "image/png": "[encoded data removed]",
      "text/plain": [
       "<Figure size 432x288 with 1 Axes>"
      ]
     },
     "metadata": {},
     "output_type": "display_data"
    }
   ],
   "source": [
    "sns.countplot(x='EducationField', hue='Attrition', data=employee_data);\n",
    "plt.xticks(rotation=45)"
   ]
  },
  {
   "cell_type": "markdown",
   "id": "af37973c",
   "metadata": {
    "papermill": {
     "duration": 0.0226,
     "end_time": "2022-07-28T14:15:13.403328",
     "exception": false,
     "start_time": "2022-07-28T14:15:13.380728",
     "status": "completed"
    },
    "tags": []
   },
   "source": [
    "**I don't think the degrees of employees really matter here as most of the number of attritions are similar.**"
   ]
  },
  {
   "cell_type": "code",
   "execution_count": 91,
   "id": "44401dde",
   "metadata": {
    "execution": {
     "iopub.execute_input": "2022-07-28T14:15:13.451857Z",
     "iopub.status.busy": "2022-07-28T14:15:13.450949Z",
     "iopub.status.idle": "2022-07-28T14:15:13.640523Z",
     "shell.execute_reply": "2022-07-28T14:15:13.639710Z"
    },
    "papermill": {
     "duration": 0.216576,
     "end_time": "2022-07-28T14:15:13.642921",
     "exception": false,
     "start_time": "2022-07-28T14:15:13.426345",
     "status": "completed"
    },
    "tags": []
   },
   "outputs": [
    {
     "data": {
      "image/png": "[encoded data removed]",
      "text/plain": [
       "<Figure size 432x288 with 1 Axes>"
      ]
     },
     "metadata": {},
     "output_type": "display_data"
    }
   ],
   "source": [
    "sns.countplot(x='OverTime', hue='Attrition', data=employee_data);"
   ]
  },
  {
   "cell_type": "markdown",
   "id": "010fcea0",
   "metadata": {
    "papermill": {
     "duration": 0.023615,
     "end_time": "2022-07-28T14:15:13.690365",
     "exception": false,
     "start_time": "2022-07-28T14:15:13.666750",
     "status": "completed"
    },
    "tags": []
   },
   "source": [
    "**Overtime hours aren't a very crucial factor either.**"
   ]
  },
  {
   "cell_type": "code",
   "execution_count": 92,
   "id": "4400fff9",
   "metadata": {
    "execution": {
     "iopub.execute_input": "2022-07-28T14:15:13.738854Z",
     "iopub.status.busy": "2022-07-28T14:15:13.738046Z",
     "iopub.status.idle": "2022-07-28T14:15:13.906393Z",
     "shell.execute_reply": "2022-07-28T14:15:13.904913Z"
    },
    "papermill": {
     "duration": 0.195915,
     "end_time": "2022-07-28T14:15:13.909139",
     "exception": false,
     "start_time": "2022-07-28T14:15:13.713224",
     "status": "completed"
    },
    "tags": []
   },
   "outputs": [
    {
     "data": {
      "image/png": "[encoded data removed]",
      "text/plain": [
       "<Figure size 432x288 with 1 Axes>"
      ]
     },
     "metadata": {},
     "output_type": "display_data"
    }
   ],
   "source": [
    "sns.countplot(x='EnvironmentSatisfaction', data=employee_data);"
   ]
  },
  {
   "cell_type": "markdown",
   "id": "6961386a",
   "metadata": {
    "papermill": {
     "duration": 0.023505,
     "end_time": "2022-07-28T14:15:13.955958",
     "exception": false,
     "start_time": "2022-07-28T14:15:13.932453",
     "status": "completed"
    },
    "tags": []
   },
   "source": [
    "**Most employees seem to be satisfied with the working environment.**"
   ]
  },
  {
   "cell_type": "markdown",
   "id": "d94ebc0b",
   "metadata": {
    "papermill": {
     "duration": 0.024558,
     "end_time": "2022-07-28T14:15:14.004372",
     "exception": false,
     "start_time": "2022-07-28T14:15:13.979814",
     "status": "completed"
    },
    "tags": []
   },
   "source": [
    "# Splitting Data"
   ]
  },
  {
   "cell_type": "code",
   "execution_count": 93,
   "id": "17eb51e2",
   "metadata": {
    "execution": {
     "iopub.execute_input": "2022-07-28T14:15:14.057032Z",
     "iopub.status.busy": "2022-07-28T14:15:14.056629Z",
     "iopub.status.idle": "2022-07-28T14:15:14.064763Z",
     "shell.execute_reply": "2022-07-28T14:15:14.063869Z"
    },
    "papermill": {
     "duration": 0.038922,
     "end_time": "2022-07-28T14:15:14.067095",
     "exception": false,
     "start_time": "2022-07-28T14:15:14.028173",
     "status": "completed"
    },
    "tags": []
   },
   "outputs": [],
   "source": [
    "# Separating the features from the target (In the process, we will drop features that we don't think are key factors.)\n",
    "X = employee_data.drop(['Attrition','BusinessTravel','EducationField','OverTime'],axis=1) # Features\n",
    "y = employee_data['Attrition'] # Target"
   ]
  },
  {
   "cell_type": "code",
   "execution_count": 94,
   "id": "ee9dc661",
   "metadata": {
    "execution": {
     "iopub.execute_input": "2022-07-28T14:15:14.116841Z",
     "iopub.status.busy": "2022-07-28T14:15:14.115461Z",
     "iopub.status.idle": "2022-07-28T14:15:14.127722Z",
     "shell.execute_reply": "2022-07-28T14:15:14.126757Z"
    },
    "papermill": {
     "duration": 0.039283,
     "end_time": "2022-07-28T14:15:14.130203",
     "exception": false,
     "start_time": "2022-07-28T14:15:14.090920",
     "status": "completed"
    },
    "tags": []
   },
   "outputs": [],
   "source": [
    "# Label encoding the categorical variables\n",
    "\n",
    "X['Department'] = preprocessing.LabelEncoder().fit_transform(X['Department'])\n",
    "X['Education'] = preprocessing.LabelEncoder().fit_transform(X['Education'])\n",
    "X['JobRole'] = preprocessing.LabelEncoder().fit_transform(X['JobRole'])\n",
    "X['Gender'] = preprocessing.LabelEncoder().fit_transform(X['Gender'])\n",
    "X['MaritalStatus'] = preprocessing.LabelEncoder().fit_transform(X['MaritalStatus'])\n",
    "X['Over18'] = preprocessing.LabelEncoder().fit_transform(X['Over18'])"
   ]
  },
  {
   "cell_type": "code",
   "execution_count": 95,
   "id": "297fc9a8",
   "metadata": {
    "execution": {
     "iopub.execute_input": "2022-07-28T14:15:14.178708Z",
     "iopub.status.busy": "2022-07-28T14:15:14.177979Z",
     "iopub.status.idle": "2022-07-28T14:15:14.187223Z",
     "shell.execute_reply": "2022-07-28T14:15:14.186420Z"
    },
    "papermill": {
     "duration": 0.036459,
     "end_time": "2022-07-28T14:15:14.189683",
     "exception": false,
     "start_time": "2022-07-28T14:15:14.153224",
     "status": "completed"
    },
    "tags": []
   },
   "outputs": [],
   "source": [
    "# Data Standardization\n",
    "Scaler = StandardScaler()\n",
    "X = Scaler.fit_transform(X)"
   ]
  },
  {
   "cell_type": "code",
   "execution_count": 96,
   "id": "2c2a17d3",
   "metadata": {
    "execution": {
     "iopub.execute_input": "2022-07-28T14:15:14.238108Z",
     "iopub.status.busy": "2022-07-28T14:15:14.236980Z",
     "iopub.status.idle": "2022-07-28T14:15:14.243662Z",
     "shell.execute_reply": "2022-07-28T14:15:14.242807Z"
    },
    "papermill": {
     "duration": 0.033361,
     "end_time": "2022-07-28T14:15:14.246086",
     "exception": false,
     "start_time": "2022-07-28T14:15:14.212725",
     "status": "completed"
    },
    "tags": []
   },
   "outputs": [],
   "source": [
    "# Splitting Data for Training and Testing\n",
    "X_train, X_test, y_train, y_test = train_test_split(X,y,test_size = 0.2, random_state = 2)"
   ]
  },
  {
   "cell_type": "code",
   "execution_count": 97,
   "id": "e15300a9",
   "metadata": {
    "execution": {
     "iopub.execute_input": "2022-07-28T14:15:14.295055Z",
     "iopub.status.busy": "2022-07-28T14:15:14.294308Z",
     "iopub.status.idle": "2022-07-28T14:15:14.300270Z",
     "shell.execute_reply": "2022-07-28T14:15:14.298926Z"
    },
    "papermill": {
     "duration": 0.033785,
     "end_time": "2022-07-28T14:15:14.303604",
     "exception": false,
     "start_time": "2022-07-28T14:15:14.269819",
     "status": "completed"
    },
    "tags": []
   },
   "outputs": [
    {
     "name": "stdout",
     "output_type": "stream",
     "text": [
      "(1470, 29)\n",
      "(1176, 29)\n",
      "(294, 29)\n"
     ]
    }
   ],
   "source": [
    "print(X.shape)\n",
    "print(X_train.shape)\n",
    "print(X_test.shape)"
   ]
  },
  {
   "cell_type": "markdown",
   "id": "41a5ac82",
   "metadata": {
    "papermill": {
     "duration": 0.022772,
     "end_time": "2022-07-28T14:15:14.349943",
     "exception": false,
     "start_time": "2022-07-28T14:15:14.327171",
     "status": "completed"
    },
    "tags": []
   },
   "source": [
    "# Model Building"
   ]
  },
  {
   "cell_type": "markdown",
   "id": "5289f4f0",
   "metadata": {
    "papermill": {
     "duration": 0.02312,
     "end_time": "2022-07-28T14:15:14.396269",
     "exception": false,
     "start_time": "2022-07-28T14:15:14.373149",
     "status": "completed"
    },
    "tags": []
   },
   "source": [
    "**I will build three different models - Random Forest, Logistic Regression and SVM for this classification problem.**"
   ]
  },
  {
   "cell_type": "code",
   "execution_count": 98,
   "id": "63430c74",
   "metadata": {
    "execution": {
     "iopub.execute_input": "2022-07-28T14:15:14.445837Z",
     "iopub.status.busy": "2022-07-28T14:15:14.445435Z",
     "iopub.status.idle": "2022-07-28T14:15:17.688110Z",
     "shell.execute_reply": "2022-07-28T14:15:17.686450Z"
    },
    "papermill": {
     "duration": 3.270438,
     "end_time": "2022-07-28T14:15:17.691166",
     "exception": false,
     "start_time": "2022-07-28T14:15:14.420728",
     "status": "completed"
    },
    "tags": []
   },
   "outputs": [
    {
     "name": "stdout",
     "output_type": "stream",
     "text": [
      "Testing model: Random Forest\n",
      "Cross_Val Mean: 0.8010399984308985, Training Accuracy: 1.0, Testing Accuracy: 0.8401360544217688\n",
      "\n",
      "Testing model: Logistic Regression\n",
      "Cross_Val Mean: 0.8219775205615518, Training Accuracy: 0.8656462585034014, Testing Accuracy: 0.8571428571428571\n",
      "\n",
      "Testing model: SVM\n",
      "Cross_Val Mean: 0.7660141990060427, Training Accuracy: 0.8392857142857143, Testing Accuracy: 0.8367346938775511\n",
      "\n"
     ]
    }
   ],
   "source": [
    "models = [] # ML Models\n",
    "models.append((\"Random Forest\", RandomForestClassifier()))\n",
    "models.append((\"Logistic Regression\", LogisticRegression(solver='liblinear')))\n",
    "models.append((\"SVM\", svm.SVC(kernel='linear')))\n",
    "\n",
    "n_folds = 5\n",
    "results = []\n",
    "for name, model in models:\n",
    "    kfold = model_selection.KFold(n_splits=n_folds)\n",
    "    print(\"Testing model:\", name)\n",
    "    \n",
    "    # Cross Validation Score\n",
    "    cv_results = model_selection.cross_val_score(model, X_train, y_train, cv=kfold, scoring=\"f1_weighted\", verbose=0, n_jobs=-1)\n",
    "    \n",
    "    # Fitting the Model\n",
    "    model.fit(X_train,y_train)\n",
    "    \n",
    "    # Model Predictions and Finding Accuracy\n",
    "    train_pred = model.predict(X_train)\n",
    "    Training_score = accuracy_score(train_pred,y_train)\n",
    "    test_pred = model.predict(X_test)\n",
    "    Test_score = accuracy_score(test_pred,y_test)\n",
    "    \n",
    "    results.append(cv_results)\n",
    "    \n",
    "    msg = f\"Cross_Val Mean: {cv_results.mean()}, Training Accuracy: {Training_score}, Testing Accuracy: {Test_score}\"\n",
    "    print(msg + \"\\n\")"
   ]
  },
  {
   "cell_type": "markdown",
   "id": "ca89770a",
   "metadata": {
    "papermill": {
     "duration": 0.025758,
     "end_time": "2022-07-28T14:15:17.742264",
     "exception": false,
     "start_time": "2022-07-28T14:15:17.716506",
     "status": "completed"
    },
    "tags": []
   },
   "source": [
    "**Average cross-validation score for all three models are quite similar and relatively high.**\n",
    "\n",
    "**But interestingly, we can see that a random forest model gives 100% accuracy while the other two are ~85% accurate for the training data. However, for the testing data, all the models give ~ 85% accuracy while the logistic Regression model predicts most accurately.**"
   ]
  },
  {
   "cell_type": "markdown",
   "id": "3f1d47b8",
   "metadata": {
    "papermill": {
     "duration": 0.023559,
     "end_time": "2022-07-28T14:15:17.792444",
     "exception": false,
     "start_time": "2022-07-28T14:15:17.768885",
     "status": "completed"
    },
    "tags": []
   },
   "source": [
    "# Conclusion"
   ]
  },
  {
   "cell_type": "markdown",
   "id": "2ad7044a",
   "metadata": {
    "papermill": {
     "duration": 0.02343,
     "end_time": "2022-07-28T14:15:17.840996",
     "exception": false,
     "start_time": "2022-07-28T14:15:17.817566",
     "status": "completed"
    },
    "tags": []
   },
   "source": [
    "So basically the workflow is like this: Import libraries and dataset -> check for missing values -> perform necessary imputation -> perform necessary preprocessing -> exploratory data analysis -> label encoding -> data standardization -> split data -> train model -> check its accuracy -> improve model or try other ones.\n",
    "\n",
    "**To get better accuracy we could try different models, do better feature engineering or use more training data.**\n",
    "\n",
    "**Please do leave an upvote if you like it and check out my other notebooks.**"
   ]
  }
 ],
 "metadata": {
  "kernelspec": {
   "display_name": "Python 3.9.13 64-bit",
   "language": "python",
   "name": "python3"
  },
  "language_info": {
   "codemirror_mode": {
    "name": "ipython",
    "version": 3
   },
   "file_extension": ".py",
   "mimetype": "text/x-python",
   "name": "python",
   "nbconvert_exporter": "python",
   "pygments_lexer": "ipython3",
   "version": "3.9.13"
  },
  "papermill": {
   "default_parameters": {},
   "duration": 27.430097,
   "end_time": "2022-07-28T14:15:20.486976",
   "environment_variables": {},
   "exception": null,
   "input_path": "__notebook__.ipynb",
   "output_path": "__notebook__.ipynb",
   "parameters": {},
   "start_time": "2022-07-28T14:14:53.056879",
   "version": "2.3.4"
  },
  "vscode": {
   "interpreter": {
    "hash": "ffc99003c836f3e8e1e2dfff22f40093d8ba43cbd40ad6efaa547d62653e2415"
   }
  }
 },
 "nbformat": 4,
 "nbformat_minor": 5
}
